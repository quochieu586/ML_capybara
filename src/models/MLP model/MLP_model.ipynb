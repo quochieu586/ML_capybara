{
 "cells": [
  {
   "cell_type": "code",
   "execution_count": 30,
   "metadata": {},
   "outputs": [],
   "source": [
    "import torch\n",
    "import torch.nn as nn\n",
    "import torch.optim as optim\n",
    "import optuna  # Import Optuna for hyperparameter tuning\n",
    "from sklearn.metrics import accuracy_score\n",
    "from sklearn.preprocessing import LabelEncoder\n",
    "import numpy as np\n",
    "import os\n",
    "import sys\n",
    "import nltk\n",
    "import ssl\n",
    "import matplotlib.pyplot as plt\n",
    "from sklearn.metrics import f1_score, roc_auc_score, roc_curve\n",
    "import torch.nn.functional as F"
   ]
  },
  {
   "cell_type": "code",
   "execution_count": 2,
   "metadata": {},
   "outputs": [
    {
     "name": "stderr",
     "output_type": "stream",
     "text": [
      "[nltk_data] Downloading package punkt to /Users/dohao/nltk_data...\n",
      "[nltk_data]   Package punkt is already up-to-date!\n",
      "[nltk_data] Downloading package stopwords to /Users/dohao/nltk_data...\n",
      "[nltk_data]   Package stopwords is already up-to-date!\n",
      "[nltk_data] Downloading package wordnet to /Users/dohao/nltk_data...\n",
      "[nltk_data]   Package wordnet is already up-to-date!\n",
      "[nltk_data] Downloading package omw-1.4 to /Users/dohao/nltk_data...\n",
      "[nltk_data]   Package omw-1.4 is already up-to-date!\n"
     ]
    },
    {
     "data": {
      "text/plain": [
       "True"
      ]
     },
     "execution_count": 2,
     "metadata": {},
     "output_type": "execute_result"
    }
   ],
   "source": [
    "# Fix SSL issue for NLTK\n",
    "try:\n",
    "    _create_unverified_https_context = ssl._create_unverified_context\n",
    "except AttributeError:\n",
    "    pass\n",
    "else:\n",
    "    ssl._create_default_https_context = _create_unverified_https_context\n",
    "\n",
    "# Download NLTK dependencies\n",
    "nltk.download('punkt')\n",
    "nltk.download('stopwords')\n",
    "nltk.download('wordnet')\n",
    "nltk.download('omw-1.4')"
   ]
  },
  {
   "cell_type": "code",
   "execution_count": 21,
   "metadata": {},
   "outputs": [
    {
     "name": "stdout",
     "output_type": "stream",
     "text": [
      "['visualization', 'features', '__init__.py', 'models', '__pycache__', 'data']\n"
     ]
    }
   ],
   "source": [
    "notebook_dir = os.getcwd()\n",
    "project_dir = os.path.dirname(notebook_dir)\n",
    "project_dir = os.path.dirname(project_dir)\n",
    "sys.path.append(project_dir)\n",
    "print(os.listdir(project_dir))\n",
    "\n",
    "\n",
    "from data import preprocess, feature_extraction\n"
   ]
  },
  {
   "cell_type": "code",
   "execution_count": 22,
   "metadata": {},
   "outputs": [],
   "source": [
    "# Step 1: Load and preprocess the data\n",
    "pre_proc = preprocess.Preprocessing()\n",
    "df = pre_proc.read_CSV('test.csv')\n",
    "\n",
    "# Ensure the column names exist\n",
    "if 'text' not in df.columns or 'sentiment' not in df.columns:\n",
    "    raise ValueError(\"Error: Columns 'text' or 'sentiment' not found in CSV file.\")\n",
    "\n",
    "# Preprocess text\n",
    "df['text'] = df['text'].fillna(\"\")  # Ensure no NaN values\n",
    "texts = df['text'].apply(pre_proc.preprocess).values\n",
    "labels = df['sentiment'].values  # Labels\n",
    "\n",
    "# Convert Labels to Numeric\n",
    "label_encoder = LabelEncoder()\n",
    "labels = label_encoder.fit_transform(labels)"
   ]
  },
  {
   "cell_type": "code",
   "execution_count": 54,
   "metadata": {},
   "outputs": [
    {
     "name": "stdout",
     "output_type": "stream",
     "text": [
      "  (0, 20586)\t0.2060972126082233\n",
      "  (0, 32740)\t0.33042138899367796\n",
      "  (0, 7455)\t0.1577497658464641\n",
      "  (0, 17470)\t0.37046382100145653\n",
      "  (0, 20652)\t0.37046382100145653\n",
      "  (0, 32745)\t0.37046382100145653\n",
      "  (0, 7573)\t0.37046382100145653\n",
      "  (0, 20653)\t0.37046382100145653\n",
      "  (0, 32746)\t0.37046382100145653\n",
      "  (1, 32857)\t0.18149808317763982\n",
      "  (1, 797)\t0.12829663278430056\n",
      "  (1, 30406)\t0.09752926691970473\n",
      "  (1, 10425)\t0.15467663017508743\n",
      "  (1, 29453)\t0.18149808317763982\n",
      "  (1, 33697)\t0.18149808317763982\n",
      "  (1, 12503)\t0.18149808317763982\n",
      "  (1, 13870)\t0.08300945032358871\n",
      "  (1, 39298)\t0.15467663017508743\n",
      "  (1, 5469)\t0.17281714064119208\n",
      "  (1, 32819)\t0.18149808317763982\n",
      "  (1, 3280)\t0.18149808317763982\n",
      "  (1, 32858)\t0.18149808317763982\n",
      "  (1, 827)\t0.18149808317763982\n",
      "  (1, 30438)\t0.18149808317763982\n",
      "  (1, 10428)\t0.18149808317763982\n",
      "  :\t:\n",
      "  (3532, 26342)\t0.23930670114164032\n",
      "  (3532, 43933)\t0.23930670114164032\n",
      "  (3532, 40327)\t0.23930670114164032\n",
      "  (3532, 25581)\t0.23930670114164032\n",
      "  (3532, 36096)\t0.23930670114164032\n",
      "  (3532, 26343)\t0.23930670114164032\n",
      "  (3532, 43934)\t0.23930670114164032\n",
      "  (3532, 40328)\t0.23930670114164032\n",
      "  (3532, 13819)\t0.23930670114164032\n",
      "  (3532, 25582)\t0.23930670114164032\n",
      "  (3533, 7128)\t0.19527550021304552\n",
      "  (3533, 1014)\t0.242043802424396\n",
      "  (3533, 17567)\t0.26359676032859286\n",
      "  (3533, 27468)\t0.26359676032859286\n",
      "  (3533, 26344)\t0.26359676032859286\n",
      "  (3533, 2546)\t0.26359676032859286\n",
      "  (3533, 17568)\t0.26359676032859286\n",
      "  (3533, 27469)\t0.26359676032859286\n",
      "  (3533, 1017)\t0.26359676032859286\n",
      "  (3533, 7140)\t0.26359676032859286\n",
      "  (3533, 26345)\t0.26359676032859286\n",
      "  (3533, 17569)\t0.26359676032859286\n",
      "  (3533, 27470)\t0.26359676032859286\n",
      "  (3533, 1018)\t0.26359676032859286\n",
      "  (3533, 7141)\t0.26359676032859286\n"
     ]
    }
   ],
   "source": [
    "# Feature extraction using TF-IDF\n",
    "feature_extractor = feature_extraction.FeatureExtraction()\n",
    "X_tfidf = feature_extractor.tfidf_vectorize(texts)\n",
    "print(X_tfidf)\n",
    "\n",
    "# Split dataset\n",
    "X_train, X_val, X_test, y_train, y_val, y_test = feature_extractor.split_dataset(X_tfidf, labels)\n",
    "\n",
    "# Convert to PyTorch tensors\n",
    "X_train_tensor = torch.tensor(X_train.toarray(), dtype=torch.float32)\n",
    "X_val_tensor = torch.tensor(X_val.toarray(), dtype=torch.float32)\n",
    "X_test_tensor = torch.tensor(X_test.toarray(), dtype=torch.float32)\n",
    "\n",
    "y_train_tensor = torch.tensor(y_train, dtype=torch.long)\n",
    "y_val_tensor = torch.tensor(y_val, dtype=torch.long)\n",
    "y_test_tensor = torch.tensor(y_test, dtype=torch.long)"
   ]
  },
  {
   "cell_type": "code",
   "execution_count": null,
   "metadata": {},
   "outputs": [],
   "source": [
    "# Define the Complex MLP model\n",
    "class ComplexMLP(nn.Module):\n",
    "    def __init__(self, input_dim, hidden_dim, output_dim, dropout_rate):\n",
    "        super(ComplexMLP, self).__init__()\n",
    "        \n",
    "        # Define layers\n",
    "        self.fc1 = nn.Linear(input_dim, hidden_dim)\n",
    "        self.bn1 = nn.BatchNorm1d(hidden_dim)\n",
    "        self.relu1 = nn.LeakyReLU(negative_slope=0.01)\n",
    "        self.dropout1 = nn.Dropout(p=dropout_rate)\n",
    "        \n",
    "        self.fc2 = nn.Linear(hidden_dim, hidden_dim)\n",
    "        self.bn2 = nn.BatchNorm1d(hidden_dim)\n",
    "        self.relu2 = nn.LeakyReLU(negative_slope=0.01)\n",
    "        self.dropout2 = nn.Dropout(p=dropout_rate)\n",
    "        \n",
    "        self.fc3 = nn.Linear(hidden_dim, hidden_dim)\n",
    "        self.bn3 = nn.BatchNorm1d(hidden_dim)\n",
    "        self.relu3 = nn.LeakyReLU(negative_slope=0.01)\n",
    "        self.dropout3 = nn.Dropout(p=dropout_rate)\n",
    "\n",
    "        self.fc4 = nn.Linear(hidden_dim, output_dim)\n",
    "\n",
    "    def forward(self, x):\n",
    "        x = self.fc1(x)\n",
    "        x = self.bn1(x)\n",
    "        x = self.relu1(x)\n",
    "        x = self.dropout1(x)\n",
    "        \n",
    "        x = self.fc2(x)\n",
    "        x = self.bn2(x)\n",
    "        x = self.relu2(x)\n",
    "        x = self.dropout2(x)\n",
    "\n",
    "        x = self.fc3(x)\n",
    "        x = self.bn3(x)\n",
    "        x = self.relu3(x)\n",
    "        x = self.dropout3(x)\n",
    "\n",
    "        x = self.fc4(x)\n",
    "        # x = F.softmax(x, dim=1)  # Apply softmax to get probabilities\n",
    "        return x"
   ]
  },
  {
   "cell_type": "code",
   "execution_count": null,
   "metadata": {},
   "outputs": [],
   "source": [
    "# Define model hyperparameters\n",
    "input_dim = X_train_tensor.shape[1]  # Number of features\n",
    "hidden_dim = 256  # Increased hidden dimension\n",
    "output_dim = len(np.unique(y_train))  # Number of classes\n",
    "\n",
    "\n",
    "def objective(trial):\n",
    "    # Suggest hyperparameters\n",
    "    dropout_rate = trial.suggest_float(\"dropout_rate\", 0.2, 0.5)  # Dropout range: 0.2 - 0.5\n",
    "    l2_reg = trial.suggest_float(\"l2_reg\", 1e-6, 1e-3, log=True)   # L2 Regularization range\n",
    "    \n",
    "    # Initialize model\n",
    "    model = ComplexMLP(input_dim, hidden_dim=hidden_dim, output_dim=len(np.unique(y_train)), dropout_rate=dropout_rate)\n",
    "    criterion = nn.CrossEntropyLoss()\n",
    "    optimizer = optim.Adam(model.parameters(), lr=0.001, weight_decay=l2_reg)\n",
    "    \n",
    "    # Train model\n",
    "    epochs = 10\n",
    "    for epoch in range(epochs):\n",
    "        model.train()\n",
    "        optimizer.zero_grad()\n",
    "        outputs = model(X_train_tensor)\n",
    "        loss = criterion(outputs, y_train_tensor)\n",
    "        loss.backward()\n",
    "        optimizer.step()\n",
    "\n",
    "    # Validation Step\n",
    "    model.eval()\n",
    "    with torch.no_grad():\n",
    "        val_outputs = model(X_val_tensor)\n",
    "        _, predicted_val = torch.max(val_outputs, 1)\n",
    "        val_accuracy = accuracy_score(y_val_tensor.numpy(), predicted_val.numpy())\n",
    "\n",
    "    return val_accuracy  # Optuna tries to maximize validation accuracy"
   ]
  },
  {
   "cell_type": "code",
   "execution_count": 63,
   "metadata": {},
   "outputs": [
    {
     "name": "stderr",
     "output_type": "stream",
     "text": [
      "[I 2025-03-02 23:57:21,942] A new study created in memory with name: no-name-8943d781-50eb-49c9-8b1b-b64a3755891c\n",
      "[I 2025-03-02 23:57:24,727] Trial 0 finished with value: 0.42776203966005666 and parameters: {'dropout_rate': 0.2513571739150826, 'l2_reg': 1.0521127554867249e-05}. Best is trial 0 with value: 0.42776203966005666.\n",
      "[I 2025-03-02 23:57:26,955] Trial 1 finished with value: 0.4192634560906516 and parameters: {'dropout_rate': 0.37234082125863643, 'l2_reg': 3.950409088119744e-06}. Best is trial 0 with value: 0.42776203966005666.\n",
      "[I 2025-03-02 23:57:29,135] Trial 2 finished with value: 0.48158640226628896 and parameters: {'dropout_rate': 0.30144175186557065, 'l2_reg': 1.0850600878483625e-05}. Best is trial 2 with value: 0.48158640226628896.\n",
      "[I 2025-03-02 23:57:31,294] Trial 3 finished with value: 0.5184135977337111 and parameters: {'dropout_rate': 0.49675429284033257, 'l2_reg': 2.0499577166559802e-06}. Best is trial 3 with value: 0.5184135977337111.\n",
      "[I 2025-03-02 23:57:33,607] Trial 4 finished with value: 0.3881019830028329 and parameters: {'dropout_rate': 0.20520804466130524, 'l2_reg': 0.00022438701590423956}. Best is trial 3 with value: 0.5184135977337111.\n",
      "[I 2025-03-02 23:57:35,835] Trial 5 finished with value: 0.5127478753541076 and parameters: {'dropout_rate': 0.28018591047971186, 'l2_reg': 0.0002910733006451084}. Best is trial 3 with value: 0.5184135977337111.\n",
      "[I 2025-03-02 23:57:38,171] Trial 6 finished with value: 0.45892351274787535 and parameters: {'dropout_rate': 0.4623530004668422, 'l2_reg': 1.5475037631508346e-05}. Best is trial 3 with value: 0.5184135977337111.\n",
      "[I 2025-03-02 23:57:40,513] Trial 7 finished with value: 0.40509915014164305 and parameters: {'dropout_rate': 0.290093865276556, 'l2_reg': 4.250860294133007e-06}. Best is trial 3 with value: 0.5184135977337111.\n",
      "[I 2025-03-02 23:57:42,800] Trial 8 finished with value: 0.4192634560906516 and parameters: {'dropout_rate': 0.4238495608066136, 'l2_reg': 6.281910566551018e-05}. Best is trial 3 with value: 0.5184135977337111.\n",
      "[I 2025-03-02 23:57:45,019] Trial 9 finished with value: 0.45325779036827196 and parameters: {'dropout_rate': 0.2506419726659665, 'l2_reg': 2.4455234542629407e-05}. Best is trial 3 with value: 0.5184135977337111.\n",
      "[I 2025-03-02 23:57:47,221] Trial 10 finished with value: 0.42776203966005666 and parameters: {'dropout_rate': 0.4991104220163645, 'l2_reg': 1.09136478311594e-06}. Best is trial 3 with value: 0.5184135977337111.\n",
      "[I 2025-03-02 23:57:49,391] Trial 11 finished with value: 0.3314447592067989 and parameters: {'dropout_rate': 0.3611106023213101, 'l2_reg': 0.0008578916968267319}. Best is trial 3 with value: 0.5184135977337111.\n",
      "[I 2025-03-02 23:57:51,653] Trial 12 finished with value: 0.45892351274787535 and parameters: {'dropout_rate': 0.405516583491645, 'l2_reg': 0.00010363102723758945}. Best is trial 3 with value: 0.5184135977337111.\n",
      "[I 2025-03-02 23:57:53,899] Trial 13 finished with value: 0.4730878186968839 and parameters: {'dropout_rate': 0.3005563309347077, 'l2_reg': 0.0004880697510216223}. Best is trial 3 with value: 0.5184135977337111.\n",
      "[I 2025-03-02 23:57:56,099] Trial 14 finished with value: 0.42492917847025496 and parameters: {'dropout_rate': 0.3334839138441609, 'l2_reg': 1.0794770419523319e-06}. Best is trial 3 with value: 0.5184135977337111.\n",
      "[I 2025-03-02 23:57:58,386] Trial 15 finished with value: 0.3937677053824363 and parameters: {'dropout_rate': 0.4882011259226482, 'l2_reg': 6.497221598001548e-05}. Best is trial 3 with value: 0.5184135977337111.\n",
      "[I 2025-03-02 23:58:00,574] Trial 16 finished with value: 0.40793201133144474 and parameters: {'dropout_rate': 0.42768474544704177, 'l2_reg': 0.000250714495554165}. Best is trial 3 with value: 0.5184135977337111.\n",
      "[I 2025-03-02 23:58:02,846] Trial 17 finished with value: 0.4447592067988669 and parameters: {'dropout_rate': 0.20675130223904406, 'l2_reg': 2.963270645925743e-06}. Best is trial 3 with value: 0.5184135977337111.\n",
      "[I 2025-03-02 23:58:05,040] Trial 18 finished with value: 0.3626062322946176 and parameters: {'dropout_rate': 0.2588156324145995, 'l2_reg': 0.00015460432154786158}. Best is trial 3 with value: 0.5184135977337111.\n",
      "[I 2025-03-02 23:58:07,319] Trial 19 finished with value: 0.36827195467422097 and parameters: {'dropout_rate': 0.3382413641100304, 'l2_reg': 3.122469663939651e-05}. Best is trial 3 with value: 0.5184135977337111.\n"
     ]
    },
    {
     "name": "stdout",
     "output_type": "stream",
     "text": [
      "Best Hyperparameters: {'dropout_rate': 0.49675429284033257, 'l2_reg': 2.0499577166559802e-06}\n"
     ]
    }
   ],
   "source": [
    "# Run Optuna Hyperparameter Optimization\n",
    "study = optuna.create_study(direction=\"maximize\")  # We want to maximize validation accuracy\n",
    "study.optimize(objective, n_trials=20)  # Run 20 trials\n",
    "\n",
    "# Print best hyperparameters\n",
    "best_hyperparams = study.best_params\n",
    "print(f\"Best Hyperparameters: {best_hyperparams}\")"
   ]
  },
  {
   "cell_type": "code",
   "execution_count": null,
   "metadata": {},
   "outputs": [
    {
     "name": "stdout",
     "output_type": "stream",
     "text": [
      "\n",
      "Training Best Model with Dropout: 0.49675429284033257, L2 Regularization: 2.0499577166559802e-06\n"
     ]
    }
   ],
   "source": [
    "# Train Best Model on Full Dataset\n",
    "print(f\"\\nTraining Best Model with Dropout: {best_hyperparams['dropout_rate']}, L2 Regularization: {best_hyperparams['l2_reg']}\")\n",
    "best_model = ComplexMLP(input_dim, hidden_dim=hidden_dim, output_dim=len(np.unique(y_train)), dropout_rate=best_hyperparams['dropout_rate'])\n",
    "criterion = nn.CrossEntropyLoss()\n",
    "best_optimizer = optim.Adam(best_model.parameters(), lr=0.001, weight_decay=best_hyperparams['l2_reg'])\n",
    "\n",
    "# Train final model\n",
    "epochs = 15\n",
    "for epoch in range(epochs):\n",
    "    best_model.train()\n",
    "    best_optimizer.zero_grad()\n",
    "    outputs = best_model(X_train_tensor)\n",
    "    loss = criterion(outputs, y_train_tensor)\n",
    "    loss.backward()\n",
    "    best_optimizer.step()"
   ]
  },
  {
   "cell_type": "code",
   "execution_count": 65,
   "metadata": {},
   "outputs": [
    {
     "name": "stdout",
     "output_type": "stream",
     "text": [
      "\n",
      "Final Test Accuracy: 0.4407\n",
      "Final F1-Score: 0.2777\n",
      "Final AUC-ROC: 0.7610\n"
     ]
    },
    {
     "data": {
      "image/png": "[encoded data removed]",
      "text/plain": [
       "<Figure size 1200x600 with 3 Axes>"
      ]
     },
     "metadata": {},
     "output_type": "display_data"
    }
   ],
   "source": [
    "import matplotlib.pyplot as plt\n",
    "import seaborn as sns\n",
    "from sklearn.metrics import f1_score, accuracy_score, roc_curve, auc, confusion_matrix\n",
    "from sklearn.preprocessing import label_binarize\n",
    "\n",
    "# Final Evaluation on Test Set\n",
    "best_model.eval()\n",
    "with torch.no_grad():\n",
    "    test_outputs = best_model(X_test_tensor)\n",
    "    \n",
    "    # Get the predicted class labels\n",
    "    _, predicted_test = torch.max(test_outputs, 1)\n",
    "    \n",
    "    # Compute Accuracy\n",
    "    test_accuracy = accuracy_score(y_test_tensor.numpy(), predicted_test.numpy())\n",
    "    print(f\"\\nFinal Test Accuracy: {test_accuracy:.4f}\")\n",
    "\n",
    "    # Compute F1-Score (macro average for multiclass)\n",
    "    f1 = f1_score(y_test_tensor.numpy(), predicted_test.numpy(), average='macro')\n",
    "    print(f\"Final F1-Score: {f1:.4f}\")\n",
    "\n",
    "    # Compute AUC-ROC\n",
    "    y_test_bin = label_binarize(y_test_tensor.numpy(), classes=np.unique(y_train))\n",
    "    \n",
    "    try:\n",
    "        auc_roc = roc_auc_score(y_test_bin, test_outputs.numpy(), average='macro', multi_class='ovr')\n",
    "        print(f\"Final AUC-ROC: {auc_roc:.4f}\")\n",
    "\n",
    "        # Plot ROC Curve for each class\n",
    "        fpr, tpr, _ = roc_curve(y_test_bin.ravel(), test_outputs.numpy().ravel())  # Flatten for multi-class\n",
    "        \n",
    "        plt.figure(figsize=(12, 6))\n",
    "\n",
    "        # Plot ROC Curve\n",
    "        plt.subplot(1, 2, 1)\n",
    "        plt.plot(fpr, tpr, color='b', lw=2, label=f'AUC = {auc_roc:.4f}')\n",
    "        plt.plot([0, 1], [0, 1], color='gray', lw=2, linestyle='--')  # Diagonal line for random classifier\n",
    "        plt.xlim([0.0, 1.0])\n",
    "        plt.ylim([0.0, 1.05])\n",
    "        plt.xlabel('False Positive Rate')\n",
    "        plt.ylabel('True Positive Rate')\n",
    "        plt.title('ROC Curve')\n",
    "        plt.legend(loc='lower right')\n",
    "\n",
    "        # Plot Confusion Matrix\n",
    "        cm = confusion_matrix(y_test_tensor.numpy(), predicted_test.numpy())\n",
    "        plt.subplot(1, 2, 2)\n",
    "        sns.heatmap(cm, annot=True, fmt='d', cmap='Blues', xticklabels=label_encoder.classes_, yticklabels=label_encoder.classes_)\n",
    "        plt.xlabel('Predicted Labels')\n",
    "        plt.ylabel('True Labels')\n",
    "        plt.title('Confusion Matrix')\n",
    "\n",
    "        plt.tight_layout()\n",
    "        plt.show()\n",
    "\n",
    "    except ValueError:\n",
    "        # Handle case where AUC can't be computed (likely due to having a single class in predictions)\n",
    "        print(\"AUC-ROC couldn't be computed due to the lack of multiple classes in predictions.\")\n"
   ]
  }
 ],
 "metadata": {
  "kernelspec": {
   "display_name": "Python 3",
   "language": "python",
   "name": "python3"
  },
  "language_info": {
   "codemirror_mode": {
    "name": "ipython",
    "version": 3
   },
   "file_extension": ".py",
   "mimetype": "text/x-python",
   "name": "python",
   "nbconvert_exporter": "python",
   "pygments_lexer": "ipython3",
   "version": "3.11.0"
  }
 },
 "nbformat": 4,
 "nbformat_minor": 2
}
