{
 "cells": [
  {
   "cell_type": "markdown",
   "id": "20c47095",
   "metadata": {},
   "source": [
    "## Stage 1: import dataset + libraries"
   ]
  },
  {
   "cell_type": "code",
   "execution_count": 46,
   "id": "d084ffda",
   "metadata": {},
   "outputs": [],
   "source": [
    "import sys\n",
    "import os\n",
    "import torch\n",
    "import torch.nn as nn\n",
    "import torch.optim as optim\n",
    "from datasets import Dataset\n",
    "from torch.utils.data import DataLoader\n",
    "import numpy as np\n",
    "from tqdm import tqdm\n",
    "from sklearn.metrics import accuracy_score, f1_score\n",
    "from sklearn.feature_extraction.text import TfidfVectorizer\n",
    "\n",
    "sys.path.append(os.path.abspath(os.path.join(os.getcwd(), \"..\", \"..\")))\n",
    "from data import Preprocessing, FeatureExtraction"
   ]
  },
  {
   "cell_type": "code",
   "execution_count": null,
   "id": "1e0a9f01",
   "metadata": {},
   "outputs": [
    {
     "name": "stdout",
     "output_type": "stream",
     "text": [
      "✓ 'punkt' is already available.\n",
      "✓ 'stopwords' is already available.\n",
      "✗ 'wordnet' not found. Downloading...\n",
      "✓ 'averaged_perceptron_tagger' is already available.\n"
     ]
    },
    {
     "name": "stderr",
     "output_type": "stream",
     "text": [
      "[nltk_data] Downloading package wordnet to\n",
      "[nltk_data]     /Users/tranquochieu/nltk_data...\n",
      "[nltk_data]   Package wordnet is already up-to-date!\n"
     ]
    },
    {
     "data": {
      "text/plain": [
       "((27480, 10), (3534, 9))"
      ]
     },
     "execution_count": 47,
     "metadata": {},
     "output_type": "execute_result"
    }
   ],
   "source": [
    "prepro_tool = Preprocessing()\n",
    "train_df = prepro_tool.read_CSV(file_name='train.csv')\n",
    "test_df = prepro_tool.read_CSV(file_name='test.csv')\n",
    "\n",
    "train_df.shape, test_df.shape"
   ]
  },
  {
   "cell_type": "markdown",
   "id": "4c1e690d",
   "metadata": {},
   "source": [
    "## Stage 2: Preprocessing"
   ]
  },
  {
   "cell_type": "code",
   "execution_count": 48,
   "id": "91af1c60",
   "metadata": {},
   "outputs": [
    {
     "data": {
      "text/plain": [
       "{'textID': 'cb774db0d1',\n",
       " 'text': ' I`d have responded, if I were going',\n",
       " 'selected_text': 'I`d have responded, if I were going',\n",
       " 'sentiment': 'neutral',\n",
       " 'Time of Tweet': 'morning',\n",
       " 'Age of User': '0-20',\n",
       " 'Country': 'Afghanistan',\n",
       " 'Population -2020': 38928346,\n",
       " 'Land Area (Kmï¿½)': 652860.0,\n",
       " 'Density (P/Kmï¿½)': 60,\n",
       " '__index_level_0__': 0}"
      ]
     },
     "execution_count": 48,
     "metadata": {},
     "output_type": "execute_result"
    }
   ],
   "source": [
    "train_data = Dataset.from_pandas(train_df)\n",
    "test_data = Dataset.from_pandas(test_df)\n",
    "\n",
    "train_data[0]"
   ]
  },
  {
   "cell_type": "code",
   "execution_count": 49,
   "id": "f86cda3e",
   "metadata": {},
   "outputs": [
    {
     "data": {
      "application/vnd.jupyter.widget-view+json": {
       "model_id": "c085d488ae0547778d9d81106d4cbd62",
       "version_major": 2,
       "version_minor": 0
      },
      "text/plain": [
       "Map:   0%|          | 0/27480 [00:00<?, ? examples/s]"
      ]
     },
     "metadata": {},
     "output_type": "display_data"
    },
    {
     "data": {
      "application/vnd.jupyter.widget-view+json": {
       "model_id": "4f59e1c0c3bb4fbe8fb4ff87dfbbd622",
       "version_major": 2,
       "version_minor": 0
      },
      "text/plain": [
       "Map:   0%|          | 0/3534 [00:00<?, ? examples/s]"
      ]
     },
     "metadata": {},
     "output_type": "display_data"
    },
    {
     "data": {
      "text/plain": [
       "{'textID': 'cb774db0d1',\n",
       " 'text': ' I`d have responded, if I were going',\n",
       " 'selected_text': 'I`d have responded, if I were going',\n",
       " 'sentiment': 'neutral',\n",
       " 'Time of Tweet': 'morning',\n",
       " 'Age of User': '0-20',\n",
       " 'Country': 'Afghanistan',\n",
       " 'Population -2020': 38928346,\n",
       " 'Land Area (Kmï¿½)': 652860.0,\n",
       " 'Density (P/Kmï¿½)': 60,\n",
       " '__index_level_0__': 0,\n",
       " 'processed_text': 'id responded going',\n",
       " 'label': 1}"
      ]
     },
     "execution_count": 49,
     "metadata": {},
     "output_type": "execute_result"
    }
   ],
   "source": [
    "train_data = train_data.map(lambda ex: {'processed_text': prepro_tool.preprocess(ex['text']),\\\n",
    "                                        'label': 2 if ex['sentiment'] == 'positive' else \\\n",
    "                                        1 if ex['sentiment'] == 'neutral' else 0 })\n",
    "test_data = test_data.map(lambda ex: {'processed_text': prepro_tool.preprocess(ex['text']),\\\n",
    "                                        'label': 2 if ex['sentiment'] == 'positive' else \\\n",
    "                                        1 if ex['sentiment'] == 'neutral' else 0 })\n",
    "\n",
    "train_data[0]"
   ]
  },
  {
   "cell_type": "code",
   "execution_count": 50,
   "id": "bc35261e",
   "metadata": {},
   "outputs": [
    {
     "data": {
      "text/plain": [
       "{'textID': 'f87dea47db',\n",
       " 'text': 'Last session of the day  http://twitpic.com/67ezh',\n",
       " 'sentiment': 'neutral',\n",
       " 'Time of Tweet': 'morning',\n",
       " 'Age of User': '0-20',\n",
       " 'Country': 'Afghanistan',\n",
       " 'Population -2020': 38928346.0,\n",
       " 'Land Area (Km²)': 652860.0,\n",
       " 'Density (P/Km²)': 60.0,\n",
       " '__index_level_0__': 0,\n",
       " 'processed_text': 'last session day httptwitpiccomezh',\n",
       " 'label': 1}"
      ]
     },
     "execution_count": 50,
     "metadata": {},
     "output_type": "execute_result"
    }
   ],
   "source": [
    "test_data[0]"
   ]
  },
  {
   "cell_type": "markdown",
   "id": "9eac0862",
   "metadata": {},
   "source": [
    "### Load number of samples for each class"
   ]
  },
  {
   "cell_type": "code",
   "execution_count": 51,
   "id": "28250251",
   "metadata": {},
   "outputs": [
    {
     "name": "stderr",
     "output_type": "stream",
     "text": [
      "/var/folders/cy/hxjg9r351_99ytx8k04pq_4c0000gn/T/ipykernel_4957/3149057442.py:18: UserWarning: This figure includes Axes that are not compatible with tight_layout, so results might be incorrect.\n",
      "  plt.tight_layout()\n"
     ]
    },
    {
     "data": {
      "image/png": "[encoded data removed]",
      "text/plain": [
       "<Figure size 1200x500 with 2 Axes>"
      ]
     },
     "metadata": {},
     "output_type": "display_data"
    }
   ],
   "source": [
    "from typing import Counter\n",
    "import matplotlib.pyplot as plt\n",
    "\n",
    "fig, axs = plt.subplots(1, 2, figsize=(12, 5), gridspec_kw={'wspace': 0.3})\n",
    "\n",
    "counter = Counter(train_data['sentiment'])\n",
    "axs[0].bar(counter.keys(), counter.values())\n",
    "axs[0].set_title(\"Classes distribution in Train Data\")\n",
    "axs[0].set_xlabel(\"Labels\")\n",
    "axs[0].set_ylabel(\"Counts\")\n",
    "\n",
    "counter = Counter(test_data['sentiment'])\n",
    "axs[1].bar(counter.keys(), counter.values())\n",
    "axs[1].set_title(\"Classes distribution in Test Data\")\n",
    "axs[1].set_xlabel(\"Labels\")\n",
    "axs[1].set_ylabel(\"Counts\")\n",
    "\n",
    "plt.tight_layout()\n",
    "plt.show()"
   ]
  },
  {
   "cell_type": "markdown",
   "id": "57de7055",
   "metadata": {},
   "source": [
    "### Map tf-idf feature to dataset"
   ]
  },
  {
   "cell_type": "code",
   "execution_count": 52,
   "id": "80df6faa",
   "metadata": {},
   "outputs": [
    {
     "name": "stdout",
     "output_type": "stream",
     "text": [
      "train tf-idf shape: (27480, 50000)\n",
      "test tf-idf shape: (3534, 50000)\n"
     ]
    },
    {
     "data": {
      "application/vnd.jupyter.widget-view+json": {
       "model_id": "37e8aa8eaaba4b67a68f10e84e0f1b58",
       "version_major": 2,
       "version_minor": 0
      },
      "text/plain": [
       "Map:   0%|          | 0/27480 [00:00<?, ? examples/s]"
      ]
     },
     "metadata": {},
     "output_type": "display_data"
    },
    {
     "data": {
      "application/vnd.jupyter.widget-view+json": {
       "model_id": "1dc4a5b0e6c2484795563b41f96fd175",
       "version_major": 2,
       "version_minor": 0
      },
      "text/plain": [
       "Map:   0%|          | 0/3534 [00:00<?, ? examples/s]"
      ]
     },
     "metadata": {},
     "output_type": "display_data"
    },
    {
     "data": {
      "text/plain": [
       "{'textID': 'cb774db0d1',\n",
       " 'text': ' I`d have responded, if I were going',\n",
       " 'selected_text': 'I`d have responded, if I were going',\n",
       " 'sentiment': 'neutral',\n",
       " 'Time of Tweet': 'morning',\n",
       " 'Age of User': '0-20',\n",
       " 'Country': 'Afghanistan',\n",
       " 'Population -2020': 38928346,\n",
       " 'Land Area (Kmï¿½)': 652860.0,\n",
       " 'Density (P/Kmï¿½)': 60,\n",
       " '__index_level_0__': 0,\n",
       " 'processed_text': 'id responded going',\n",
       " 'label': 1,\n",
       " 'tf_idf': [0.0,\n",
       "  0.0,\n",
       "  0.0,\n",
       "  0.0,\n",
       "  0.0,\n",
       "  0.0,\n",
       "  0.0,\n",
       "  0.0,\n",
       "  0.0,\n",
       "  0.0,\n",
       "  0.0,\n",
       "  0.0,\n",
       "  0.0,\n",
       "  0.0,\n",
       "  0.0,\n",
       "  0.0,\n",
       "  0.0,\n",
       "  0.0,\n",
       "  0.0,\n",
       "  0.0,\n",
       "  0.0,\n",
       "  0.0,\n",
       "  0.0,\n",
       "  0.0,\n",
       "  0.0,\n",
       "  0.0,\n",
       "  0.0,\n",
       "  0.0,\n",
       "  0.0,\n",
       "  0.0,\n",
       "  0.0,\n",
       "  0.0,\n",
       "  0.0,\n",
       "  0.0,\n",
       "  0.0,\n",
       "  0.0,\n",
       "  0.0,\n",
       "  0.0,\n",
       "  0.0,\n",
       "  0.0,\n",
       "  0.0,\n",
       "  0.0,\n",
       "  0.0,\n",
       "  0.0,\n",
       "  0.0,\n",
       "  0.0,\n",
       "  0.0,\n",
       "  0.0,\n",
       "  0.0,\n",
       "  0.0,\n",
       "  0.0,\n",
       "  0.0,\n",
       "  0.0,\n",
       "  0.0,\n",
       "  0.0,\n",
       "  0.0,\n",
       "  0.0,\n",
       "  0.0,\n",
       "  0.0,\n",
       "  0.0,\n",
       "  0.0,\n",
       "  0.0,\n",
       "  0.0,\n",
       "  0.0,\n",
       "  0.0,\n",
       "  0.0,\n",
       "  0.0,\n",
       "  0.0,\n",
       "  0.0,\n",
       "  0.0,\n",
       "  0.0,\n",
       "  0.0,\n",
       "  0.0,\n",
       "  0.0,\n",
       "  0.0,\n",
       "  0.0,\n",
       "  0.0,\n",
       "  0.0,\n",
       "  0.0,\n",
       "  0.0,\n",
       "  0.0,\n",
       "  0.0,\n",
       "  0.0,\n",
       "  0.0,\n",
       "  0.0,\n",
       "  0.0,\n",
       "  0.0,\n",
       "  0.0,\n",
       "  0.0,\n",
       "  0.0,\n",
       "  0.0,\n",
       "  0.0,\n",
       "  0.0,\n",
       "  0.0,\n",
       "  0.0,\n",
       "  0.0,\n",
       "  0.0,\n",
       "  0.0,\n",
       "  0.0,\n",
       "  0.0,\n",
       "  0.0,\n",
       "  0.0,\n",
       "  0.0,\n",
       "  0.0,\n",
       "  0.0,\n",
       "  0.0,\n",
       "  0.0,\n",
       "  0.0,\n",
       "  0.0,\n",
       "  0.0,\n",
       "  0.0,\n",
       "  0.0,\n",
       "  0.0,\n",
       "  0.0,\n",
       "  0.0,\n",
       "  0.0,\n",
       "  0.0,\n",
       "  0.0,\n",
       "  0.0,\n",
       "  0.0,\n",
       "  0.0,\n",
       "  0.0,\n",
       "  0.0,\n",
       "  0.0,\n",
       "  0.0,\n",
       "  0.0,\n",
       "  0.0,\n",
       "  0.0,\n",
       "  0.0,\n",
       "  0.0,\n",
       "  0.0,\n",
       "  0.0,\n",
       "  0.0,\n",
       "  0.0,\n",
       "  0.0,\n",
       "  0.0,\n",
       "  0.0,\n",
       "  0.0,\n",
       "  0.0,\n",
       "  0.0,\n",
       "  0.0,\n",
       "  0.0,\n",
       "  0.0,\n",
       "  0.0,\n",
       "  0.0,\n",
       "  0.0,\n",
       "  0.0,\n",
       "  0.0,\n",
       "  0.0,\n",
       "  0.0,\n",
       "  0.0,\n",
       "  0.0,\n",
       "  0.0,\n",
       "  0.0,\n",
       "  0.0,\n",
       "  0.0,\n",
       "  0.0,\n",
       "  0.0,\n",
       "  0.0,\n",
       "  0.0,\n",
       "  0.0,\n",
       "  0.0,\n",
       "  0.0,\n",
       "  0.0,\n",
       "  0.0,\n",
       "  0.0,\n",
       "  0.0,\n",
       "  0.0,\n",
       "  0.0,\n",
       "  0.0,\n",
       "  0.0,\n",
       "  0.0,\n",
       "  0.0,\n",
       "  0.0,\n",
       "  0.0,\n",
       "  0.0,\n",
       "  0.0,\n",
       "  0.0,\n",
       "  0.0,\n",
       "  0.0,\n",
       "  0.0,\n",
       "  0.0,\n",
       "  0.0,\n",
       "  0.0,\n",
       "  0.0,\n",
       "  0.0,\n",
       "  0.0,\n",
       "  0.0,\n",
       "  0.0,\n",
       "  0.0,\n",
       "  0.0,\n",
       "  0.0,\n",
       "  0.0,\n",
       "  0.0,\n",
       "  0.0,\n",
       "  0.0,\n",
       "  0.0,\n",
       "  0.0,\n",
       "  0.0,\n",
       "  0.0,\n",
       "  0.0,\n",
       "  0.0,\n",
       "  0.0,\n",
       "  0.0,\n",
       "  0.0,\n",
       "  0.0,\n",
       "  0.0,\n",
       "  0.0,\n",
       "  0.0,\n",
       "  0.0,\n",
       "  0.0,\n",
       "  0.0,\n",
       "  0.0,\n",
       "  0.0,\n",
       "  0.0,\n",
       "  0.0,\n",
       "  0.0,\n",
       "  0.0,\n",
       "  0.0,\n",
       "  0.0,\n",
       "  0.0,\n",
       "  0.0,\n",
       "  0.0,\n",
       "  0.0,\n",
       "  0.0,\n",
       "  0.0,\n",
       "  0.0,\n",
       "  0.0,\n",
       "  0.0,\n",
       "  0.0,\n",
       "  0.0,\n",
       "  0.0,\n",
       "  0.0,\n",
       "  0.0,\n",
       "  0.0,\n",
       "  0.0,\n",
       "  0.0,\n",
       "  0.0,\n",
       "  0.0,\n",
       "  0.0,\n",
       "  0.0,\n",
       "  0.0,\n",
       "  0.0,\n",
       "  0.0,\n",
       "  0.0,\n",
       "  0.0,\n",
       "  0.0,\n",
       "  0.0,\n",
       "  0.0,\n",
       "  0.0,\n",
       "  0.0,\n",
       "  0.0,\n",
       "  0.0,\n",
       "  0.0,\n",
       "  0.0,\n",
       "  0.0,\n",
       "  0.0,\n",
       "  0.0,\n",
       "  0.0,\n",
       "  0.0,\n",
       "  0.0,\n",
       "  0.0,\n",
       "  0.0,\n",
       "  0.0,\n",
       "  0.0,\n",
       "  0.0,\n",
       "  0.0,\n",
       "  0.0,\n",
       "  0.0,\n",
       "  0.0,\n",
       "  0.0,\n",
       "  0.0,\n",
       "  0.0,\n",
       "  0.0,\n",
       "  0.0,\n",
       "  0.0,\n",
       "  0.0,\n",
       "  0.0,\n",
       "  0.0,\n",
       "  0.0,\n",
       "  0.0,\n",
       "  0.0,\n",
       "  0.0,\n",
       "  0.0,\n",
       "  0.0,\n",
       "  0.0,\n",
       "  0.0,\n",
       "  0.0,\n",
       "  0.0,\n",
       "  0.0,\n",
       "  0.0,\n",
       "  0.0,\n",
       "  0.0,\n",
       "  0.0,\n",
       "  0.0,\n",
       "  0.0,\n",
       "  0.0,\n",
       "  0.0,\n",
       "  0.0,\n",
       "  0.0,\n",
       "  0.0,\n",
       "  0.0,\n",
       "  0.0,\n",
       "  0.0,\n",
       "  0.0,\n",
       "  0.0,\n",
       "  0.0,\n",
       "  0.0,\n",
       "  0.0,\n",
       "  0.0,\n",
       "  0.0,\n",
       "  0.0,\n",
       "  0.0,\n",
       "  0.0,\n",
       "  0.0,\n",
       "  0.0,\n",
       "  0.0,\n",
       "  0.0,\n",
       "  0.0,\n",
       "  0.0,\n",
       "  0.0,\n",
       "  0.0,\n",
       "  0.0,\n",
       "  0.0,\n",
       "  0.0,\n",
       "  0.0,\n",
       "  0.0,\n",
       "  0.0,\n",
       "  0.0,\n",
       "  0.0,\n",
       "  0.0,\n",
       "  0.0,\n",
       "  0.0,\n",
       "  0.0,\n",
       "  0.0,\n",
       "  0.0,\n",
       "  0.0,\n",
       "  0.0,\n",
       "  0.0,\n",
       "  0.0,\n",
       "  0.0,\n",
       "  0.0,\n",
       "  0.0,\n",
       "  0.0,\n",
       "  0.0,\n",
       "  0.0,\n",
       "  0.0,\n",
       "  0.0,\n",
       "  0.0,\n",
       "  0.0,\n",
       "  0.0,\n",
       "  0.0,\n",
       "  0.0,\n",
       "  0.0,\n",
       "  0.0,\n",
       "  0.0,\n",
       "  0.0,\n",
       "  0.0,\n",
       "  0.0,\n",
       "  0.0,\n",
       "  0.0,\n",
       "  0.0,\n",
       "  0.0,\n",
       "  0.0,\n",
       "  0.0,\n",
       "  0.0,\n",
       "  0.0,\n",
       "  0.0,\n",
       "  0.0,\n",
       "  0.0,\n",
       "  0.0,\n",
       "  0.0,\n",
       "  0.0,\n",
       "  0.0,\n",
       "  0.0,\n",
       "  0.0,\n",
       "  0.0,\n",
       "  0.0,\n",
       "  0.0,\n",
       "  0.0,\n",
       "  0.0,\n",
       "  0.0,\n",
       "  0.0,\n",
       "  0.0,\n",
       "  0.0,\n",
       "  0.0,\n",
       "  0.0,\n",
       "  0.0,\n",
       "  0.0,\n",
       "  0.0,\n",
       "  0.0,\n",
       "  0.0,\n",
       "  0.0,\n",
       "  0.0,\n",
       "  0.0,\n",
       "  0.0,\n",
       "  0.0,\n",
       "  0.0,\n",
       "  0.0,\n",
       "  0.0,\n",
       "  0.0,\n",
       "  0.0,\n",
       "  0.0,\n",
       "  0.0,\n",
       "  0.0,\n",
       "  0.0,\n",
       "  0.0,\n",
       "  0.0,\n",
       "  0.0,\n",
       "  0.0,\n",
       "  0.0,\n",
       "  0.0,\n",
       "  0.0,\n",
       "  0.0,\n",
       "  0.0,\n",
       "  0.0,\n",
       "  0.0,\n",
       "  0.0,\n",
       "  0.0,\n",
       "  0.0,\n",
       "  0.0,\n",
       "  0.0,\n",
       "  0.0,\n",
       "  0.0,\n",
       "  0.0,\n",
       "  0.0,\n",
       "  0.0,\n",
       "  0.0,\n",
       "  0.0,\n",
       "  0.0,\n",
       "  0.0,\n",
       "  0.0,\n",
       "  0.0,\n",
       "  0.0,\n",
       "  0.0,\n",
       "  0.0,\n",
       "  0.0,\n",
       "  0.0,\n",
       "  0.0,\n",
       "  0.0,\n",
       "  0.0,\n",
       "  0.0,\n",
       "  0.0,\n",
       "  0.0,\n",
       "  0.0,\n",
       "  0.0,\n",
       "  0.0,\n",
       "  0.0,\n",
       "  0.0,\n",
       "  0.0,\n",
       "  0.0,\n",
       "  0.0,\n",
       "  0.0,\n",
       "  0.0,\n",
       "  0.0,\n",
       "  0.0,\n",
       "  0.0,\n",
       "  0.0,\n",
       "  0.0,\n",
       "  0.0,\n",
       "  0.0,\n",
       "  0.0,\n",
       "  0.0,\n",
       "  0.0,\n",
       "  0.0,\n",
       "  0.0,\n",
       "  0.0,\n",
       "  0.0,\n",
       "  0.0,\n",
       "  0.0,\n",
       "  0.0,\n",
       "  0.0,\n",
       "  0.0,\n",
       "  0.0,\n",
       "  0.0,\n",
       "  0.0,\n",
       "  0.0,\n",
       "  0.0,\n",
       "  0.0,\n",
       "  0.0,\n",
       "  0.0,\n",
       "  0.0,\n",
       "  0.0,\n",
       "  0.0,\n",
       "  0.0,\n",
       "  0.0,\n",
       "  0.0,\n",
       "  0.0,\n",
       "  0.0,\n",
       "  0.0,\n",
       "  0.0,\n",
       "  0.0,\n",
       "  0.0,\n",
       "  0.0,\n",
       "  0.0,\n",
       "  0.0,\n",
       "  0.0,\n",
       "  0.0,\n",
       "  0.0,\n",
       "  0.0,\n",
       "  0.0,\n",
       "  0.0,\n",
       "  0.0,\n",
       "  0.0,\n",
       "  0.0,\n",
       "  0.0,\n",
       "  0.0,\n",
       "  0.0,\n",
       "  0.0,\n",
       "  0.0,\n",
       "  0.0,\n",
       "  0.0,\n",
       "  0.0,\n",
       "  0.0,\n",
       "  0.0,\n",
       "  0.0,\n",
       "  0.0,\n",
       "  0.0,\n",
       "  0.0,\n",
       "  0.0,\n",
       "  0.0,\n",
       "  0.0,\n",
       "  0.0,\n",
       "  0.0,\n",
       "  0.0,\n",
       "  0.0,\n",
       "  0.0,\n",
       "  0.0,\n",
       "  0.0,\n",
       "  0.0,\n",
       "  0.0,\n",
       "  0.0,\n",
       "  0.0,\n",
       "  0.0,\n",
       "  0.0,\n",
       "  0.0,\n",
       "  0.0,\n",
       "  0.0,\n",
       "  0.0,\n",
       "  0.0,\n",
       "  0.0,\n",
       "  0.0,\n",
       "  0.0,\n",
       "  0.0,\n",
       "  0.0,\n",
       "  0.0,\n",
       "  0.0,\n",
       "  0.0,\n",
       "  0.0,\n",
       "  0.0,\n",
       "  0.0,\n",
       "  0.0,\n",
       "  0.0,\n",
       "  0.0,\n",
       "  0.0,\n",
       "  0.0,\n",
       "  0.0,\n",
       "  0.0,\n",
       "  0.0,\n",
       "  0.0,\n",
       "  0.0,\n",
       "  0.0,\n",
       "  0.0,\n",
       "  0.0,\n",
       "  0.0,\n",
       "  0.0,\n",
       "  0.0,\n",
       "  0.0,\n",
       "  0.0,\n",
       "  0.0,\n",
       "  0.0,\n",
       "  0.0,\n",
       "  0.0,\n",
       "  0.0,\n",
       "  0.0,\n",
       "  0.0,\n",
       "  0.0,\n",
       "  0.0,\n",
       "  0.0,\n",
       "  0.0,\n",
       "  0.0,\n",
       "  0.0,\n",
       "  0.0,\n",
       "  0.0,\n",
       "  0.0,\n",
       "  0.0,\n",
       "  0.0,\n",
       "  0.0,\n",
       "  0.0,\n",
       "  0.0,\n",
       "  0.0,\n",
       "  0.0,\n",
       "  0.0,\n",
       "  0.0,\n",
       "  0.0,\n",
       "  0.0,\n",
       "  0.0,\n",
       "  0.0,\n",
       "  0.0,\n",
       "  0.0,\n",
       "  0.0,\n",
       "  0.0,\n",
       "  0.0,\n",
       "  0.0,\n",
       "  0.0,\n",
       "  0.0,\n",
       "  0.0,\n",
       "  0.0,\n",
       "  0.0,\n",
       "  0.0,\n",
       "  0.0,\n",
       "  0.0,\n",
       "  0.0,\n",
       "  0.0,\n",
       "  0.0,\n",
       "  0.0,\n",
       "  0.0,\n",
       "  0.0,\n",
       "  0.0,\n",
       "  0.0,\n",
       "  0.0,\n",
       "  0.0,\n",
       "  0.0,\n",
       "  0.0,\n",
       "  0.0,\n",
       "  0.0,\n",
       "  0.0,\n",
       "  0.0,\n",
       "  0.0,\n",
       "  0.0,\n",
       "  0.0,\n",
       "  0.0,\n",
       "  0.0,\n",
       "  0.0,\n",
       "  0.0,\n",
       "  0.0,\n",
       "  0.0,\n",
       "  0.0,\n",
       "  0.0,\n",
       "  0.0,\n",
       "  0.0,\n",
       "  0.0,\n",
       "  0.0,\n",
       "  0.0,\n",
       "  0.0,\n",
       "  0.0,\n",
       "  0.0,\n",
       "  0.0,\n",
       "  0.0,\n",
       "  0.0,\n",
       "  0.0,\n",
       "  0.0,\n",
       "  0.0,\n",
       "  0.0,\n",
       "  0.0,\n",
       "  0.0,\n",
       "  0.0,\n",
       "  0.0,\n",
       "  0.0,\n",
       "  0.0,\n",
       "  0.0,\n",
       "  0.0,\n",
       "  0.0,\n",
       "  0.0,\n",
       "  0.0,\n",
       "  0.0,\n",
       "  0.0,\n",
       "  0.0,\n",
       "  0.0,\n",
       "  0.0,\n",
       "  0.0,\n",
       "  0.0,\n",
       "  0.0,\n",
       "  0.0,\n",
       "  0.0,\n",
       "  0.0,\n",
       "  0.0,\n",
       "  0.0,\n",
       "  0.0,\n",
       "  0.0,\n",
       "  0.0,\n",
       "  0.0,\n",
       "  0.0,\n",
       "  0.0,\n",
       "  0.0,\n",
       "  0.0,\n",
       "  0.0,\n",
       "  0.0,\n",
       "  0.0,\n",
       "  0.0,\n",
       "  0.0,\n",
       "  0.0,\n",
       "  0.0,\n",
       "  0.0,\n",
       "  0.0,\n",
       "  0.0,\n",
       "  0.0,\n",
       "  0.0,\n",
       "  0.0,\n",
       "  0.0,\n",
       "  0.0,\n",
       "  0.0,\n",
       "  0.0,\n",
       "  0.0,\n",
       "  0.0,\n",
       "  0.0,\n",
       "  0.0,\n",
       "  0.0,\n",
       "  0.0,\n",
       "  0.0,\n",
       "  0.0,\n",
       "  0.0,\n",
       "  0.0,\n",
       "  0.0,\n",
       "  0.0,\n",
       "  0.0,\n",
       "  0.0,\n",
       "  0.0,\n",
       "  0.0,\n",
       "  0.0,\n",
       "  0.0,\n",
       "  0.0,\n",
       "  0.0,\n",
       "  0.0,\n",
       "  0.0,\n",
       "  0.0,\n",
       "  0.0,\n",
       "  0.0,\n",
       "  0.0,\n",
       "  0.0,\n",
       "  0.0,\n",
       "  0.0,\n",
       "  0.0,\n",
       "  0.0,\n",
       "  0.0,\n",
       "  0.0,\n",
       "  0.0,\n",
       "  0.0,\n",
       "  0.0,\n",
       "  0.0,\n",
       "  0.0,\n",
       "  0.0,\n",
       "  0.0,\n",
       "  0.0,\n",
       "  0.0,\n",
       "  0.0,\n",
       "  0.0,\n",
       "  0.0,\n",
       "  0.0,\n",
       "  0.0,\n",
       "  0.0,\n",
       "  0.0,\n",
       "  0.0,\n",
       "  0.0,\n",
       "  0.0,\n",
       "  0.0,\n",
       "  0.0,\n",
       "  0.0,\n",
       "  0.0,\n",
       "  0.0,\n",
       "  0.0,\n",
       "  0.0,\n",
       "  0.0,\n",
       "  0.0,\n",
       "  0.0,\n",
       "  0.0,\n",
       "  0.0,\n",
       "  0.0,\n",
       "  0.0,\n",
       "  0.0,\n",
       "  0.0,\n",
       "  0.0,\n",
       "  0.0,\n",
       "  0.0,\n",
       "  0.0,\n",
       "  0.0,\n",
       "  0.0,\n",
       "  0.0,\n",
       "  0.0,\n",
       "  0.0,\n",
       "  0.0,\n",
       "  0.0,\n",
       "  0.0,\n",
       "  0.0,\n",
       "  0.0,\n",
       "  0.0,\n",
       "  0.0,\n",
       "  0.0,\n",
       "  0.0,\n",
       "  0.0,\n",
       "  0.0,\n",
       "  0.0,\n",
       "  0.0,\n",
       "  0.0,\n",
       "  0.0,\n",
       "  0.0,\n",
       "  0.0,\n",
       "  0.0,\n",
       "  0.0,\n",
       "  0.0,\n",
       "  0.0,\n",
       "  0.0,\n",
       "  0.0,\n",
       "  0.0,\n",
       "  0.0,\n",
       "  0.0,\n",
       "  0.0,\n",
       "  0.0,\n",
       "  0.0,\n",
       "  0.0,\n",
       "  0.0,\n",
       "  0.0,\n",
       "  0.0,\n",
       "  0.0,\n",
       "  0.0,\n",
       "  0.0,\n",
       "  0.0,\n",
       "  0.0,\n",
       "  0.0,\n",
       "  0.0,\n",
       "  0.0,\n",
       "  0.0,\n",
       "  0.0,\n",
       "  0.0,\n",
       "  0.0,\n",
       "  0.0,\n",
       "  0.0,\n",
       "  0.0,\n",
       "  0.0,\n",
       "  0.0,\n",
       "  0.0,\n",
       "  0.0,\n",
       "  0.0,\n",
       "  0.0,\n",
       "  0.0,\n",
       "  0.0,\n",
       "  0.0,\n",
       "  0.0,\n",
       "  0.0,\n",
       "  0.0,\n",
       "  0.0,\n",
       "  0.0,\n",
       "  0.0,\n",
       "  0.0,\n",
       "  0.0,\n",
       "  0.0,\n",
       "  0.0,\n",
       "  0.0,\n",
       "  0.0,\n",
       "  0.0,\n",
       "  0.0,\n",
       "  0.0,\n",
       "  0.0,\n",
       "  0.0,\n",
       "  0.0,\n",
       "  0.0,\n",
       "  0.0,\n",
       "  0.0,\n",
       "  0.0,\n",
       "  0.0,\n",
       "  0.0,\n",
       "  0.0,\n",
       "  0.0,\n",
       "  0.0,\n",
       "  0.0,\n",
       "  0.0,\n",
       "  0.0,\n",
       "  0.0,\n",
       "  0.0,\n",
       "  0.0,\n",
       "  0.0,\n",
       "  0.0,\n",
       "  0.0,\n",
       "  0.0,\n",
       "  0.0,\n",
       "  0.0,\n",
       "  0.0,\n",
       "  0.0,\n",
       "  0.0,\n",
       "  0.0,\n",
       "  0.0,\n",
       "  0.0,\n",
       "  0.0,\n",
       "  0.0,\n",
       "  0.0,\n",
       "  0.0,\n",
       "  0.0,\n",
       "  0.0,\n",
       "  0.0,\n",
       "  0.0,\n",
       "  0.0,\n",
       "  0.0,\n",
       "  0.0,\n",
       "  0.0,\n",
       "  0.0,\n",
       "  0.0,\n",
       "  0.0,\n",
       "  0.0,\n",
       "  0.0,\n",
       "  0.0,\n",
       "  0.0,\n",
       "  0.0,\n",
       "  0.0,\n",
       "  0.0,\n",
       "  0.0,\n",
       "  0.0,\n",
       "  0.0,\n",
       "  0.0,\n",
       "  0.0,\n",
       "  0.0,\n",
       "  0.0,\n",
       "  0.0,\n",
       "  0.0,\n",
       "  0.0,\n",
       "  0.0,\n",
       "  0.0,\n",
       "  0.0,\n",
       "  0.0,\n",
       "  0.0,\n",
       "  0.0,\n",
       "  0.0,\n",
       "  0.0,\n",
       "  0.0,\n",
       "  0.0,\n",
       "  0.0,\n",
       "  0.0,\n",
       "  0.0,\n",
       "  0.0,\n",
       "  0.0,\n",
       "  0.0,\n",
       "  0.0,\n",
       "  0.0,\n",
       "  0.0,\n",
       "  0.0,\n",
       "  0.0,\n",
       "  0.0,\n",
       "  0.0,\n",
       "  0.0,\n",
       "  0.0,\n",
       "  0.0,\n",
       "  0.0,\n",
       "  0.0,\n",
       "  0.0,\n",
       "  0.0,\n",
       "  0.0,\n",
       "  0.0,\n",
       "  0.0,\n",
       "  0.0,\n",
       "  0.0,\n",
       "  0.0,\n",
       "  0.0,\n",
       "  0.0,\n",
       "  0.0,\n",
       "  0.0,\n",
       "  0.0,\n",
       "  0.0,\n",
       "  0.0,\n",
       "  0.0,\n",
       "  0.0,\n",
       "  0.0,\n",
       "  0.0,\n",
       "  0.0,\n",
       "  0.0,\n",
       "  0.0,\n",
       "  0.0,\n",
       "  0.0,\n",
       "  0.0,\n",
       "  0.0,\n",
       "  0.0,\n",
       "  0.0,\n",
       "  0.0,\n",
       "  0.0,\n",
       "  0.0,\n",
       "  0.0,\n",
       "  0.0,\n",
       "  0.0,\n",
       "  0.0,\n",
       "  0.0,\n",
       "  0.0,\n",
       "  0.0,\n",
       "  0.0,\n",
       "  0.0,\n",
       "  0.0,\n",
       "  0.0,\n",
       "  0.0,\n",
       "  0.0,\n",
       "  0.0,\n",
       "  0.0,\n",
       "  0.0,\n",
       "  0.0,\n",
       "  0.0,\n",
       "  0.0,\n",
       "  0.0,\n",
       "  0.0,\n",
       "  0.0,\n",
       "  0.0,\n",
       "  0.0,\n",
       "  0.0,\n",
       "  0.0,\n",
       "  0.0,\n",
       "  ...]}"
      ]
     },
     "execution_count": 52,
     "metadata": {},
     "output_type": "execute_result"
    }
   ],
   "source": [
    "extractor = TfidfVectorizer(ngram_range=(1,3), max_features=50000)\n",
    "extractor.fit(train_data['processed_text'])\n",
    "train_tf_idf_feature = extractor.transform(train_data['processed_text']).toarray()\n",
    "test_tf_idf_feature = extractor.transform(test_data['processed_text']).toarray()\n",
    "\n",
    "print(f\"train tf-idf shape: ({len(train_tf_idf_feature)}, {len(train_tf_idf_feature[0])})\")\n",
    "print(f\"test tf-idf shape: ({len(test_tf_idf_feature)}, {len(test_tf_idf_feature[0])})\")\n",
    "\n",
    "def add_tf_idf(example, idx, tf_idf_feature):\n",
    "    return {'tf_idf': tf_idf_feature[idx]}\n",
    "\n",
    "train_data = train_data.map(add_tf_idf, with_indices=True, fn_kwargs={'tf_idf_feature': train_tf_idf_feature})\n",
    "test_data = test_data.map(add_tf_idf, with_indices=True, fn_kwargs={'tf_idf_feature': test_tf_idf_feature})\n",
    "train_data[0]"
   ]
  },
  {
   "cell_type": "code",
   "execution_count": 53,
   "id": "4bfab4d0",
   "metadata": {},
   "outputs": [
    {
     "name": "stdout",
     "output_type": "stream",
     "text": [
      "device: cpu\n"
     ]
    },
    {
     "data": {
      "text/plain": [
       "{'label': tensor(1), 'tf_idf': tensor([0., 0., 0.,  ..., 0., 0., 0.])}"
      ]
     },
     "execution_count": 53,
     "metadata": {},
     "output_type": "execute_result"
    }
   ],
   "source": [
    "device = \"cuda\" if torch.cuda.is_available() else \"cpu\"\n",
    "print(f\"device: {device}\")\n",
    "train_data.set_format(type=\"torch\", columns=['tf_idf', 'label'])\n",
    "test_data.set_format(type=\"torch\", columns=['tf_idf', 'label'])\n",
    "train_data[0]"
   ]
  },
  {
   "cell_type": "markdown",
   "id": "ab9640f0",
   "metadata": {},
   "source": [
    "### Split data into train and valid set"
   ]
  },
  {
   "cell_type": "code",
   "execution_count": 54,
   "id": "d8c72fa6",
   "metadata": {},
   "outputs": [
    {
     "data": {
      "text/plain": [
       "((21984, 14), (5496, 14), (3534, 13))"
      ]
     },
     "execution_count": 54,
     "metadata": {},
     "output_type": "execute_result"
    }
   ],
   "source": [
    "train_dict = Dataset.train_test_split(train_data, test_size=0.2, shuffle=True, seed=2025)\n",
    "train_data = train_dict['train']\n",
    "valid_data = train_dict['test']\n",
    "\n",
    "train_data.shape, valid_data.shape, test_data.shape"
   ]
  },
  {
   "cell_type": "markdown",
   "id": "0d7d92d6",
   "metadata": {},
   "source": [
    "## Step 3: Build Model\n",
    "\n",
    "- We build a simple Logistic Regression model using neural network block from **torch**."
   ]
  },
  {
   "cell_type": "code",
   "execution_count": 55,
   "id": "a6b7997b",
   "metadata": {},
   "outputs": [],
   "source": [
    "class MLP(nn.Module):\n",
    "    def __init__(self, input_size, hidden_size, output_size):\n",
    "        super().__init__()\n",
    "        self.fc1 = nn.Linear(input_size, hidden_size)\n",
    "        self.relu = nn.ReLU()\n",
    "        self.fc2 = nn.Linear(hidden_size, output_size)\n",
    "        self.softmax = nn.Softmax(dim=1)\n",
    "\n",
    "    def forward(self, X):       # X shape: (N, input_size) => (N, output_size)\n",
    "        X = self.fc1(X)\n",
    "        X = self.relu(X)\n",
    "        X = self.fc2(X)\n",
    "        X = self.relu(X)\n",
    "        return self.softmax(X)"
   ]
  },
  {
   "cell_type": "markdown",
   "id": "95b27d55",
   "metadata": {},
   "source": [
    "## Step 4: Training model"
   ]
  },
  {
   "cell_type": "markdown",
   "id": "f1b6288a",
   "metadata": {},
   "source": [
    "### Define model hyperparameter"
   ]
  },
  {
   "cell_type": "code",
   "execution_count": 56,
   "id": "d88a893b",
   "metadata": {},
   "outputs": [],
   "source": [
    "learning_rate = 1e-3\n",
    "batch_size = 32\n",
    "num_epochs = 20\n",
    "stop_iter = 3"
   ]
  },
  {
   "cell_type": "markdown",
   "id": "bd6ddd9e",
   "metadata": {},
   "source": [
    "### Load data into batch"
   ]
  },
  {
   "cell_type": "code",
   "execution_count": 57,
   "id": "96d5caf2",
   "metadata": {},
   "outputs": [
    {
     "data": {
      "text/plain": [
       "(687, 172, 111)"
      ]
     },
     "execution_count": 57,
     "metadata": {},
     "output_type": "execute_result"
    }
   ],
   "source": [
    "input_size = list(train_data[0]['tf_idf'].size())[0]\n",
    "hidden_size = 10\n",
    "output_size = 3\n",
    "\n",
    "train_loader = DataLoader(train_data, batch_size=batch_size, shuffle=True)\n",
    "valid_loader = DataLoader(valid_data, batch_size=batch_size, shuffle=True)\n",
    "test_loader = DataLoader(test_data, batch_size=batch_size, shuffle=True)\n",
    "\n",
    "len(train_loader), len(valid_loader), len(test_loader)"
   ]
  },
  {
   "cell_type": "code",
   "execution_count": 58,
   "id": "307c5d3b",
   "metadata": {},
   "outputs": [],
   "source": [
    "def train_fn(model, loader, epoch, optimizer, criteria, show_progress=False):\n",
    "    model.train()\n",
    "    epoch_loss = 0\n",
    "    progress = tqdm(loader, desc=f\"Epoch {epoch} training\") if show_progress else loader\n",
    "    for batch in progress:\n",
    "        input = batch['tf_idf'].to(device)\n",
    "        label = batch['label'].to(device)\n",
    "        output = model(input)\n",
    "\n",
    "        loss = criteria(output, label)\n",
    "        loss.backward()\n",
    "        optimizer.step()\n",
    "        optimizer.zero_grad()\n",
    "\n",
    "        epoch_loss += loss\n",
    "    \n",
    "    if show_progress:\n",
    "        print(f\"Train loss at epoch {epoch}: {(epoch_loss / len(loader)):.3f}\\n---\")\n",
    "    return epoch_loss / len(loader)\n",
    "\n",
    "\n",
    "def accuracy_eval(outputs, labels):\n",
    "    predictions = np.argmax(outputs, axis=1)\n",
    "    return accuracy_score(labels, predictions)\n",
    "\n",
    "\n",
    "def f1_score_eval(outputs, labels):\n",
    "    predictions = np.argmax(outputs, axis=1)\n",
    "    return f1_score(labels, predictions, average='weighted')\n",
    "\n",
    "\n",
    "def evaluate_fn(model, loader, name, criteria, show_progress=False, returned_predictions=False):\n",
    "    \"\"\"\n",
    "    if returned_predictions is True, return the predictions and labels\n",
    "    else return the accuracy and f1 score\n",
    "    \"\"\"\n",
    "    model.eval()\n",
    "    valid_loss = 0\n",
    "    all_outputs = []\n",
    "    all_labels = []\n",
    "\n",
    "    with torch.no_grad():\n",
    "        progress = tqdm(loader, desc=f\"Evaluating on {name.lower()} data\") if show_progress else loader\n",
    "        for batch in progress:\n",
    "            input = batch['tf_idf'].to(device)\n",
    "            label = batch['label'].to(device)\n",
    "            output = model(input)\n",
    "\n",
    "            loss = criteria(output, label)\n",
    "            valid_loss += loss\n",
    "\n",
    "            all_outputs.extend(output.detach().cpu().numpy())\n",
    "            all_labels.extend(label.detach().cpu().numpy())\n",
    "    \n",
    "    if returned_predictions:\n",
    "        return np.array(all_outputs), np.array(all_labels)\n",
    "        \n",
    "    acc_score = accuracy_eval(all_outputs, all_labels)\n",
    "    f1_score = f1_score_eval(all_outputs, all_labels)\n",
    "    if show_progress:\n",
    "        print(f\"{name} loss: {(valid_loss / len(loader)):.3f} | \\\n",
    "              {name} accuracy: {acc_score:.3f} | {name} F1-score: {f1_score:.3f}\\n---\\n\")\n",
    "    return acc_score, f1_score"
   ]
  },
  {
   "cell_type": "markdown",
   "id": "c42fb66d",
   "metadata": {},
   "source": [
    "### Model tuning"
   ]
  },
  {
   "cell_type": "code",
   "execution_count": 62,
   "id": "fb6f4b07",
   "metadata": {},
   "outputs": [
    {
     "name": "stderr",
     "output_type": "stream",
     "text": [
      "[I 2025-05-21 16:21:28,211] A new study created in memory with name: no-name-f68d70a8-3dd5-43b4-a0fa-b194f00441c1\n",
      " 20%|██        | 2/10 [00:52<03:28, 26.03s/it]\n",
      "[I 2025-05-21 16:22:20,307] Trial 0 finished with value: 0.5 and parameters: {'learning_rate': 77, 'hidden_size': 23}. Best is trial 0 with value: 0.5.\n"
     ]
    },
    {
     "name": "stdout",
     "output_type": "stream",
     "text": [
      "Early stopping at epoch 2\n"
     ]
    },
    {
     "name": "stderr",
     "output_type": "stream",
     "text": [
      " 30%|███       | 3/10 [01:01<02:22, 20.34s/it]\n",
      "[I 2025-05-21 16:23:21,366] Trial 1 finished with value: 0.5041848617176128 and parameters: {'learning_rate': 44, 'hidden_size': 11}. Best is trial 1 with value: 0.5041848617176128.\n"
     ]
    },
    {
     "name": "stdout",
     "output_type": "stream",
     "text": [
      "Early stopping at epoch 3\n"
     ]
    },
    {
     "name": "stderr",
     "output_type": "stream",
     "text": [
      " 20%|██        | 2/10 [00:49<03:18, 24.81s/it]\n",
      "[I 2025-05-21 16:24:11,025] Trial 2 finished with value: 0.5 and parameters: {'learning_rate': 67, 'hidden_size': 20}. Best is trial 1 with value: 0.5041848617176128.\n"
     ]
    },
    {
     "name": "stdout",
     "output_type": "stream",
     "text": [
      "Early stopping at epoch 2\n"
     ]
    },
    {
     "name": "stderr",
     "output_type": "stream",
     "text": [
      " 20%|██        | 2/10 [00:49<03:17, 24.69s/it]\n",
      "[I 2025-05-21 16:25:00,447] Trial 3 finished with value: 0.5 and parameters: {'learning_rate': 76, 'hidden_size': 14}. Best is trial 1 with value: 0.5041848617176128.\n"
     ]
    },
    {
     "name": "stdout",
     "output_type": "stream",
     "text": [
      "Early stopping at epoch 2\n"
     ]
    },
    {
     "name": "stderr",
     "output_type": "stream",
     "text": [
      " 20%|██        | 2/10 [00:49<03:16, 24.53s/it]\n",
      "[I 2025-05-21 16:25:49,548] Trial 4 finished with value: 0.5 and parameters: {'learning_rate': 70, 'hidden_size': 17}. Best is trial 1 with value: 0.5041848617176128.\n"
     ]
    },
    {
     "name": "stdout",
     "output_type": "stream",
     "text": [
      "Early stopping at epoch 2\n"
     ]
    },
    {
     "name": "stderr",
     "output_type": "stream",
     "text": [
      " 40%|████      | 4/10 [01:32<02:18, 23.12s/it]\n",
      "[I 2025-05-21 16:27:22,081] Trial 5 finished with value: 0.6570232896652111 and parameters: {'learning_rate': 82, 'hidden_size': 27}. Best is trial 5 with value: 0.6570232896652111.\n"
     ]
    },
    {
     "name": "stdout",
     "output_type": "stream",
     "text": [
      "Early stopping at epoch 4\n"
     ]
    },
    {
     "name": "stderr",
     "output_type": "stream",
     "text": [
      " 20%|██        | 2/10 [00:57<03:49, 28.66s/it]\n",
      "[I 2025-05-21 16:28:19,452] Trial 6 finished with value: 0.5 and parameters: {'learning_rate': 56, 'hidden_size': 28}. Best is trial 5 with value: 0.6570232896652111.\n"
     ]
    },
    {
     "name": "stdout",
     "output_type": "stream",
     "text": [
      "Early stopping at epoch 2\n"
     ]
    },
    {
     "name": "stderr",
     "output_type": "stream",
     "text": [
      " 30%|███       | 3/10 [01:07<02:37, 22.51s/it]\n",
      "[I 2025-05-21 16:29:27,029] Trial 7 finished with value: 0.6923216885007278 and parameters: {'learning_rate': 18, 'hidden_size': 19}. Best is trial 7 with value: 0.6923216885007278.\n"
     ]
    },
    {
     "name": "stdout",
     "output_type": "stream",
     "text": [
      "Early stopping at epoch 3\n"
     ]
    },
    {
     "name": "stderr",
     "output_type": "stream",
     "text": [
      " 20%|██        | 2/10 [00:49<03:19, 24.89s/it]\n",
      "[I 2025-05-21 16:30:16,846] Trial 8 finished with value: 0.5 and parameters: {'learning_rate': 74, 'hidden_size': 18}. Best is trial 7 with value: 0.6923216885007278.\n"
     ]
    },
    {
     "name": "stdout",
     "output_type": "stream",
     "text": [
      "Early stopping at epoch 2\n"
     ]
    },
    {
     "name": "stderr",
     "output_type": "stream",
     "text": [
      " 30%|███       | 3/10 [01:14<02:53, 24.82s/it]\n",
      "[I 2025-05-21 16:31:31,353] Trial 9 finished with value: 0.6934133915574964 and parameters: {'learning_rate': 56, 'hidden_size': 7}. Best is trial 9 with value: 0.6934133915574964.\n"
     ]
    },
    {
     "name": "stdout",
     "output_type": "stream",
     "text": [
      "Early stopping at epoch 3\n"
     ]
    }
   ],
   "source": [
    "from hyperparameter_tunning import *\n",
    "import optuna\n",
    "\n",
    "n_trials = 10\n",
    "tuning_epochs = 10\n",
    "\n",
    "lr_10000_suggestor = IntVariableSuggestion(\"learning_rate\", 1, 100)\n",
    "hidden_size_suggestor = IntVariableSuggestion(\"hidden_size\", 6, 30)\n",
    "\n",
    "def objective(trial):\n",
    "    learning_rate = lr_10000_suggestor.get_suggest(trial) * 1e-4\n",
    "    hidden_size = hidden_size_suggestor.get_suggest(trial)\n",
    "\n",
    "    torch.manual_seed(2025)\n",
    "    model = MLP(input_size, hidden_size, output_size)\n",
    "    model.to(device)\n",
    "    optimizer = optim.Adam(model.parameters(), lr=learning_rate)\n",
    "    criteria = nn.CrossEntropyLoss()\n",
    "\n",
    "    best_score = 0.5 # set best_score as 0.5\n",
    "    patience = 3\n",
    "\n",
    "    for epoch in tqdm(range(tuning_epochs)):\n",
    "        train_fn(model, train_loader, epoch, optimizer, criteria)\n",
    "        val_acc, _ = evaluate_fn(model, valid_loader, \"Validation\", criteria)\n",
    "\n",
    "        if val_acc > best_score:\n",
    "            best_score = val_acc\n",
    "            patience = 3\n",
    "        else:\n",
    "            patience -= 1\n",
    "            if patience <= 0:\n",
    "                print(f\"Early stopping at epoch {epoch}\")\n",
    "                break\n",
    "    \n",
    "    return best_score\n",
    "\n",
    "study = optuna.create_study(direction='maximize')\n",
    "study.optimize(objective, n_trials=n_trials, timeout=1800)"
   ]
  },
  {
   "cell_type": "code",
   "execution_count": 67,
   "id": "7030d207",
   "metadata": {},
   "outputs": [
    {
     "data": {
      "text/plain": [
       "(0.0056, 7)"
      ]
     },
     "execution_count": 67,
     "metadata": {},
     "output_type": "execute_result"
    }
   ],
   "source": [
    "learning_rate, hidden_size = study.best_params['learning_rate'] * 1e-4, study.best_params['hidden_size']\n",
    "learning_rate, hidden_size"
   ]
  },
  {
   "cell_type": "code",
   "execution_count": 68,
   "id": "b0ee0cb9",
   "metadata": {},
   "outputs": [
    {
     "data": {
      "text/plain": [
       "MLP(\n",
       "  (fc1): Linear(in_features=50000, out_features=7, bias=True)\n",
       "  (relu): ReLU()\n",
       "  (fc2): Linear(in_features=7, out_features=3, bias=True)\n",
       "  (softmax): Softmax(dim=1)\n",
       ")"
      ]
     },
     "execution_count": 68,
     "metadata": {},
     "output_type": "execute_result"
    }
   ],
   "source": [
    "torch.manual_seed(2025)\n",
    "model = MLP(input_size, hidden_size, output_size)\n",
    "optimizer = optim.Adam(model.parameters(), lr=learning_rate)\n",
    "criteria = nn.CrossEntropyLoss()\n",
    "model.to(device)"
   ]
  },
  {
   "cell_type": "code",
   "execution_count": null,
   "id": "a5fcef21",
   "metadata": {},
   "outputs": [],
   "source": [
    "# def train_fn(model, loader, epoch):\n",
    "#     model.train()\n",
    "#     epoch_loss = 0\n",
    "#     for batch in tqdm(loader, desc=f\"Epoch {epoch} training\"):\n",
    "#         input = batch['tf_idf'].to(device)\n",
    "#         label = batch['label'].to(device)\n",
    "#         output = model(input)\n",
    "\n",
    "#         loss = criteria(output, label)\n",
    "#         loss.backward()\n",
    "#         optimizer.step()\n",
    "#         optimizer.zero_grad()\n",
    "\n",
    "#         epoch_loss += loss\n",
    "    \n",
    "#     print(f\"Train loss at epoch {epoch}: {(epoch_loss / len(loader)):.3f}\\n---\")\n",
    "#     return epoch_loss / len(loader)\n",
    "\n",
    "\n",
    "# def accuracy_eval(outputs, labels):\n",
    "#     predictions = np.argmax(outputs, axis=1)\n",
    "#     return accuracy_score(labels, predictions)\n",
    "\n",
    "\n",
    "# def f1_score_eval(outputs, labels):\n",
    "#     predictions = np.argmax(outputs, axis=1)\n",
    "#     return f1_score(labels, predictions, average='weighted')\n",
    "\n",
    "\n",
    "# def evaluate_fn(model, loader, name, returned_predictions=False):\n",
    "#     \"\"\"\n",
    "#     if returned_predictions is True, return the predictions and labels\n",
    "#     else return the accuracy and f1 score\n",
    "#     \"\"\"\n",
    "#     model.eval()\n",
    "#     valid_loss = 0\n",
    "#     all_outputs = []\n",
    "#     all_labels = []\n",
    "\n",
    "#     with torch.no_grad():\n",
    "#         for batch in tqdm(loader, desc=f\"Evaluating on {name.lower()} data\"):\n",
    "#             input = batch['tf_idf'].to(device)\n",
    "#             label = batch['label'].to(device)\n",
    "#             output = model(input)\n",
    "\n",
    "#             loss = criteria(output, label)\n",
    "#             valid_loss += loss\n",
    "\n",
    "#             all_outputs.extend(output.detach().cpu().numpy())\n",
    "#             all_labels.extend(label.detach().cpu().numpy())\n",
    "    \n",
    "#     if returned_predictions:\n",
    "#         return np.array(all_outputs), np.array(all_labels)\n",
    "        \n",
    "#     acc_score = accuracy_eval(all_outputs, all_labels)\n",
    "#     f1_score = f1_score_eval(all_outputs, all_labels)\n",
    "#     print(f\"{name} loss: {(valid_loss / len(loader)):.3f} | {name} accuracy: {acc_score:.3f} | {name} F1-score: {f1_score:.3f}\\n---\\n\")\n",
    "#     return acc_score, f1_score"
   ]
  },
  {
   "cell_type": "code",
   "execution_count": 69,
   "id": "b71f89d6",
   "metadata": {},
   "outputs": [
    {
     "name": "stderr",
     "output_type": "stream",
     "text": [
      "Epoch 1 training: 100%|██████████| 687/687 [00:11<00:00, 58.69it/s]\n"
     ]
    },
    {
     "name": "stdout",
     "output_type": "stream",
     "text": [
      "Train loss at epoch 1: 0.955\n",
      "---\n"
     ]
    },
    {
     "name": "stderr",
     "output_type": "stream",
     "text": [
      "Evaluating on valid data: 100%|██████████| 172/172 [00:03<00:00, 53.16it/s]\n"
     ]
    },
    {
     "name": "stdout",
     "output_type": "stream",
     "text": [
      "Valid loss: 0.862 |               Valid accuracy: 0.693 | Valid F1-score: 0.692\n",
      "---\n",
      "\n",
      "Save model successfully\n"
     ]
    },
    {
     "name": "stderr",
     "output_type": "stream",
     "text": [
      "Epoch 2 training: 100%|██████████| 687/687 [00:14<00:00, 46.07it/s]\n"
     ]
    },
    {
     "name": "stdout",
     "output_type": "stream",
     "text": [
      "Train loss at epoch 2: 0.731\n",
      "---\n"
     ]
    },
    {
     "name": "stderr",
     "output_type": "stream",
     "text": [
      "Evaluating on valid data: 100%|██████████| 172/172 [00:03<00:00, 54.64it/s]\n"
     ]
    },
    {
     "name": "stdout",
     "output_type": "stream",
     "text": [
      "Valid loss: 0.864 |               Valid accuracy: 0.675 | Valid F1-score: 0.675\n",
      "---\n",
      "\n"
     ]
    },
    {
     "name": "stderr",
     "output_type": "stream",
     "text": [
      "Epoch 3 training: 100%|██████████| 687/687 [00:15<00:00, 45.08it/s]\n"
     ]
    },
    {
     "name": "stdout",
     "output_type": "stream",
     "text": [
      "Train loss at epoch 3: 0.645\n",
      "---\n"
     ]
    },
    {
     "name": "stderr",
     "output_type": "stream",
     "text": [
      "Evaluating on valid data: 100%|██████████| 172/172 [00:03<00:00, 52.98it/s]\n"
     ]
    },
    {
     "name": "stdout",
     "output_type": "stream",
     "text": [
      "Valid loss: 0.871 |               Valid accuracy: 0.667 | Valid F1-score: 0.667\n",
      "---\n",
      "\n"
     ]
    },
    {
     "name": "stderr",
     "output_type": "stream",
     "text": [
      "Epoch 4 training: 100%|██████████| 687/687 [00:15<00:00, 45.78it/s]\n"
     ]
    },
    {
     "name": "stdout",
     "output_type": "stream",
     "text": [
      "Train loss at epoch 4: 0.613\n",
      "---\n"
     ]
    },
    {
     "name": "stderr",
     "output_type": "stream",
     "text": [
      "Evaluating on valid data: 100%|██████████| 172/172 [00:03<00:00, 53.41it/s]"
     ]
    },
    {
     "name": "stdout",
     "output_type": "stream",
     "text": [
      "Valid loss: 0.877 |               Valid accuracy: 0.661 | Valid F1-score: 0.661\n",
      "---\n",
      "\n",
      "Early stopping at epoch: 3\n"
     ]
    },
    {
     "name": "stderr",
     "output_type": "stream",
     "text": [
      "\n"
     ]
    }
   ],
   "source": [
    "best_score = float(\"-inf\")\n",
    "patient = 3\n",
    "\n",
    "train_losses = []\n",
    "valid_acc_scores = []\n",
    "\n",
    "for epoch in range(num_epochs):\n",
    "    train_loss = train_fn(model, train_loader, epoch+1, optimizer, criteria, show_progress=True)\n",
    "    acc_score, _ = evaluate_fn(model, valid_loader, \"Valid\", criteria, show_progress=True)\n",
    "\n",
    "    train_losses.append(train_loss)\n",
    "    valid_acc_scores.append(acc_score)\n",
    "\n",
    "    if acc_score > best_score:\n",
    "        best_score = acc_score\n",
    "        torch.save(model.state_dict(), \"MLP-model.pt\")\n",
    "        patient = 3\n",
    "        print(f\"Save model successfully\")\n",
    "    else:\n",
    "        patient -= 1\n",
    "        if patient <= 0:\n",
    "            print(f\"Early stopping at epoch: {epoch}\")\n",
    "            break"
   ]
  },
  {
   "cell_type": "markdown",
   "id": "816d31ae",
   "metadata": {},
   "source": [
    "## Step 4: Model evaluation"
   ]
  },
  {
   "cell_type": "markdown",
   "id": "5b20a749",
   "metadata": {},
   "source": [
    "### Load best model"
   ]
  },
  {
   "cell_type": "code",
   "execution_count": 70,
   "id": "a00cd11a",
   "metadata": {},
   "outputs": [
    {
     "data": {
      "text/plain": [
       "<All keys matched successfully>"
      ]
     },
     "execution_count": 70,
     "metadata": {},
     "output_type": "execute_result"
    }
   ],
   "source": [
    "model.load_state_dict(torch.load(\"MLP-model.pt\", weights_only=True))"
   ]
  },
  {
   "cell_type": "markdown",
   "id": "1190bd2b",
   "metadata": {},
   "source": [
    "### Compute accuracy & F1-Score"
   ]
  },
  {
   "cell_type": "code",
   "execution_count": 72,
   "id": "bb1d7172",
   "metadata": {},
   "outputs": [
    {
     "name": "stderr",
     "output_type": "stream",
     "text": [
      "Evaluating on test data: 100%|██████████| 111/111 [00:01<00:00, 56.94it/s]"
     ]
    },
    {
     "name": "stdout",
     "output_type": "stream",
     "text": [
      "Test loss: 0.856 |               Test accuracy: 0.698 | Test F1-score: 0.698\n",
      "---\n",
      "\n",
      "Test accuracy = 0.6984 | Test f1 = 0.6984\n"
     ]
    },
    {
     "name": "stderr",
     "output_type": "stream",
     "text": [
      "\n"
     ]
    }
   ],
   "source": [
    "test_acc, test_f1 = evaluate_fn(model, test_loader, \"Test\", criteria, show_progress=True)\n",
    "print(f\"Test accuracy = {test_acc:.4f} | Test f1 = {test_f1:.4f}\")"
   ]
  },
  {
   "cell_type": "code",
   "execution_count": 74,
   "id": "68572eef",
   "metadata": {},
   "outputs": [],
   "source": [
    "train_losses = [loss.detach().cpu().numpy() for loss in train_losses]"
   ]
  },
  {
   "cell_type": "code",
   "execution_count": 75,
   "id": "61061ed2",
   "metadata": {},
   "outputs": [
    {
     "data": {
      "image/png": "[encoded data removed]",
      "text/plain": [
       "<Figure size 1200x500 with 2 Axes>"
      ]
     },
     "metadata": {},
     "output_type": "display_data"
    }
   ],
   "source": [
    "epochs = list(range(1, 21))\n",
    "\n",
    "fig, axes = plt.subplots(1, 2, figsize=(12, 5))\n",
    "actual_epochs = epochs[:len(train_losses)]\n",
    "\n",
    "axes[0].plot(actual_epochs, train_losses, marker='o', linestyle='-', color='b', label='Train Loss')\n",
    "axes[0].set_xlabel(\"Epoch\")\n",
    "axes[0].set_ylabel(\"Loss\")\n",
    "axes[0].set_title(\"Training Loss over Epochs\")\n",
    "axes[0].grid(True)\n",
    "axes[0].legend()\n",
    "axes[0].set_xticks([epoch for epoch in actual_epochs if epoch % 4 == 0])\n",
    "\n",
    "axes[1].plot(epochs[:len(train_losses)], valid_acc_scores, marker='o', linestyle='-', color='b', label='Evaluation Accuracy')\n",
    "axes[1].set_xlabel(\"Epoch\")\n",
    "axes[1].set_ylabel(\"Accuracy\")\n",
    "axes[1].set_title(\"Evaluation Accuracy over Epochs\")\n",
    "axes[1].grid(True)\n",
    "axes[1].legend()\n",
    "axes[1].set_xticks([epoch for epoch in actual_epochs if epoch % 4 == 0])\n",
    "\n",
    "plt.tight_layout()\n",
    "plt.show()"
   ]
  },
  {
   "cell_type": "markdown",
   "id": "407f5e62",
   "metadata": {},
   "source": [
    "### Draw AUC - ROC curves"
   ]
  },
  {
   "cell_type": "code",
   "execution_count": 77,
   "id": "1741cf95",
   "metadata": {},
   "outputs": [
    {
     "data": {
      "image/png": "[encoded data removed]",
      "text/plain": [
       "<Figure size 800x600 with 1 Axes>"
      ]
     },
     "metadata": {},
     "output_type": "display_data"
    }
   ],
   "source": [
    "from visualization import plot_roc_auc, plot_confusion_matrix\n",
    "\n",
    "y_prob, y_true = evaluate_fn(model, test_loader, \"Test\", criteria, returned_predictions=True)\n",
    "y_pred = np.argmax(y_prob, axis=1)\n",
    "y_prob.shape, y_true.shape, y_pred.shape\n",
    "\n",
    "plot_roc_auc(y_true, y_prob, classes=['negative', 'neutral', 'positive'])"
   ]
  },
  {
   "cell_type": "markdown",
   "id": "571e8c5a",
   "metadata": {},
   "source": [
    "### Plot confusion matrix"
   ]
  },
  {
   "cell_type": "code",
   "execution_count": 78,
   "id": "f8ba5dc6",
   "metadata": {},
   "outputs": [
    {
     "data": {
      "image/png": "[encoded data removed]",
      "text/plain": [
       "<Figure size 600x600 with 2 Axes>"
      ]
     },
     "metadata": {},
     "output_type": "display_data"
    }
   ],
   "source": [
    "plot_confusion_matrix(y_true, y_pred, class_labels=['negative', 'neutral', 'positive'])"
   ]
  }
 ],
 "metadata": {
  "kernelspec": {
   "display_name": "Env_for_pytorch",
   "language": "python",
   "name": "python3"
  },
  "language_info": {
   "codemirror_mode": {
    "name": "ipython",
    "version": 3
   },
   "file_extension": ".py",
   "mimetype": "text/x-python",
   "name": "python",
   "nbconvert_exporter": "python",
   "pygments_lexer": "ipython3",
   "version": "3.9.21"
  }
 },
 "nbformat": 4,
 "nbformat_minor": 5
}
