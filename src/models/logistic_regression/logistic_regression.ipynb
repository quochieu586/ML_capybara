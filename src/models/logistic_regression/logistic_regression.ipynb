{
 "cells": [
  {
   "cell_type": "markdown",
   "id": "20c47095",
   "metadata": {},
   "source": [
    "## Stage 1: import dataset + libraries"
   ]
  },
  {
   "cell_type": "code",
   "execution_count": 1,
   "id": "d084ffda",
   "metadata": {},
   "outputs": [],
   "source": [
    "import sys\n",
    "import os\n",
    "import torch\n",
    "import torch.nn as nn\n",
    "import torch.optim as optim\n",
    "from datasets import Dataset\n",
    "from torch.utils.data import DataLoader\n",
    "import numpy as np\n",
    "from tqdm import tqdm\n",
    "from sklearn.metrics import accuracy_score, f1_score\n",
    "from sklearn.feature_extraction.text import TfidfVectorizer\n",
    "\n",
    "sys.path.append(os.path.abspath(os.path.join(os.getcwd(), \"..\", \"..\")))\n",
    "from data import Preprocessing, FeatureExtraction"
   ]
  },
  {
   "cell_type": "code",
   "execution_count": 2,
   "id": "1e0a9f01",
   "metadata": {},
   "outputs": [
    {
     "name": "stdout",
     "output_type": "stream",
     "text": [
      "✓ 'punkt' is already available.\n",
      "✓ 'stopwords' is already available.\n",
      "✗ 'wordnet' not found. Downloading...\n",
      "✓ 'averaged_perceptron_tagger' is already available.\n"
     ]
    },
    {
     "name": "stderr",
     "output_type": "stream",
     "text": [
      "[nltk_data] Downloading package wordnet to\n",
      "[nltk_data]     /Users/tranquochieu/nltk_data...\n",
      "[nltk_data]   Package wordnet is already up-to-date!\n"
     ]
    },
    {
     "data": {
      "text/plain": [
       "((27480, 10), (3534, 9))"
      ]
     },
     "execution_count": 2,
     "metadata": {},
     "output_type": "execute_result"
    }
   ],
   "source": [
    "prepro_tool = Preprocessing()\n",
    "train_df = prepro_tool.read_CSV(file_name='train.csv')\n",
    "test_df = prepro_tool.read_CSV(file_name='test.csv')\n",
    "\n",
    "train_df.shape, test_df.shape"
   ]
  },
  {
   "cell_type": "markdown",
   "id": "4c1e690d",
   "metadata": {},
   "source": [
    "## Stage 2: Preprocessing"
   ]
  },
  {
   "cell_type": "code",
   "execution_count": 3,
   "id": "91af1c60",
   "metadata": {},
   "outputs": [
    {
     "data": {
      "text/plain": [
       "{'textID': 'cb774db0d1',\n",
       " 'text': ' I`d have responded, if I were going',\n",
       " 'selected_text': 'I`d have responded, if I were going',\n",
       " 'sentiment': 'neutral',\n",
       " 'Time of Tweet': 'morning',\n",
       " 'Age of User': '0-20',\n",
       " 'Country': 'Afghanistan',\n",
       " 'Population -2020': 38928346,\n",
       " 'Land Area (Kmï¿½)': 652860.0,\n",
       " 'Density (P/Kmï¿½)': 60,\n",
       " '__index_level_0__': 0}"
      ]
     },
     "execution_count": 3,
     "metadata": {},
     "output_type": "execute_result"
    }
   ],
   "source": [
    "train_data = Dataset.from_pandas(train_df)\n",
    "test_data = Dataset.from_pandas(test_df)\n",
    "\n",
    "train_data[0]"
   ]
  },
  {
   "cell_type": "code",
   "execution_count": 4,
   "id": "f86cda3e",
   "metadata": {},
   "outputs": [
    {
     "data": {
      "application/vnd.jupyter.widget-view+json": {
       "model_id": "8149d7c286bc485f9feaf2ba4717632a",
       "version_major": 2,
       "version_minor": 0
      },
      "text/plain": [
       "Map:   0%|          | 0/27480 [00:00<?, ? examples/s]"
      ]
     },
     "metadata": {},
     "output_type": "display_data"
    },
    {
     "data": {
      "application/vnd.jupyter.widget-view+json": {
       "model_id": "45d2fff0fea742a8a65323bcf22acedd",
       "version_major": 2,
       "version_minor": 0
      },
      "text/plain": [
       "Map:   0%|          | 0/3534 [00:00<?, ? examples/s]"
      ]
     },
     "metadata": {},
     "output_type": "display_data"
    },
    {
     "data": {
      "text/plain": [
       "{'textID': 'cb774db0d1',\n",
       " 'text': ' I`d have responded, if I were going',\n",
       " 'selected_text': 'I`d have responded, if I were going',\n",
       " 'sentiment': 'neutral',\n",
       " 'Time of Tweet': 'morning',\n",
       " 'Age of User': '0-20',\n",
       " 'Country': 'Afghanistan',\n",
       " 'Population -2020': 38928346,\n",
       " 'Land Area (Kmï¿½)': 652860.0,\n",
       " 'Density (P/Kmï¿½)': 60,\n",
       " '__index_level_0__': 0,\n",
       " 'processed_text': 'id responded going',\n",
       " 'label': 1}"
      ]
     },
     "execution_count": 4,
     "metadata": {},
     "output_type": "execute_result"
    }
   ],
   "source": [
    "train_data = train_data.map(lambda ex: {'processed_text': prepro_tool.preprocess(ex['text']),\\\n",
    "                                        'label': 2 if ex['sentiment'] == 'positive' else \\\n",
    "                                        1 if ex['sentiment'] == 'neutral' else 0 })\n",
    "test_data = test_data.map(lambda ex: {'processed_text': prepro_tool.preprocess(ex['text']),\\\n",
    "                                        'label': 2 if ex['sentiment'] == 'positive' else \\\n",
    "                                        1 if ex['sentiment'] == 'neutral' else 0 })\n",
    "\n",
    "train_data[0]"
   ]
  },
  {
   "cell_type": "code",
   "execution_count": 5,
   "id": "bc35261e",
   "metadata": {},
   "outputs": [],
   "source": [
    "# test_data[0]"
   ]
  },
  {
   "cell_type": "markdown",
   "id": "9eac0862",
   "metadata": {},
   "source": [
    "### Load number of samples for each class"
   ]
  },
  {
   "cell_type": "code",
   "execution_count": 6,
   "id": "28250251",
   "metadata": {},
   "outputs": [
    {
     "name": "stderr",
     "output_type": "stream",
     "text": [
      "/var/folders/cy/hxjg9r351_99ytx8k04pq_4c0000gn/T/ipykernel_13870/3149057442.py:18: UserWarning: This figure includes Axes that are not compatible with tight_layout, so results might be incorrect.\n",
      "  plt.tight_layout()\n"
     ]
    },
    {
     "data": {
      "image/png": "[encoded data removed]",
      "text/plain": [
       "<Figure size 1200x500 with 2 Axes>"
      ]
     },
     "metadata": {},
     "output_type": "display_data"
    }
   ],
   "source": [
    "from typing import Counter\n",
    "import matplotlib.pyplot as plt\n",
    "\n",
    "fig, axs = plt.subplots(1, 2, figsize=(12, 5), gridspec_kw={'wspace': 0.3})\n",
    "\n",
    "counter = Counter(train_data['sentiment'])\n",
    "axs[0].bar(counter.keys(), counter.values())\n",
    "axs[0].set_title(\"Classes distribution in Train Data\")\n",
    "axs[0].set_xlabel(\"Labels\")\n",
    "axs[0].set_ylabel(\"Counts\")\n",
    "\n",
    "counter = Counter(test_data['sentiment'])\n",
    "axs[1].bar(counter.keys(), counter.values())\n",
    "axs[1].set_title(\"Classes distribution in Test Data\")\n",
    "axs[1].set_xlabel(\"Labels\")\n",
    "axs[1].set_ylabel(\"Counts\")\n",
    "\n",
    "plt.tight_layout()\n",
    "plt.show()"
   ]
  },
  {
   "cell_type": "markdown",
   "id": "57de7055",
   "metadata": {},
   "source": [
    "### Map tf-idf feature to dataset"
   ]
  },
  {
   "cell_type": "code",
   "execution_count": 7,
   "id": "80df6faa",
   "metadata": {},
   "outputs": [
    {
     "name": "stdout",
     "output_type": "stream",
     "text": [
      "train tf-idf shape: (27480, 50000)\n",
      "test tf-idf shape: (3534, 50000)\n"
     ]
    },
    {
     "data": {
      "application/vnd.jupyter.widget-view+json": {
       "model_id": "88408b5e15394ddd98d376b09bd27873",
       "version_major": 2,
       "version_minor": 0
      },
      "text/plain": [
       "Map:   0%|          | 0/27480 [00:00<?, ? examples/s]"
      ]
     },
     "metadata": {},
     "output_type": "display_data"
    },
    {
     "data": {
      "application/vnd.jupyter.widget-view+json": {
       "model_id": "b52c1795cd7b40d1ba71fcc05bf3cf16",
       "version_major": 2,
       "version_minor": 0
      },
      "text/plain": [
       "Map:   0%|          | 0/3534 [00:00<?, ? examples/s]"
      ]
     },
     "metadata": {},
     "output_type": "display_data"
    },
    {
     "data": {
      "text/plain": [
       "{'textID': 'cb774db0d1',\n",
       " 'text': ' I`d have responded, if I were going',\n",
       " 'selected_text': 'I`d have responded, if I were going',\n",
       " 'sentiment': 'neutral',\n",
       " 'Time of Tweet': 'morning',\n",
       " 'Age of User': '0-20',\n",
       " 'Country': 'Afghanistan',\n",
       " 'Population -2020': 38928346,\n",
       " 'Land Area (Kmï¿½)': 652860.0,\n",
       " 'Density (P/Kmï¿½)': 60,\n",
       " '__index_level_0__': 0,\n",
       " 'processed_text': 'id responded going',\n",
       " 'label': 1,\n",
       " 'tf_idf': [0.0,\n",
       "  0.0,\n",
       "  0.0,\n",
       "  0.0,\n",
       "  0.0,\n",
       "  0.0,\n",
       "  0.0,\n",
       "  0.0,\n",
       "  0.0,\n",
       "  0.0,\n",
       "  0.0,\n",
       "  0.0,\n",
       "  0.0,\n",
       "  0.0,\n",
       "  0.0,\n",
       "  0.0,\n",
       "  0.0,\n",
       "  0.0,\n",
       "  0.0,\n",
       "  0.0,\n",
       "  0.0,\n",
       "  0.0,\n",
       "  0.0,\n",
       "  0.0,\n",
       "  0.0,\n",
       "  0.0,\n",
       "  0.0,\n",
       "  0.0,\n",
       "  0.0,\n",
       "  0.0,\n",
       "  0.0,\n",
       "  0.0,\n",
       "  0.0,\n",
       "  0.0,\n",
       "  0.0,\n",
       "  0.0,\n",
       "  0.0,\n",
       "  0.0,\n",
       "  0.0,\n",
       "  0.0,\n",
       "  0.0,\n",
       "  0.0,\n",
       "  0.0,\n",
       "  0.0,\n",
       "  0.0,\n",
       "  0.0,\n",
       "  0.0,\n",
       "  0.0,\n",
       "  0.0,\n",
       "  0.0,\n",
       "  0.0,\n",
       "  0.0,\n",
       "  0.0,\n",
       "  0.0,\n",
       "  0.0,\n",
       "  0.0,\n",
       "  0.0,\n",
       "  0.0,\n",
       "  0.0,\n",
       "  0.0,\n",
       "  0.0,\n",
       "  0.0,\n",
       "  0.0,\n",
       "  0.0,\n",
       "  0.0,\n",
       "  0.0,\n",
       "  0.0,\n",
       "  0.0,\n",
       "  0.0,\n",
       "  0.0,\n",
       "  0.0,\n",
       "  0.0,\n",
       "  0.0,\n",
       "  0.0,\n",
       "  0.0,\n",
       "  0.0,\n",
       "  0.0,\n",
       "  0.0,\n",
       "  0.0,\n",
       "  0.0,\n",
       "  0.0,\n",
       "  0.0,\n",
       "  0.0,\n",
       "  0.0,\n",
       "  0.0,\n",
       "  0.0,\n",
       "  0.0,\n",
       "  0.0,\n",
       "  0.0,\n",
       "  0.0,\n",
       "  0.0,\n",
       "  0.0,\n",
       "  0.0,\n",
       "  0.0,\n",
       "  0.0,\n",
       "  0.0,\n",
       "  0.0,\n",
       "  0.0,\n",
       "  0.0,\n",
       "  0.0,\n",
       "  0.0,\n",
       "  0.0,\n",
       "  0.0,\n",
       "  0.0,\n",
       "  0.0,\n",
       "  0.0,\n",
       "  0.0,\n",
       "  0.0,\n",
       "  0.0,\n",
       "  0.0,\n",
       "  0.0,\n",
       "  0.0,\n",
       "  0.0,\n",
       "  0.0,\n",
       "  0.0,\n",
       "  0.0,\n",
       "  0.0,\n",
       "  0.0,\n",
       "  0.0,\n",
       "  0.0,\n",
       "  0.0,\n",
       "  0.0,\n",
       "  0.0,\n",
       "  0.0,\n",
       "  0.0,\n",
       "  0.0,\n",
       "  0.0,\n",
       "  0.0,\n",
       "  0.0,\n",
       "  0.0,\n",
       "  0.0,\n",
       "  0.0,\n",
       "  0.0,\n",
       "  0.0,\n",
       "  0.0,\n",
       "  0.0,\n",
       "  0.0,\n",
       "  0.0,\n",
       "  0.0,\n",
       "  0.0,\n",
       "  0.0,\n",
       "  0.0,\n",
       "  0.0,\n",
       "  0.0,\n",
       "  0.0,\n",
       "  0.0,\n",
       "  0.0,\n",
       "  0.0,\n",
       "  0.0,\n",
       "  0.0,\n",
       "  0.0,\n",
       "  0.0,\n",
       "  0.0,\n",
       "  0.0,\n",
       "  0.0,\n",
       "  0.0,\n",
       "  0.0,\n",
       "  0.0,\n",
       "  0.0,\n",
       "  0.0,\n",
       "  0.0,\n",
       "  0.0,\n",
       "  0.0,\n",
       "  0.0,\n",
       "  0.0,\n",
       "  0.0,\n",
       "  0.0,\n",
       "  0.0,\n",
       "  0.0,\n",
       "  0.0,\n",
       "  0.0,\n",
       "  0.0,\n",
       "  0.0,\n",
       "  0.0,\n",
       "  0.0,\n",
       "  0.0,\n",
       "  0.0,\n",
       "  0.0,\n",
       "  0.0,\n",
       "  0.0,\n",
       "  0.0,\n",
       "  0.0,\n",
       "  0.0,\n",
       "  0.0,\n",
       "  0.0,\n",
       "  0.0,\n",
       "  0.0,\n",
       "  0.0,\n",
       "  0.0,\n",
       "  0.0,\n",
       "  0.0,\n",
       "  0.0,\n",
       "  0.0,\n",
       "  0.0,\n",
       "  0.0,\n",
       "  0.0,\n",
       "  0.0,\n",
       "  0.0,\n",
       "  0.0,\n",
       "  0.0,\n",
       "  0.0,\n",
       "  0.0,\n",
       "  0.0,\n",
       "  0.0,\n",
       "  0.0,\n",
       "  0.0,\n",
       "  0.0,\n",
       "  0.0,\n",
       "  0.0,\n",
       "  0.0,\n",
       "  0.0,\n",
       "  0.0,\n",
       "  0.0,\n",
       "  0.0,\n",
       "  0.0,\n",
       "  0.0,\n",
       "  0.0,\n",
       "  0.0,\n",
       "  0.0,\n",
       "  0.0,\n",
       "  0.0,\n",
       "  0.0,\n",
       "  0.0,\n",
       "  0.0,\n",
       "  0.0,\n",
       "  0.0,\n",
       "  0.0,\n",
       "  0.0,\n",
       "  0.0,\n",
       "  0.0,\n",
       "  0.0,\n",
       "  0.0,\n",
       "  0.0,\n",
       "  0.0,\n",
       "  0.0,\n",
       "  0.0,\n",
       "  0.0,\n",
       "  0.0,\n",
       "  0.0,\n",
       "  0.0,\n",
       "  0.0,\n",
       "  0.0,\n",
       "  0.0,\n",
       "  0.0,\n",
       "  0.0,\n",
       "  0.0,\n",
       "  0.0,\n",
       "  0.0,\n",
       "  0.0,\n",
       "  0.0,\n",
       "  0.0,\n",
       "  0.0,\n",
       "  0.0,\n",
       "  0.0,\n",
       "  0.0,\n",
       "  0.0,\n",
       "  0.0,\n",
       "  0.0,\n",
       "  0.0,\n",
       "  0.0,\n",
       "  0.0,\n",
       "  0.0,\n",
       "  0.0,\n",
       "  0.0,\n",
       "  0.0,\n",
       "  0.0,\n",
       "  0.0,\n",
       "  0.0,\n",
       "  0.0,\n",
       "  0.0,\n",
       "  0.0,\n",
       "  0.0,\n",
       "  0.0,\n",
       "  0.0,\n",
       "  0.0,\n",
       "  0.0,\n",
       "  0.0,\n",
       "  0.0,\n",
       "  0.0,\n",
       "  0.0,\n",
       "  0.0,\n",
       "  0.0,\n",
       "  0.0,\n",
       "  0.0,\n",
       "  0.0,\n",
       "  0.0,\n",
       "  0.0,\n",
       "  0.0,\n",
       "  0.0,\n",
       "  0.0,\n",
       "  0.0,\n",
       "  0.0,\n",
       "  0.0,\n",
       "  0.0,\n",
       "  0.0,\n",
       "  0.0,\n",
       "  0.0,\n",
       "  0.0,\n",
       "  0.0,\n",
       "  0.0,\n",
       "  0.0,\n",
       "  0.0,\n",
       "  0.0,\n",
       "  0.0,\n",
       "  0.0,\n",
       "  0.0,\n",
       "  0.0,\n",
       "  0.0,\n",
       "  0.0,\n",
       "  0.0,\n",
       "  0.0,\n",
       "  0.0,\n",
       "  0.0,\n",
       "  0.0,\n",
       "  0.0,\n",
       "  0.0,\n",
       "  0.0,\n",
       "  0.0,\n",
       "  0.0,\n",
       "  0.0,\n",
       "  0.0,\n",
       "  0.0,\n",
       "  0.0,\n",
       "  0.0,\n",
       "  0.0,\n",
       "  0.0,\n",
       "  0.0,\n",
       "  0.0,\n",
       "  0.0,\n",
       "  0.0,\n",
       "  0.0,\n",
       "  0.0,\n",
       "  0.0,\n",
       "  0.0,\n",
       "  0.0,\n",
       "  0.0,\n",
       "  0.0,\n",
       "  0.0,\n",
       "  0.0,\n",
       "  0.0,\n",
       "  0.0,\n",
       "  0.0,\n",
       "  0.0,\n",
       "  0.0,\n",
       "  0.0,\n",
       "  0.0,\n",
       "  0.0,\n",
       "  0.0,\n",
       "  0.0,\n",
       "  0.0,\n",
       "  0.0,\n",
       "  0.0,\n",
       "  0.0,\n",
       "  0.0,\n",
       "  0.0,\n",
       "  0.0,\n",
       "  0.0,\n",
       "  0.0,\n",
       "  0.0,\n",
       "  0.0,\n",
       "  0.0,\n",
       "  0.0,\n",
       "  0.0,\n",
       "  0.0,\n",
       "  0.0,\n",
       "  0.0,\n",
       "  0.0,\n",
       "  0.0,\n",
       "  0.0,\n",
       "  0.0,\n",
       "  0.0,\n",
       "  0.0,\n",
       "  0.0,\n",
       "  0.0,\n",
       "  0.0,\n",
       "  0.0,\n",
       "  0.0,\n",
       "  0.0,\n",
       "  0.0,\n",
       "  0.0,\n",
       "  0.0,\n",
       "  0.0,\n",
       "  0.0,\n",
       "  0.0,\n",
       "  0.0,\n",
       "  0.0,\n",
       "  0.0,\n",
       "  0.0,\n",
       "  0.0,\n",
       "  0.0,\n",
       "  0.0,\n",
       "  0.0,\n",
       "  0.0,\n",
       "  0.0,\n",
       "  0.0,\n",
       "  0.0,\n",
       "  0.0,\n",
       "  0.0,\n",
       "  0.0,\n",
       "  0.0,\n",
       "  0.0,\n",
       "  0.0,\n",
       "  0.0,\n",
       "  0.0,\n",
       "  0.0,\n",
       "  0.0,\n",
       "  0.0,\n",
       "  0.0,\n",
       "  0.0,\n",
       "  0.0,\n",
       "  0.0,\n",
       "  0.0,\n",
       "  0.0,\n",
       "  0.0,\n",
       "  0.0,\n",
       "  0.0,\n",
       "  0.0,\n",
       "  0.0,\n",
       "  0.0,\n",
       "  0.0,\n",
       "  0.0,\n",
       "  0.0,\n",
       "  0.0,\n",
       "  0.0,\n",
       "  0.0,\n",
       "  0.0,\n",
       "  0.0,\n",
       "  0.0,\n",
       "  0.0,\n",
       "  0.0,\n",
       "  0.0,\n",
       "  0.0,\n",
       "  0.0,\n",
       "  0.0,\n",
       "  0.0,\n",
       "  0.0,\n",
       "  0.0,\n",
       "  0.0,\n",
       "  0.0,\n",
       "  0.0,\n",
       "  0.0,\n",
       "  0.0,\n",
       "  0.0,\n",
       "  0.0,\n",
       "  0.0,\n",
       "  0.0,\n",
       "  0.0,\n",
       "  0.0,\n",
       "  0.0,\n",
       "  0.0,\n",
       "  0.0,\n",
       "  0.0,\n",
       "  0.0,\n",
       "  0.0,\n",
       "  0.0,\n",
       "  0.0,\n",
       "  0.0,\n",
       "  0.0,\n",
       "  0.0,\n",
       "  0.0,\n",
       "  0.0,\n",
       "  0.0,\n",
       "  0.0,\n",
       "  0.0,\n",
       "  0.0,\n",
       "  0.0,\n",
       "  0.0,\n",
       "  0.0,\n",
       "  0.0,\n",
       "  0.0,\n",
       "  0.0,\n",
       "  0.0,\n",
       "  0.0,\n",
       "  0.0,\n",
       "  0.0,\n",
       "  0.0,\n",
       "  0.0,\n",
       "  0.0,\n",
       "  0.0,\n",
       "  0.0,\n",
       "  0.0,\n",
       "  0.0,\n",
       "  0.0,\n",
       "  0.0,\n",
       "  0.0,\n",
       "  0.0,\n",
       "  0.0,\n",
       "  0.0,\n",
       "  0.0,\n",
       "  0.0,\n",
       "  0.0,\n",
       "  0.0,\n",
       "  0.0,\n",
       "  0.0,\n",
       "  0.0,\n",
       "  0.0,\n",
       "  0.0,\n",
       "  0.0,\n",
       "  0.0,\n",
       "  0.0,\n",
       "  0.0,\n",
       "  0.0,\n",
       "  0.0,\n",
       "  0.0,\n",
       "  0.0,\n",
       "  0.0,\n",
       "  0.0,\n",
       "  0.0,\n",
       "  0.0,\n",
       "  0.0,\n",
       "  0.0,\n",
       "  0.0,\n",
       "  0.0,\n",
       "  0.0,\n",
       "  0.0,\n",
       "  0.0,\n",
       "  0.0,\n",
       "  0.0,\n",
       "  0.0,\n",
       "  0.0,\n",
       "  0.0,\n",
       "  0.0,\n",
       "  0.0,\n",
       "  0.0,\n",
       "  0.0,\n",
       "  0.0,\n",
       "  0.0,\n",
       "  0.0,\n",
       "  0.0,\n",
       "  0.0,\n",
       "  0.0,\n",
       "  0.0,\n",
       "  0.0,\n",
       "  0.0,\n",
       "  0.0,\n",
       "  0.0,\n",
       "  0.0,\n",
       "  0.0,\n",
       "  0.0,\n",
       "  0.0,\n",
       "  0.0,\n",
       "  0.0,\n",
       "  0.0,\n",
       "  0.0,\n",
       "  0.0,\n",
       "  0.0,\n",
       "  0.0,\n",
       "  0.0,\n",
       "  0.0,\n",
       "  0.0,\n",
       "  0.0,\n",
       "  0.0,\n",
       "  0.0,\n",
       "  0.0,\n",
       "  0.0,\n",
       "  0.0,\n",
       "  0.0,\n",
       "  0.0,\n",
       "  0.0,\n",
       "  0.0,\n",
       "  0.0,\n",
       "  0.0,\n",
       "  0.0,\n",
       "  0.0,\n",
       "  0.0,\n",
       "  0.0,\n",
       "  0.0,\n",
       "  0.0,\n",
       "  0.0,\n",
       "  0.0,\n",
       "  0.0,\n",
       "  0.0,\n",
       "  0.0,\n",
       "  0.0,\n",
       "  0.0,\n",
       "  0.0,\n",
       "  0.0,\n",
       "  0.0,\n",
       "  0.0,\n",
       "  0.0,\n",
       "  0.0,\n",
       "  0.0,\n",
       "  0.0,\n",
       "  0.0,\n",
       "  0.0,\n",
       "  0.0,\n",
       "  0.0,\n",
       "  0.0,\n",
       "  0.0,\n",
       "  0.0,\n",
       "  0.0,\n",
       "  0.0,\n",
       "  0.0,\n",
       "  0.0,\n",
       "  0.0,\n",
       "  0.0,\n",
       "  0.0,\n",
       "  0.0,\n",
       "  0.0,\n",
       "  0.0,\n",
       "  0.0,\n",
       "  0.0,\n",
       "  0.0,\n",
       "  0.0,\n",
       "  0.0,\n",
       "  0.0,\n",
       "  0.0,\n",
       "  0.0,\n",
       "  0.0,\n",
       "  0.0,\n",
       "  0.0,\n",
       "  0.0,\n",
       "  0.0,\n",
       "  0.0,\n",
       "  0.0,\n",
       "  0.0,\n",
       "  0.0,\n",
       "  0.0,\n",
       "  0.0,\n",
       "  0.0,\n",
       "  0.0,\n",
       "  0.0,\n",
       "  0.0,\n",
       "  0.0,\n",
       "  0.0,\n",
       "  0.0,\n",
       "  0.0,\n",
       "  0.0,\n",
       "  0.0,\n",
       "  0.0,\n",
       "  0.0,\n",
       "  0.0,\n",
       "  0.0,\n",
       "  0.0,\n",
       "  0.0,\n",
       "  0.0,\n",
       "  0.0,\n",
       "  0.0,\n",
       "  0.0,\n",
       "  0.0,\n",
       "  0.0,\n",
       "  0.0,\n",
       "  0.0,\n",
       "  0.0,\n",
       "  0.0,\n",
       "  0.0,\n",
       "  0.0,\n",
       "  0.0,\n",
       "  0.0,\n",
       "  0.0,\n",
       "  0.0,\n",
       "  0.0,\n",
       "  0.0,\n",
       "  0.0,\n",
       "  0.0,\n",
       "  0.0,\n",
       "  0.0,\n",
       "  0.0,\n",
       "  0.0,\n",
       "  0.0,\n",
       "  0.0,\n",
       "  0.0,\n",
       "  0.0,\n",
       "  0.0,\n",
       "  0.0,\n",
       "  0.0,\n",
       "  0.0,\n",
       "  0.0,\n",
       "  0.0,\n",
       "  0.0,\n",
       "  0.0,\n",
       "  0.0,\n",
       "  0.0,\n",
       "  0.0,\n",
       "  0.0,\n",
       "  0.0,\n",
       "  0.0,\n",
       "  0.0,\n",
       "  0.0,\n",
       "  0.0,\n",
       "  0.0,\n",
       "  0.0,\n",
       "  0.0,\n",
       "  0.0,\n",
       "  0.0,\n",
       "  0.0,\n",
       "  0.0,\n",
       "  0.0,\n",
       "  0.0,\n",
       "  0.0,\n",
       "  0.0,\n",
       "  0.0,\n",
       "  0.0,\n",
       "  0.0,\n",
       "  0.0,\n",
       "  0.0,\n",
       "  0.0,\n",
       "  0.0,\n",
       "  0.0,\n",
       "  0.0,\n",
       "  0.0,\n",
       "  0.0,\n",
       "  0.0,\n",
       "  0.0,\n",
       "  0.0,\n",
       "  0.0,\n",
       "  0.0,\n",
       "  0.0,\n",
       "  0.0,\n",
       "  0.0,\n",
       "  0.0,\n",
       "  0.0,\n",
       "  0.0,\n",
       "  0.0,\n",
       "  0.0,\n",
       "  0.0,\n",
       "  0.0,\n",
       "  0.0,\n",
       "  0.0,\n",
       "  0.0,\n",
       "  0.0,\n",
       "  0.0,\n",
       "  0.0,\n",
       "  0.0,\n",
       "  0.0,\n",
       "  0.0,\n",
       "  0.0,\n",
       "  0.0,\n",
       "  0.0,\n",
       "  0.0,\n",
       "  0.0,\n",
       "  0.0,\n",
       "  0.0,\n",
       "  0.0,\n",
       "  0.0,\n",
       "  0.0,\n",
       "  0.0,\n",
       "  0.0,\n",
       "  0.0,\n",
       "  0.0,\n",
       "  0.0,\n",
       "  0.0,\n",
       "  0.0,\n",
       "  0.0,\n",
       "  0.0,\n",
       "  0.0,\n",
       "  0.0,\n",
       "  0.0,\n",
       "  0.0,\n",
       "  0.0,\n",
       "  0.0,\n",
       "  0.0,\n",
       "  0.0,\n",
       "  0.0,\n",
       "  0.0,\n",
       "  0.0,\n",
       "  0.0,\n",
       "  0.0,\n",
       "  0.0,\n",
       "  0.0,\n",
       "  0.0,\n",
       "  0.0,\n",
       "  0.0,\n",
       "  0.0,\n",
       "  0.0,\n",
       "  0.0,\n",
       "  0.0,\n",
       "  0.0,\n",
       "  0.0,\n",
       "  0.0,\n",
       "  0.0,\n",
       "  0.0,\n",
       "  0.0,\n",
       "  0.0,\n",
       "  0.0,\n",
       "  0.0,\n",
       "  0.0,\n",
       "  0.0,\n",
       "  0.0,\n",
       "  0.0,\n",
       "  0.0,\n",
       "  0.0,\n",
       "  0.0,\n",
       "  0.0,\n",
       "  0.0,\n",
       "  0.0,\n",
       "  0.0,\n",
       "  0.0,\n",
       "  0.0,\n",
       "  0.0,\n",
       "  0.0,\n",
       "  0.0,\n",
       "  0.0,\n",
       "  0.0,\n",
       "  0.0,\n",
       "  0.0,\n",
       "  0.0,\n",
       "  0.0,\n",
       "  0.0,\n",
       "  0.0,\n",
       "  0.0,\n",
       "  0.0,\n",
       "  0.0,\n",
       "  0.0,\n",
       "  0.0,\n",
       "  0.0,\n",
       "  0.0,\n",
       "  0.0,\n",
       "  0.0,\n",
       "  0.0,\n",
       "  0.0,\n",
       "  0.0,\n",
       "  0.0,\n",
       "  0.0,\n",
       "  0.0,\n",
       "  0.0,\n",
       "  0.0,\n",
       "  0.0,\n",
       "  0.0,\n",
       "  0.0,\n",
       "  0.0,\n",
       "  0.0,\n",
       "  0.0,\n",
       "  0.0,\n",
       "  0.0,\n",
       "  0.0,\n",
       "  0.0,\n",
       "  0.0,\n",
       "  0.0,\n",
       "  0.0,\n",
       "  0.0,\n",
       "  0.0,\n",
       "  0.0,\n",
       "  0.0,\n",
       "  0.0,\n",
       "  0.0,\n",
       "  0.0,\n",
       "  0.0,\n",
       "  0.0,\n",
       "  0.0,\n",
       "  0.0,\n",
       "  0.0,\n",
       "  0.0,\n",
       "  0.0,\n",
       "  0.0,\n",
       "  0.0,\n",
       "  0.0,\n",
       "  0.0,\n",
       "  0.0,\n",
       "  0.0,\n",
       "  0.0,\n",
       "  0.0,\n",
       "  0.0,\n",
       "  0.0,\n",
       "  0.0,\n",
       "  0.0,\n",
       "  0.0,\n",
       "  0.0,\n",
       "  0.0,\n",
       "  0.0,\n",
       "  0.0,\n",
       "  0.0,\n",
       "  0.0,\n",
       "  0.0,\n",
       "  0.0,\n",
       "  0.0,\n",
       "  0.0,\n",
       "  0.0,\n",
       "  0.0,\n",
       "  0.0,\n",
       "  0.0,\n",
       "  0.0,\n",
       "  0.0,\n",
       "  0.0,\n",
       "  0.0,\n",
       "  0.0,\n",
       "  0.0,\n",
       "  0.0,\n",
       "  0.0,\n",
       "  0.0,\n",
       "  0.0,\n",
       "  0.0,\n",
       "  0.0,\n",
       "  0.0,\n",
       "  0.0,\n",
       "  0.0,\n",
       "  0.0,\n",
       "  0.0,\n",
       "  0.0,\n",
       "  0.0,\n",
       "  0.0,\n",
       "  0.0,\n",
       "  0.0,\n",
       "  0.0,\n",
       "  0.0,\n",
       "  0.0,\n",
       "  0.0,\n",
       "  0.0,\n",
       "  0.0,\n",
       "  0.0,\n",
       "  0.0,\n",
       "  0.0,\n",
       "  0.0,\n",
       "  0.0,\n",
       "  0.0,\n",
       "  0.0,\n",
       "  0.0,\n",
       "  0.0,\n",
       "  0.0,\n",
       "  0.0,\n",
       "  0.0,\n",
       "  0.0,\n",
       "  0.0,\n",
       "  0.0,\n",
       "  0.0,\n",
       "  0.0,\n",
       "  0.0,\n",
       "  0.0,\n",
       "  0.0,\n",
       "  0.0,\n",
       "  0.0,\n",
       "  0.0,\n",
       "  0.0,\n",
       "  0.0,\n",
       "  0.0,\n",
       "  0.0,\n",
       "  0.0,\n",
       "  0.0,\n",
       "  0.0,\n",
       "  0.0,\n",
       "  0.0,\n",
       "  0.0,\n",
       "  0.0,\n",
       "  0.0,\n",
       "  0.0,\n",
       "  0.0,\n",
       "  0.0,\n",
       "  0.0,\n",
       "  0.0,\n",
       "  0.0,\n",
       "  0.0,\n",
       "  0.0,\n",
       "  0.0,\n",
       "  0.0,\n",
       "  0.0,\n",
       "  0.0,\n",
       "  0.0,\n",
       "  0.0,\n",
       "  0.0,\n",
       "  0.0,\n",
       "  0.0,\n",
       "  0.0,\n",
       "  0.0,\n",
       "  0.0,\n",
       "  0.0,\n",
       "  0.0,\n",
       "  0.0,\n",
       "  0.0,\n",
       "  0.0,\n",
       "  0.0,\n",
       "  0.0,\n",
       "  0.0,\n",
       "  0.0,\n",
       "  0.0,\n",
       "  0.0,\n",
       "  0.0,\n",
       "  0.0,\n",
       "  0.0,\n",
       "  0.0,\n",
       "  0.0,\n",
       "  0.0,\n",
       "  0.0,\n",
       "  0.0,\n",
       "  0.0,\n",
       "  0.0,\n",
       "  0.0,\n",
       "  0.0,\n",
       "  0.0,\n",
       "  0.0,\n",
       "  0.0,\n",
       "  0.0,\n",
       "  0.0,\n",
       "  0.0,\n",
       "  0.0,\n",
       "  0.0,\n",
       "  0.0,\n",
       "  0.0,\n",
       "  0.0,\n",
       "  0.0,\n",
       "  0.0,\n",
       "  0.0,\n",
       "  0.0,\n",
       "  0.0,\n",
       "  0.0,\n",
       "  0.0,\n",
       "  0.0,\n",
       "  0.0,\n",
       "  0.0,\n",
       "  0.0,\n",
       "  0.0,\n",
       "  ...]}"
      ]
     },
     "execution_count": 7,
     "metadata": {},
     "output_type": "execute_result"
    }
   ],
   "source": [
    "extractor = TfidfVectorizer(ngram_range=(1,3), max_features=50000)\n",
    "extractor.fit(train_data['processed_text'])\n",
    "train_tf_idf_feature = extractor.transform(train_data['processed_text']).toarray()\n",
    "test_tf_idf_feature = extractor.transform(test_data['processed_text']).toarray()\n",
    "\n",
    "print(f\"train tf-idf shape: ({len(train_tf_idf_feature)}, {len(train_tf_idf_feature[0])})\")\n",
    "print(f\"test tf-idf shape: ({len(test_tf_idf_feature)}, {len(test_tf_idf_feature[0])})\")\n",
    "\n",
    "def add_tf_idf(example, idx, tf_idf_feature):\n",
    "    return {'tf_idf': tf_idf_feature[idx]}\n",
    "\n",
    "train_data = train_data.map(add_tf_idf, with_indices=True, fn_kwargs={'tf_idf_feature': train_tf_idf_feature})\n",
    "test_data = test_data.map(add_tf_idf, with_indices=True, fn_kwargs={'tf_idf_feature': test_tf_idf_feature})\n",
    "train_data[0]"
   ]
  },
  {
   "cell_type": "code",
   "execution_count": 8,
   "id": "4bfab4d0",
   "metadata": {},
   "outputs": [
    {
     "name": "stdout",
     "output_type": "stream",
     "text": [
      "device: cpu\n"
     ]
    },
    {
     "data": {
      "text/plain": [
       "{'label': tensor(1), 'tf_idf': tensor([0., 0., 0.,  ..., 0., 0., 0.])}"
      ]
     },
     "execution_count": 8,
     "metadata": {},
     "output_type": "execute_result"
    }
   ],
   "source": [
    "device = \"cuda\" if torch.cuda.is_available() else \"cpu\"\n",
    "print(f\"device: {device}\")\n",
    "train_data.set_format(type=\"torch\", columns=['tf_idf', 'label'])\n",
    "test_data.set_format(type=\"torch\", columns=['tf_idf', 'label'])\n",
    "train_data[0]"
   ]
  },
  {
   "cell_type": "markdown",
   "id": "ab9640f0",
   "metadata": {},
   "source": [
    "### Split data into train and valid set"
   ]
  },
  {
   "cell_type": "code",
   "execution_count": 9,
   "id": "d8c72fa6",
   "metadata": {},
   "outputs": [
    {
     "data": {
      "text/plain": [
       "((21984, 14), (5496, 14), (3534, 13))"
      ]
     },
     "execution_count": 9,
     "metadata": {},
     "output_type": "execute_result"
    }
   ],
   "source": [
    "train_dict = Dataset.train_test_split(train_data, test_size=0.2, shuffle=True, seed=2025)\n",
    "train_data = train_dict['train']\n",
    "valid_data = train_dict['test']\n",
    "\n",
    "train_data.shape, valid_data.shape, test_data.shape"
   ]
  },
  {
   "cell_type": "markdown",
   "id": "0d7d92d6",
   "metadata": {},
   "source": [
    "## Step 3: Build Model\n",
    "\n",
    "- We build a simple Logistic Regression model using neural network block from **torch**."
   ]
  },
  {
   "cell_type": "code",
   "execution_count": 10,
   "id": "a6b7997b",
   "metadata": {},
   "outputs": [],
   "source": [
    "class LogisticReg(nn.Module):\n",
    "    def __init__(self, input_size, output_size):\n",
    "        super().__init__()\n",
    "        self.fc = nn.Linear(input_size, output_size)\n",
    "        self.relu = nn.ReLU()\n",
    "        self.softmax = nn.Softmax(dim=1)\n",
    "\n",
    "    def forward(self, X):       # X shape: (N, input_size) => (N, output_size)\n",
    "        X = self.fc(X)\n",
    "        X = self.relu(X)\n",
    "        return self.softmax(X)"
   ]
  },
  {
   "cell_type": "markdown",
   "id": "95b27d55",
   "metadata": {},
   "source": [
    "## Step 4: Training model"
   ]
  },
  {
   "cell_type": "markdown",
   "id": "f1b6288a",
   "metadata": {},
   "source": [
    "### Define model hyperparameter"
   ]
  },
  {
   "cell_type": "code",
   "execution_count": 11,
   "id": "d88a893b",
   "metadata": {},
   "outputs": [],
   "source": [
    "learning_rate = 1e-3\n",
    "batch_size = 32\n",
    "num_epochs = 20\n",
    "stop_iter = 3"
   ]
  },
  {
   "cell_type": "markdown",
   "id": "bd6ddd9e",
   "metadata": {},
   "source": [
    "### Load data into batch"
   ]
  },
  {
   "cell_type": "code",
   "execution_count": 12,
   "id": "96d5caf2",
   "metadata": {},
   "outputs": [
    {
     "data": {
      "text/plain": [
       "(687, 172, 111)"
      ]
     },
     "execution_count": 12,
     "metadata": {},
     "output_type": "execute_result"
    }
   ],
   "source": [
    "batch_size = 32\n",
    "input_size = list(train_data[0]['tf_idf'].size())[0]\n",
    "output_size = 3\n",
    "\n",
    "\n",
    "train_loader = DataLoader(train_data, batch_size=batch_size, shuffle=True)\n",
    "valid_loader = DataLoader(valid_data, batch_size=batch_size, shuffle=True)\n",
    "test_loader = DataLoader(test_data, batch_size=batch_size, shuffle=True)\n",
    "\n",
    "len(train_loader), len(valid_loader), len(test_loader)"
   ]
  },
  {
   "cell_type": "code",
   "execution_count": 13,
   "id": "7cb77b9c",
   "metadata": {},
   "outputs": [],
   "source": [
    "def train_fn(model, loader, epoch, optimizer, criteria, show_progress=False):\n",
    "    model.train()\n",
    "    epoch_loss = 0\n",
    "    progress = tqdm(loader, desc=f\"Epoch {epoch} training\") if show_progress else loader\n",
    "    for batch in progress:\n",
    "        input = batch['tf_idf'].to(device)\n",
    "        label = batch['label'].to(device)\n",
    "        output = model(input)\n",
    "\n",
    "        loss = criteria(output, label)\n",
    "        loss.backward()\n",
    "        optimizer.step()\n",
    "        optimizer.zero_grad()\n",
    "\n",
    "        epoch_loss += loss\n",
    "    \n",
    "    if show_progress:\n",
    "        print(f\"Train loss at epoch {epoch}: {(epoch_loss / len(loader)):.3f}\\n---\")\n",
    "    return epoch_loss / len(loader)\n",
    "\n",
    "\n",
    "def accuracy_eval(outputs, labels):\n",
    "    predictions = np.argmax(outputs, axis=1)\n",
    "    return accuracy_score(labels, predictions)\n",
    "\n",
    "\n",
    "def f1_score_eval(outputs, labels):\n",
    "    predictions = np.argmax(outputs, axis=1)\n",
    "    return f1_score(labels, predictions, average='weighted')\n",
    "\n",
    "\n",
    "def evaluate_fn(model, loader, name, criteria, returned_predictions=False, show_progress=False):\n",
    "    \"\"\"\n",
    "    if returned_predictions is True, return the predictions and labels\n",
    "    else return the accuracy and f1 score\n",
    "    \"\"\"\n",
    "    model.eval()\n",
    "    valid_loss = 0\n",
    "    all_outputs = []\n",
    "    all_labels = []\n",
    "\n",
    "    with torch.no_grad():\n",
    "        progress = tqdm(loader, desc=f\"Evaluating on {name.lower()} data\") if show_progress else loader\n",
    "        for batch in progress:\n",
    "            input = batch['tf_idf'].to(device)\n",
    "            label = batch['label'].to(device)\n",
    "            output = model(input)\n",
    "\n",
    "            loss = criteria(output, label)\n",
    "            valid_loss += loss\n",
    "\n",
    "            all_outputs.extend(output.detach().cpu().numpy())\n",
    "            all_labels.extend(label.detach().cpu().numpy())\n",
    "    \n",
    "    if returned_predictions:\n",
    "        return np.array(all_outputs), np.array(all_labels)\n",
    "        \n",
    "    acc_score = accuracy_eval(all_outputs, all_labels)\n",
    "    f1_score = f1_score_eval(all_outputs, all_labels)\n",
    "    if show_progress:\n",
    "        print(f\"{name} loss: {(valid_loss / len(loader)):.3f} | {name} \\\n",
    "              accuracy: {acc_score:.3f} | {name} F1-score: {f1_score:.3f}\\n---\\n\")\n",
    "    return acc_score, f1_score"
   ]
  },
  {
   "cell_type": "code",
   "execution_count": 14,
   "id": "b592c786",
   "metadata": {},
   "outputs": [
    {
     "name": "stderr",
     "output_type": "stream",
     "text": [
      "[I 2025-05-18 17:54:39,112] A new study created in memory with name: no-name-2ac7f075-d1a4-465e-8a1f-4c6f04c01ff6\n",
      " 50%|█████     | 10/20 [02:45<02:45, 16.51s/it]\n",
      "[I 2025-05-18 17:57:25,041] Trial 0 finished with value: 0.6739446870451238 and parameters: {'learning_rate': 32, 'stop_iter': 9}. Best is trial 0 with value: 0.6739446870451238.\n"
     ]
    },
    {
     "name": "stdout",
     "output_type": "stream",
     "text": [
      "Early stopping at epoch: 10\n"
     ]
    },
    {
     "name": "stderr",
     "output_type": "stream",
     "text": [
      " 20%|██        | 4/20 [01:14<04:59, 18.69s/it]\n",
      "[I 2025-05-18 17:58:39,856] Trial 1 finished with value: 0.6721251819505094 and parameters: {'learning_rate': 42, 'stop_iter': 3}. Best is trial 0 with value: 0.6739446870451238.\n"
     ]
    },
    {
     "name": "stdout",
     "output_type": "stream",
     "text": [
      "Early stopping at epoch: 4\n"
     ]
    },
    {
     "name": "stderr",
     "output_type": "stream",
     "text": [
      " 40%|████      | 8/20 [02:14<03:21, 16.81s/it]\n",
      "[I 2025-05-18 18:00:54,408] Trial 2 finished with value: 0.6746724890829694 and parameters: {'learning_rate': 13, 'stop_iter': 6}. Best is trial 2 with value: 0.6746724890829694.\n"
     ]
    },
    {
     "name": "stdout",
     "output_type": "stream",
     "text": [
      "Early stopping at epoch: 8\n"
     ]
    },
    {
     "name": "stderr",
     "output_type": "stream",
     "text": [
      " 20%|██        | 4/20 [01:14<04:57, 18.60s/it]\n",
      "[I 2025-05-18 18:02:08,824] Trial 3 finished with value: 0.6706695778748181 and parameters: {'learning_rate': 49, 'stop_iter': 3}. Best is trial 2 with value: 0.6746724890829694.\n"
     ]
    },
    {
     "name": "stdout",
     "output_type": "stream",
     "text": [
      "Early stopping at epoch: 4\n"
     ]
    },
    {
     "name": "stderr",
     "output_type": "stream",
     "text": [
      " 65%|██████▌   | 13/20 [03:30<01:53, 16.16s/it]\n",
      "[I 2025-05-18 18:05:38,874] Trial 4 finished with value: 0.6761280931586608 and parameters: {'learning_rate': 6, 'stop_iter': 7}. Best is trial 4 with value: 0.6761280931586608.\n"
     ]
    },
    {
     "name": "stdout",
     "output_type": "stream",
     "text": [
      "Early stopping at epoch: 13\n"
     ]
    },
    {
     "name": "stderr",
     "output_type": "stream",
     "text": [
      " 50%|█████     | 10/20 [02:45<02:45, 16.51s/it]\n",
      "[I 2025-05-18 18:08:24,028] Trial 5 finished with value: 0.6746724890829694 and parameters: {'learning_rate': 13, 'stop_iter': 8}. Best is trial 4 with value: 0.6761280931586608.\n"
     ]
    },
    {
     "name": "stdout",
     "output_type": "stream",
     "text": [
      "Early stopping at epoch: 10\n"
     ]
    },
    {
     "name": "stderr",
     "output_type": "stream",
     "text": [
      " 50%|█████     | 10/20 [02:44<02:44, 16.44s/it]\n",
      "[I 2025-05-18 18:11:08,427] Trial 6 finished with value: 0.6746724890829694 and parameters: {'learning_rate': 28, 'stop_iter': 9}. Best is trial 4 with value: 0.6761280931586608.\n"
     ]
    },
    {
     "name": "stdout",
     "output_type": "stream",
     "text": [
      "Early stopping at epoch: 10\n"
     ]
    },
    {
     "name": "stderr",
     "output_type": "stream",
     "text": [
      "100%|██████████| 20/20 [04:57<00:00, 14.86s/it]\n",
      "[I 2025-05-18 18:16:05,713] Trial 7 finished with value: 0.6761280931586608 and parameters: {'learning_rate': 2, 'stop_iter': 6}. Best is trial 4 with value: 0.6761280931586608.\n",
      " 80%|████████  | 16/20 [04:13<01:03, 15.83s/it]\n",
      "[I 2025-05-18 18:20:19,066] Trial 8 finished with value: 0.6743085880640466 and parameters: {'learning_rate': 4, 'stop_iter': 10}. Best is trial 4 with value: 0.6761280931586608.\n"
     ]
    },
    {
     "name": "stdout",
     "output_type": "stream",
     "text": [
      "Early stopping at epoch: 16\n"
     ]
    },
    {
     "name": "stderr",
     "output_type": "stream",
     "text": [
      " 55%|█████▌    | 11/20 [02:58<02:25, 16.20s/it]\n",
      "[I 2025-05-18 18:23:17,334] Trial 9 finished with value: 0.6721251819505094 and parameters: {'learning_rate': 42, 'stop_iter': 10}. Best is trial 4 with value: 0.6761280931586608.\n"
     ]
    },
    {
     "name": "stdout",
     "output_type": "stream",
     "text": [
      "Early stopping at epoch: 11\n"
     ]
    }
   ],
   "source": [
    "from hyperparameter_tunning import *\n",
    "import optuna\n",
    "\n",
    "tuning_epochs = 20\n",
    "n_trials = 10\n",
    "\n",
    "lr_suggest = IntVariableSuggestion(\"learning_rate\", 1, 50)\n",
    "stopIter_sugest = IntVariableSuggestion(\"stop_iter\", 3, 10)\n",
    "\n",
    "def objective(trial):\n",
    "    lr = lr_suggest.get_suggest(trial)\n",
    "    lr *= 5e-4\n",
    "    stop_iter = stopIter_sugest.get_suggest(trial)\n",
    "\n",
    "    torch.manual_seed(2025)\n",
    "    model = LogisticReg(input_size, output_size)\n",
    "    optimizer = optim.Adam(model.parameters(), lr=lr)\n",
    "    criteria = nn.CrossEntropyLoss()\n",
    "\n",
    "    best_score = float(\"-inf\")\n",
    "    patient = stop_iter\n",
    "\n",
    "    for epoch in tqdm(range(tuning_epochs)):\n",
    "        train_fn(model, train_loader, epoch, optimizer, criteria)\n",
    "        acc_score, _ = evaluate_fn(model, valid_loader, f\"Valid epoch {epoch}\", criteria)\n",
    "\n",
    "        if acc_score > best_score:\n",
    "            best_score = acc_score\n",
    "            patient = stop_iter\n",
    "        else:\n",
    "            patient -= 1\n",
    "            if patient <= 0:\n",
    "                print(f\"Early stopping at epoch: {epoch}\")\n",
    "                break\n",
    "\n",
    "    return best_score\n",
    "\n",
    "study = optuna.create_study(direction='maximize')\n",
    "study.optimize(objective, n_trials=n_trials, timeout=1800)"
   ]
  },
  {
   "cell_type": "code",
   "execution_count": 15,
   "id": "70072ceb",
   "metadata": {},
   "outputs": [
    {
     "data": {
      "text/plain": [
       "{'learning_rate': 6, 'stop_iter': 7}"
      ]
     },
     "execution_count": 15,
     "metadata": {},
     "output_type": "execute_result"
    }
   ],
   "source": [
    "study.best_params"
   ]
  },
  {
   "cell_type": "code",
   "execution_count": 16,
   "id": "b0ee0cb9",
   "metadata": {},
   "outputs": [
    {
     "name": "stdout",
     "output_type": "stream",
     "text": [
      "learning_rate: 0.003 | stop_iter: 7\n"
     ]
    },
    {
     "data": {
      "text/plain": [
       "LogisticReg(\n",
       "  (fc): Linear(in_features=50000, out_features=3, bias=True)\n",
       "  (relu): ReLU()\n",
       "  (softmax): Softmax(dim=1)\n",
       ")"
      ]
     },
     "execution_count": 16,
     "metadata": {},
     "output_type": "execute_result"
    }
   ],
   "source": [
    "learning_rate = study.best_params['learning_rate'] * 5e-4\n",
    "stop_iter = study.best_params['stop_iter']\n",
    "\n",
    "print(f\"learning_rate: {learning_rate} | stop_iter: {stop_iter}\")\n",
    "\n",
    "torch.manual_seed(2025)\n",
    "model = LogisticReg(input_size, output_size)\n",
    "optimizer = optim.Adam(model.parameters(), lr=learning_rate)\n",
    "criteria = nn.CrossEntropyLoss()\n",
    "model.to(device)"
   ]
  },
  {
   "cell_type": "code",
   "execution_count": 17,
   "id": "b71f89d6",
   "metadata": {},
   "outputs": [
    {
     "name": "stderr",
     "output_type": "stream",
     "text": [
      "Epoch 1 training: 100%|██████████| 687/687 [00:12<00:00, 54.79it/s]\n"
     ]
    },
    {
     "name": "stdout",
     "output_type": "stream",
     "text": [
      "Train loss at epoch 1: 1.064\n",
      "---\n"
     ]
    },
    {
     "name": "stderr",
     "output_type": "stream",
     "text": [
      "Evaluating on valid data: 100%|██████████| 172/172 [00:02<00:00, 58.54it/s]\n"
     ]
    },
    {
     "name": "stdout",
     "output_type": "stream",
     "text": [
      "Valid loss: 1.032 | Valid               accuracy: 0.565 | Valid F1-score: 0.517\n",
      "---\n",
      "\n",
      "Save model successfully\n"
     ]
    },
    {
     "name": "stderr",
     "output_type": "stream",
     "text": [
      "Epoch 2 training: 100%|██████████| 687/687 [00:13<00:00, 51.14it/s]\n"
     ]
    },
    {
     "name": "stdout",
     "output_type": "stream",
     "text": [
      "Train loss at epoch 2: 0.986\n",
      "---\n"
     ]
    },
    {
     "name": "stderr",
     "output_type": "stream",
     "text": [
      "Evaluating on valid data: 100%|██████████| 172/172 [00:03<00:00, 56.48it/s]\n"
     ]
    },
    {
     "name": "stdout",
     "output_type": "stream",
     "text": [
      "Valid loss: 0.991 | Valid               accuracy: 0.647 | Valid F1-score: 0.639\n",
      "---\n",
      "\n",
      "Save model successfully\n"
     ]
    },
    {
     "name": "stderr",
     "output_type": "stream",
     "text": [
      "Epoch 3 training: 100%|██████████| 687/687 [00:12<00:00, 53.43it/s]\n"
     ]
    },
    {
     "name": "stdout",
     "output_type": "stream",
     "text": [
      "Train loss at epoch 3: 0.923\n",
      "---\n"
     ]
    },
    {
     "name": "stderr",
     "output_type": "stream",
     "text": [
      "Evaluating on valid data: 100%|██████████| 172/172 [00:02<00:00, 59.23it/s]\n"
     ]
    },
    {
     "name": "stdout",
     "output_type": "stream",
     "text": [
      "Valid loss: 0.964 | Valid               accuracy: 0.666 | Valid F1-score: 0.663\n",
      "---\n",
      "\n",
      "Save model successfully\n"
     ]
    },
    {
     "name": "stderr",
     "output_type": "stream",
     "text": [
      "Epoch 4 training: 100%|██████████| 687/687 [00:12<00:00, 53.92it/s]\n"
     ]
    },
    {
     "name": "stdout",
     "output_type": "stream",
     "text": [
      "Train loss at epoch 4: 0.875\n",
      "---\n"
     ]
    },
    {
     "name": "stderr",
     "output_type": "stream",
     "text": [
      "Evaluating on valid data: 100%|██████████| 172/172 [00:02<00:00, 59.09it/s]\n"
     ]
    },
    {
     "name": "stdout",
     "output_type": "stream",
     "text": [
      "Valid loss: 0.945 | Valid               accuracy: 0.672 | Valid F1-score: 0.671\n",
      "---\n",
      "\n",
      "Save model successfully\n"
     ]
    },
    {
     "name": "stderr",
     "output_type": "stream",
     "text": [
      "Epoch 5 training: 100%|██████████| 687/687 [00:12<00:00, 54.60it/s]\n"
     ]
    },
    {
     "name": "stdout",
     "output_type": "stream",
     "text": [
      "Train loss at epoch 5: 0.838\n",
      "---\n"
     ]
    },
    {
     "name": "stderr",
     "output_type": "stream",
     "text": [
      "Evaluating on valid data: 100%|██████████| 172/172 [00:02<00:00, 59.38it/s]\n"
     ]
    },
    {
     "name": "stdout",
     "output_type": "stream",
     "text": [
      "Valid loss: 0.932 | Valid               accuracy: 0.673 | Valid F1-score: 0.673\n",
      "---\n",
      "\n",
      "Save model successfully\n"
     ]
    },
    {
     "name": "stderr",
     "output_type": "stream",
     "text": [
      "Epoch 6 training: 100%|██████████| 687/687 [00:12<00:00, 54.14it/s]\n"
     ]
    },
    {
     "name": "stdout",
     "output_type": "stream",
     "text": [
      "Train loss at epoch 6: 0.808\n",
      "---\n"
     ]
    },
    {
     "name": "stderr",
     "output_type": "stream",
     "text": [
      "Evaluating on valid data: 100%|██████████| 172/172 [00:02<00:00, 59.19it/s]\n"
     ]
    },
    {
     "name": "stdout",
     "output_type": "stream",
     "text": [
      "Valid loss: 0.923 | Valid               accuracy: 0.674 | Valid F1-score: 0.673\n",
      "---\n",
      "\n",
      "Save model successfully\n"
     ]
    },
    {
     "name": "stderr",
     "output_type": "stream",
     "text": [
      "Epoch 7 training: 100%|██████████| 687/687 [00:12<00:00, 53.69it/s]\n"
     ]
    },
    {
     "name": "stdout",
     "output_type": "stream",
     "text": [
      "Train loss at epoch 7: 0.783\n",
      "---\n"
     ]
    },
    {
     "name": "stderr",
     "output_type": "stream",
     "text": [
      "Evaluating on valid data: 100%|██████████| 172/172 [00:02<00:00, 59.69it/s]\n"
     ]
    },
    {
     "name": "stdout",
     "output_type": "stream",
     "text": [
      "Valid loss: 0.916 | Valid               accuracy: 0.676 | Valid F1-score: 0.676\n",
      "---\n",
      "\n",
      "Save model successfully\n"
     ]
    },
    {
     "name": "stderr",
     "output_type": "stream",
     "text": [
      "Epoch 8 training: 100%|██████████| 687/687 [00:12<00:00, 53.28it/s]\n"
     ]
    },
    {
     "name": "stdout",
     "output_type": "stream",
     "text": [
      "Train loss at epoch 8: 0.763\n",
      "---\n"
     ]
    },
    {
     "name": "stderr",
     "output_type": "stream",
     "text": [
      "Evaluating on valid data: 100%|██████████| 172/172 [00:03<00:00, 57.15it/s]\n"
     ]
    },
    {
     "name": "stdout",
     "output_type": "stream",
     "text": [
      "Valid loss: 0.911 | Valid               accuracy: 0.675 | Valid F1-score: 0.675\n",
      "---\n",
      "\n"
     ]
    },
    {
     "name": "stderr",
     "output_type": "stream",
     "text": [
      "Epoch 9 training: 100%|██████████| 687/687 [00:12<00:00, 54.19it/s]\n"
     ]
    },
    {
     "name": "stdout",
     "output_type": "stream",
     "text": [
      "Train loss at epoch 9: 0.745\n",
      "---\n"
     ]
    },
    {
     "name": "stderr",
     "output_type": "stream",
     "text": [
      "Evaluating on valid data: 100%|██████████| 172/172 [00:03<00:00, 55.26it/s]\n"
     ]
    },
    {
     "name": "stdout",
     "output_type": "stream",
     "text": [
      "Valid loss: 0.907 | Valid               accuracy: 0.673 | Valid F1-score: 0.673\n",
      "---\n",
      "\n"
     ]
    },
    {
     "name": "stderr",
     "output_type": "stream",
     "text": [
      "Epoch 10 training: 100%|██████████| 687/687 [00:12<00:00, 54.73it/s]\n"
     ]
    },
    {
     "name": "stdout",
     "output_type": "stream",
     "text": [
      "Train loss at epoch 10: 0.730\n",
      "---\n"
     ]
    },
    {
     "name": "stderr",
     "output_type": "stream",
     "text": [
      "Evaluating on valid data: 100%|██████████| 172/172 [00:03<00:00, 56.60it/s]\n"
     ]
    },
    {
     "name": "stdout",
     "output_type": "stream",
     "text": [
      "Valid loss: 0.904 | Valid               accuracy: 0.672 | Valid F1-score: 0.672\n",
      "---\n",
      "\n"
     ]
    },
    {
     "name": "stderr",
     "output_type": "stream",
     "text": [
      "Epoch 11 training: 100%|██████████| 687/687 [00:12<00:00, 53.99it/s]\n"
     ]
    },
    {
     "name": "stdout",
     "output_type": "stream",
     "text": [
      "Train loss at epoch 11: 0.716\n",
      "---\n"
     ]
    },
    {
     "name": "stderr",
     "output_type": "stream",
     "text": [
      "Evaluating on valid data: 100%|██████████| 172/172 [00:02<00:00, 59.36it/s]\n"
     ]
    },
    {
     "name": "stdout",
     "output_type": "stream",
     "text": [
      "Valid loss: 0.902 | Valid               accuracy: 0.672 | Valid F1-score: 0.672\n",
      "---\n",
      "\n"
     ]
    },
    {
     "name": "stderr",
     "output_type": "stream",
     "text": [
      "Epoch 12 training: 100%|██████████| 687/687 [00:12<00:00, 53.72it/s]\n"
     ]
    },
    {
     "name": "stdout",
     "output_type": "stream",
     "text": [
      "Train loss at epoch 12: 0.704\n",
      "---\n"
     ]
    },
    {
     "name": "stderr",
     "output_type": "stream",
     "text": [
      "Evaluating on valid data: 100%|██████████| 172/172 [00:02<00:00, 59.14it/s]\n"
     ]
    },
    {
     "name": "stdout",
     "output_type": "stream",
     "text": [
      "Valid loss: 0.900 | Valid               accuracy: 0.672 | Valid F1-score: 0.672\n",
      "---\n",
      "\n"
     ]
    },
    {
     "name": "stderr",
     "output_type": "stream",
     "text": [
      "Epoch 13 training: 100%|██████████| 687/687 [00:12<00:00, 54.07it/s]\n"
     ]
    },
    {
     "name": "stdout",
     "output_type": "stream",
     "text": [
      "Train loss at epoch 13: 0.694\n",
      "---\n"
     ]
    },
    {
     "name": "stderr",
     "output_type": "stream",
     "text": [
      "Evaluating on valid data: 100%|██████████| 172/172 [00:02<00:00, 59.51it/s]\n"
     ]
    },
    {
     "name": "stdout",
     "output_type": "stream",
     "text": [
      "Valid loss: 0.899 | Valid               accuracy: 0.667 | Valid F1-score: 0.668\n",
      "---\n",
      "\n"
     ]
    },
    {
     "name": "stderr",
     "output_type": "stream",
     "text": [
      "Epoch 14 training: 100%|██████████| 687/687 [00:12<00:00, 54.72it/s]\n"
     ]
    },
    {
     "name": "stdout",
     "output_type": "stream",
     "text": [
      "Train loss at epoch 14: 0.684\n",
      "---\n"
     ]
    },
    {
     "name": "stderr",
     "output_type": "stream",
     "text": [
      "Evaluating on valid data: 100%|██████████| 172/172 [00:02<00:00, 61.51it/s]"
     ]
    },
    {
     "name": "stdout",
     "output_type": "stream",
     "text": [
      "Valid loss: 0.899 | Valid               accuracy: 0.666 | Valid F1-score: 0.666\n",
      "---\n",
      "\n",
      "Early stopping at epoch: 13\n"
     ]
    },
    {
     "name": "stderr",
     "output_type": "stream",
     "text": [
      "\n"
     ]
    }
   ],
   "source": [
    "best_score = float(\"-inf\")\n",
    "patient = stop_iter\n",
    "\n",
    "train_losses = []\n",
    "valid_acc_scores = []\n",
    "\n",
    "for epoch in range(num_epochs):\n",
    "    train_loss = train_fn(model, train_loader, epoch+1, optimizer, criteria, show_progress=True)\n",
    "    acc_score, _ = evaluate_fn(model, valid_loader, \"Valid\", criteria, show_progress=True)\n",
    "\n",
    "    train_losses.append(train_loss)\n",
    "    valid_acc_scores.append(acc_score)\n",
    "\n",
    "    if acc_score > best_score:\n",
    "        best_score = acc_score\n",
    "        torch.save(model.state_dict(), \"ME-model-(1).pt\")\n",
    "        patient = stop_iter\n",
    "        print(f\"Save model successfully\")\n",
    "    else:\n",
    "        patient -= 1\n",
    "        if patient <= 0:\n",
    "            print(f\"Early stopping at epoch: {epoch}\")\n",
    "            break"
   ]
  },
  {
   "cell_type": "markdown",
   "id": "816d31ae",
   "metadata": {},
   "source": [
    "## Step 4: Model evaluation"
   ]
  },
  {
   "cell_type": "markdown",
   "id": "5b20a749",
   "metadata": {},
   "source": [
    "### Load best model"
   ]
  },
  {
   "cell_type": "code",
   "execution_count": 18,
   "id": "a00cd11a",
   "metadata": {},
   "outputs": [
    {
     "data": {
      "text/plain": [
       "<All keys matched successfully>"
      ]
     },
     "execution_count": 18,
     "metadata": {},
     "output_type": "execute_result"
    }
   ],
   "source": [
    "model.load_state_dict(torch.load(\"ME-model-(1).pt\", weights_only=True))"
   ]
  },
  {
   "cell_type": "markdown",
   "id": "1190bd2b",
   "metadata": {},
   "source": [
    "### Compute accuracy & F1-Score"
   ]
  },
  {
   "cell_type": "code",
   "execution_count": 26,
   "id": "bb1d7172",
   "metadata": {},
   "outputs": [
    {
     "name": "stdout",
     "output_type": "stream",
     "text": [
      "Test acc: 0.6810979060554613 | test_f1: 0.6821768558485249\n"
     ]
    }
   ],
   "source": [
    "test_acc, test_f1 = evaluate_fn(model, test_loader, \"Test\", criteria)\n",
    "print(f\"Test acc: {test_acc} | test_f1: {test_f1}\")"
   ]
  },
  {
   "cell_type": "code",
   "execution_count": null,
   "id": "ea4a217c",
   "metadata": {},
   "outputs": [],
   "source": [
    "train_losses = [loss.detach().cpu().numpy() for loss in train_losses]"
   ]
  },
  {
   "cell_type": "code",
   "execution_count": 24,
   "id": "61061ed2",
   "metadata": {},
   "outputs": [
    {
     "data": {
      "image/png": "[encoded data removed]",
      "text/plain": [
       "<Figure size 1200x500 with 2 Axes>"
      ]
     },
     "metadata": {},
     "output_type": "display_data"
    }
   ],
   "source": [
    "epochs = list(range(1, len(train_losses)+1))\n",
    "\n",
    "fig, axes = plt.subplots(1, 2, figsize=(12, 5))\n",
    "\n",
    "axes[0].plot(epochs, train_losses, marker='o', linestyle='-', color='b', label='Train Loss')\n",
    "axes[0].set_xlabel(\"Epoch\")\n",
    "axes[0].set_ylabel(\"Loss\")\n",
    "axes[0].set_title(\"Training Loss over Epochs\")\n",
    "axes[0].grid(True)\n",
    "axes[0].legend()\n",
    "axes[0].set_xticks([epoch for epoch in epochs if epoch % 4 == 0])\n",
    "\n",
    "axes[1].plot(epochs, valid_acc_scores, marker='o', linestyle='-', color='b', label='Evaluation Accuracy')\n",
    "axes[1].set_xlabel(\"Epoch\")\n",
    "axes[1].set_ylabel(\"Loss\")\n",
    "axes[1].set_title(\"Evaluation Accuracy over Epochs\")\n",
    "axes[1].grid(True)\n",
    "axes[1].legend()\n",
    "axes[1].set_xticks([epoch for epoch in epochs if epoch % 4 == 0])\n",
    "\n",
    "plt.tight_layout()\n",
    "plt.show()"
   ]
  },
  {
   "cell_type": "markdown",
   "id": "407f5e62",
   "metadata": {},
   "source": [
    "### Draw AUC - ROC curves"
   ]
  },
  {
   "cell_type": "code",
   "execution_count": 22,
   "id": "1741cf95",
   "metadata": {},
   "outputs": [
    {
     "data": {
      "image/png": "[encoded data removed]",
      "text/plain": [
       "<Figure size 800x600 with 1 Axes>"
      ]
     },
     "metadata": {},
     "output_type": "display_data"
    }
   ],
   "source": [
    "from visualization import plot_roc_auc, plot_confusion_matrix\n",
    "\n",
    "y_prob, y_true = evaluate_fn(model, test_loader, \"Test\", criteria, returned_predictions=True)\n",
    "y_pred = np.argmax(y_prob, axis=1)\n",
    "y_prob.shape, y_true.shape, y_pred.shape\n",
    "\n",
    "plot_roc_auc(y_true, y_prob, classes=['negative', 'neutral', 'positive'])"
   ]
  },
  {
   "cell_type": "markdown",
   "id": "571e8c5a",
   "metadata": {},
   "source": [
    "### Plot confusion matrix"
   ]
  },
  {
   "cell_type": "code",
   "execution_count": 27,
   "id": "f8ba5dc6",
   "metadata": {},
   "outputs": [
    {
     "data": {
      "image/png": "[encoded data removed]",
      "text/plain": [
       "<Figure size 600x600 with 2 Axes>"
      ]
     },
     "metadata": {},
     "output_type": "display_data"
    }
   ],
   "source": [
    "plot_confusion_matrix(y_true, y_pred, class_labels=['negative', 'neutral', 'positive'])"
   ]
  }
 ],
 "metadata": {
  "kernelspec": {
   "display_name": "Env_for_pytorch",
   "language": "python",
   "name": "python3"
  },
  "language_info": {
   "codemirror_mode": {
    "name": "ipython",
    "version": 3
   },
   "file_extension": ".py",
   "mimetype": "text/x-python",
   "name": "python",
   "nbconvert_exporter": "python",
   "pygments_lexer": "ipython3",
   "version": "3.9.21"
  }
 },
 "nbformat": 4,
 "nbformat_minor": 5
}
