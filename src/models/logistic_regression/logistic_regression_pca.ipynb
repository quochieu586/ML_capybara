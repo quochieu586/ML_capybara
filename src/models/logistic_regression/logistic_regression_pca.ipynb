{
 "cells": [
  {
   "cell_type": "markdown",
   "id": "20c47095",
   "metadata": {},
   "source": [
    "## Stage 1: import dataset + libraries"
   ]
  },
  {
   "cell_type": "code",
   "execution_count": 35,
   "id": "d084ffda",
   "metadata": {},
   "outputs": [],
   "source": [
    "import sys\n",
    "import os\n",
    "import torch\n",
    "import torch.nn as nn\n",
    "import torch.optim as optim\n",
    "from datasets import Dataset\n",
    "from torch.utils.data import DataLoader\n",
    "import numpy as np\n",
    "from tqdm import tqdm\n",
    "from sklearn.metrics import accuracy_score, f1_score\n",
    "import matplotlib.pyplot as plt\n",
    "\n",
    "sys.path.append(os.path.abspath(os.path.join(os.getcwd(), \"..\", \"..\")))\n",
    "from data import Preprocessing, FeatureExtraction\n",
    "from models.dimension_reduction import PCA, WordEmbeddingVectors"
   ]
  },
  {
   "cell_type": "code",
   "execution_count": 36,
   "id": "1e0a9f01",
   "metadata": {},
   "outputs": [
    {
     "name": "stdout",
     "output_type": "stream",
     "text": [
      "✓ 'punkt' is already available.\n",
      "✓ 'stopwords' is already available.\n",
      "✗ 'wordnet' not found. Downloading...\n",
      "✓ 'averaged_perceptron_tagger' is already available.\n"
     ]
    },
    {
     "name": "stderr",
     "output_type": "stream",
     "text": [
      "[nltk_data] Downloading package wordnet to\n",
      "[nltk_data]     /Users/tranquochieu/nltk_data...\n",
      "[nltk_data]   Package wordnet is already up-to-date!\n"
     ]
    },
    {
     "data": {
      "text/plain": [
       "((27480, 10), (3534, 9))"
      ]
     },
     "execution_count": 36,
     "metadata": {},
     "output_type": "execute_result"
    }
   ],
   "source": [
    "prepro_tool = Preprocessing()\n",
    "train_df = prepro_tool.read_CSV(file_name='train.csv')\n",
    "test_df = prepro_tool.read_CSV(file_name='test.csv')\n",
    "\n",
    "train_df.shape, test_df.shape"
   ]
  },
  {
   "cell_type": "markdown",
   "id": "4c1e690d",
   "metadata": {},
   "source": [
    "## Stage 2: Preprocessing"
   ]
  },
  {
   "cell_type": "code",
   "execution_count": 37,
   "id": "72e7a582",
   "metadata": {},
   "outputs": [],
   "source": [
    "train_df['token'] = train_df['text'].apply(prepro_tool.tokenize_preprocessing)\n",
    "test_df['token'] = test_df['text'].apply(prepro_tool.tokenize_preprocessing)"
   ]
  },
  {
   "cell_type": "code",
   "execution_count": 38,
   "id": "f07b3c4d",
   "metadata": {},
   "outputs": [
    {
     "name": "stdout",
     "output_type": "stream",
     "text": [
      "/Users/tranquochieu/Documents/Pycharm project/ML_Cabapyra_new/data/.DS_Store\n",
      "/Users/tranquochieu/Documents/Pycharm project/ML_Cabapyra_new/data/test.csv\n",
      "/Users/tranquochieu/Documents/Pycharm project/ML_Cabapyra_new/data/fasttext_subwords_300.kv\n",
      "/Users/tranquochieu/Documents/Pycharm project/ML_Cabapyra_new/data/train.csv\n",
      "/Users/tranquochieu/Documents/Pycharm project/ML_Cabapyra_new/data/fasttext_subwords_300.kv.vectors.npy\n",
      "Loader model successfully ! Vector size: 300\n"
     ]
    },
    {
     "data": {
      "text/plain": [
       "(27480, 300)"
      ]
     },
     "execution_count": 38,
     "metadata": {},
     "output_type": "execute_result"
    }
   ],
   "source": [
    "word_emb_model = WordEmbeddingVectors()\n",
    "\n",
    "X_train_feature = word_emb_model.vectorize(train_df['token'])\n",
    "X_test_feature = word_emb_model.vectorize(test_df['token'])\n",
    "\n",
    "X_train_feature.shape"
   ]
  },
  {
   "cell_type": "code",
   "execution_count": 39,
   "id": "91af1c60",
   "metadata": {},
   "outputs": [
    {
     "data": {
      "text/plain": [
       "{'textID': 'cb774db0d1',\n",
       " 'text': ' I`d have responded, if I were going',\n",
       " 'selected_text': 'I`d have responded, if I were going',\n",
       " 'sentiment': 'neutral',\n",
       " 'Time of Tweet': 'morning',\n",
       " 'Age of User': '0-20',\n",
       " 'Country': 'Afghanistan',\n",
       " 'Population -2020': 38928346,\n",
       " 'Land Area (Kmï¿½)': 652860.0,\n",
       " 'Density (P/Kmï¿½)': 60,\n",
       " 'token': ['id', 'responded', 'going'],\n",
       " '__index_level_0__': 0}"
      ]
     },
     "execution_count": 39,
     "metadata": {},
     "output_type": "execute_result"
    }
   ],
   "source": [
    "train_data = Dataset.from_pandas(train_df)\n",
    "test_data = Dataset.from_pandas(test_df)\n",
    "\n",
    "train_data[0]"
   ]
  },
  {
   "cell_type": "code",
   "execution_count": 40,
   "id": "f86cda3e",
   "metadata": {},
   "outputs": [
    {
     "data": {
      "application/vnd.jupyter.widget-view+json": {
       "model_id": "da1ac3adea1847eb9c61745896ccf0d5",
       "version_major": 2,
       "version_minor": 0
      },
      "text/plain": [
       "Map:   0%|          | 0/27480 [00:00<?, ? examples/s]"
      ]
     },
     "metadata": {},
     "output_type": "display_data"
    },
    {
     "data": {
      "application/vnd.jupyter.widget-view+json": {
       "model_id": "0b2b80c45d084ec086f6726d0e026748",
       "version_major": 2,
       "version_minor": 0
      },
      "text/plain": [
       "Map:   0%|          | 0/3534 [00:00<?, ? examples/s]"
      ]
     },
     "metadata": {},
     "output_type": "display_data"
    },
    {
     "data": {
      "text/plain": [
       "{'textID': 'cb774db0d1',\n",
       " 'text': ' I`d have responded, if I were going',\n",
       " 'selected_text': 'I`d have responded, if I were going',\n",
       " 'sentiment': 'neutral',\n",
       " 'Time of Tweet': 'morning',\n",
       " 'Age of User': '0-20',\n",
       " 'Country': 'Afghanistan',\n",
       " 'Population -2020': 38928346,\n",
       " 'Land Area (Kmï¿½)': 652860.0,\n",
       " 'Density (P/Kmï¿½)': 60,\n",
       " 'token': ['id', 'responded', 'going'],\n",
       " '__index_level_0__': 0,\n",
       " 'label': 1}"
      ]
     },
     "execution_count": 40,
     "metadata": {},
     "output_type": "execute_result"
    }
   ],
   "source": [
    "train_data = train_data.map(lambda ex: {'label': 2 if ex['sentiment'] == 'positive' else \\\n",
    "                                        1 if ex['sentiment'] == 'neutral' else 0 })\n",
    "test_data = test_data.map(lambda ex: {'label': 2 if ex['sentiment'] == 'positive' else \\\n",
    "                                        1 if ex['sentiment'] == 'neutral' else 0 })\n",
    "\n",
    "train_data[0]"
   ]
  },
  {
   "cell_type": "markdown",
   "id": "9eac0862",
   "metadata": {},
   "source": [
    "### Load number of samples for each class"
   ]
  },
  {
   "cell_type": "code",
   "execution_count": 41,
   "id": "28250251",
   "metadata": {},
   "outputs": [
    {
     "name": "stderr",
     "output_type": "stream",
     "text": [
      "/var/folders/cy/hxjg9r351_99ytx8k04pq_4c0000gn/T/ipykernel_10930/3149057442.py:18: UserWarning: This figure includes Axes that are not compatible with tight_layout, so results might be incorrect.\n",
      "  plt.tight_layout()\n"
     ]
    },
    {
     "data": {
      "image/png": "[encoded data removed]",
      "text/plain": [
       "<Figure size 1200x500 with 2 Axes>"
      ]
     },
     "metadata": {},
     "output_type": "display_data"
    }
   ],
   "source": [
    "from typing import Counter\n",
    "import matplotlib.pyplot as plt\n",
    "\n",
    "fig, axs = plt.subplots(1, 2, figsize=(12, 5), gridspec_kw={'wspace': 0.3})\n",
    "\n",
    "counter = Counter(train_data['sentiment'])\n",
    "axs[0].bar(counter.keys(), counter.values())\n",
    "axs[0].set_title(\"Classes distribution in Train Data\")\n",
    "axs[0].set_xlabel(\"Labels\")\n",
    "axs[0].set_ylabel(\"Counts\")\n",
    "\n",
    "counter = Counter(test_data['sentiment'])\n",
    "axs[1].bar(counter.keys(), counter.values())\n",
    "axs[1].set_title(\"Classes distribution in Test Data\")\n",
    "axs[1].set_xlabel(\"Labels\")\n",
    "axs[1].set_ylabel(\"Counts\")\n",
    "\n",
    "plt.tight_layout()\n",
    "plt.show()"
   ]
  },
  {
   "cell_type": "code",
   "execution_count": null,
   "id": "2ba2a3bf",
   "metadata": {},
   "outputs": [
    {
     "name": "stdout",
     "output_type": "stream",
     "text": [
      "PCA keep 30 components correponding to keep 0.6041049003758305 of total variance\n"
     ]
    },
    {
     "data": {
      "text/plain": [
       "((27480, 30), (3534, 30))"
      ]
     },
     "execution_count": 42,
     "metadata": {},
     "output_type": "execute_result"
    }
   ],
   "source": [
    "pca = PCA()\n",
    "pca.fit_by_amount_of_variance(X_train_feature, threshold=0.60)\n",
    "X_train_pca = pca.transform(X_train_feature)\n",
    "X_test_pca = pca.transform(X_test_feature)\n",
    "X_train_pca.shape, X_test_pca.shape"
   ]
  },
  {
   "cell_type": "code",
   "execution_count": 43,
   "id": "968efd86",
   "metadata": {},
   "outputs": [
    {
     "data": {
      "application/vnd.jupyter.widget-view+json": {
       "model_id": "f49cff61960542a48f9bc539061b6bd8",
       "version_major": 2,
       "version_minor": 0
      },
      "text/plain": [
       "Map:   0%|          | 0/27480 [00:00<?, ? examples/s]"
      ]
     },
     "metadata": {},
     "output_type": "display_data"
    },
    {
     "data": {
      "application/vnd.jupyter.widget-view+json": {
       "model_id": "e191bbca38f14df2a55ddfb591726d2f",
       "version_major": 2,
       "version_minor": 0
      },
      "text/plain": [
       "Map:   0%|          | 0/3534 [00:00<?, ? examples/s]"
      ]
     },
     "metadata": {},
     "output_type": "display_data"
    },
    {
     "data": {
      "text/plain": [
       "dict_keys(['textID', 'text', 'selected_text', 'sentiment', 'Time of Tweet', 'Age of User', 'Country', 'Population -2020', 'Land Area (Kmï¿½)', 'Density (P/Kmï¿½)', 'token', '__index_level_0__', 'label', 'word_emb'])"
      ]
     },
     "execution_count": 43,
     "metadata": {},
     "output_type": "execute_result"
    }
   ],
   "source": [
    "def add_word_emb(example, idx, word_emb_feature):\n",
    "    return {'word_emb': word_emb_feature[idx]}\n",
    "\n",
    "train_data = train_data.map(add_word_emb, with_indices=True, fn_kwargs={'word_emb_feature': X_train_pca})\n",
    "test_data = test_data.map(add_word_emb, with_indices=True, fn_kwargs={'word_emb_feature': X_test_pca})\n",
    "train_data[0].keys()"
   ]
  },
  {
   "cell_type": "code",
   "execution_count": 44,
   "id": "4bfab4d0",
   "metadata": {},
   "outputs": [
    {
     "name": "stdout",
     "output_type": "stream",
     "text": [
      "device: cpu\n"
     ]
    },
    {
     "data": {
      "text/plain": [
       "{'label': tensor(1),\n",
       " 'word_emb': tensor([ 0.1231,  0.0248,  0.1189,  0.0016,  0.0135,  0.1539, -0.0836,  0.0122,\n",
       "         -0.0189,  0.0266,  0.0422,  0.0041,  0.0324, -0.0204,  0.0044, -0.0589,\n",
       "          0.0452,  0.0247,  0.1445, -0.0218,  0.0637,  0.0653,  0.0128,  0.0498,\n",
       "         -0.0294, -0.0298,  0.0244,  0.0135, -0.0036, -0.0146])}"
      ]
     },
     "execution_count": 44,
     "metadata": {},
     "output_type": "execute_result"
    }
   ],
   "source": [
    "device = \"cuda\" if torch.cuda.is_available() else \"cpu\"\n",
    "print(f\"device: {device}\")\n",
    "train_data.set_format(type=\"torch\", columns=['word_emb', 'label'])\n",
    "test_data.set_format(type=\"torch\", columns=['word_emb', 'label'])\n",
    "train_data[0]"
   ]
  },
  {
   "cell_type": "markdown",
   "id": "ab9640f0",
   "metadata": {},
   "source": [
    "### Split data into train and valid set"
   ]
  },
  {
   "cell_type": "code",
   "execution_count": 45,
   "id": "d8c72fa6",
   "metadata": {},
   "outputs": [
    {
     "data": {
      "text/plain": [
       "((21984, 14), (5496, 14), (3534, 13))"
      ]
     },
     "execution_count": 45,
     "metadata": {},
     "output_type": "execute_result"
    }
   ],
   "source": [
    "train_dict = Dataset.train_test_split(train_data, test_size=0.2, shuffle=True, seed=2025)\n",
    "train_data = train_dict['train']\n",
    "valid_data = train_dict['test']\n",
    "\n",
    "train_data.shape, valid_data.shape, test_data.shape"
   ]
  },
  {
   "cell_type": "markdown",
   "id": "0d7d92d6",
   "metadata": {},
   "source": [
    "## Step 3: Build Model\n",
    "\n",
    "- We build a simple Logistic Regression model using neural network block from **torch**."
   ]
  },
  {
   "cell_type": "code",
   "execution_count": 46,
   "id": "a6b7997b",
   "metadata": {},
   "outputs": [],
   "source": [
    "class LogisticReg(nn.Module):\n",
    "    def __init__(self, input_size, output_size):\n",
    "        super().__init__()\n",
    "        self.fc = nn.Linear(input_size, output_size)\n",
    "        self.relu = nn.ReLU()\n",
    "        self.softmax = nn.Softmax(dim=1)\n",
    "\n",
    "    def forward(self, X):       # X shape: (N, input_size) => (N, output_size)\n",
    "        X = self.fc(X)\n",
    "        X = self.relu(X)\n",
    "        return self.softmax(X)"
   ]
  },
  {
   "cell_type": "markdown",
   "id": "95b27d55",
   "metadata": {},
   "source": [
    "## Step 4: Training model"
   ]
  },
  {
   "cell_type": "markdown",
   "id": "f1b6288a",
   "metadata": {},
   "source": [
    "### Define model hyperparameter"
   ]
  },
  {
   "cell_type": "code",
   "execution_count": 47,
   "id": "d88a893b",
   "metadata": {},
   "outputs": [],
   "source": [
    "learning_rate = 5e-3\n",
    "batch_size = 64\n",
    "num_epochs = 100\n",
    "stop_iter = 5"
   ]
  },
  {
   "cell_type": "markdown",
   "id": "bd6ddd9e",
   "metadata": {},
   "source": [
    "### Load data into batch"
   ]
  },
  {
   "cell_type": "code",
   "execution_count": 48,
   "id": "96d5caf2",
   "metadata": {},
   "outputs": [
    {
     "data": {
      "text/plain": [
       "(344, 86, 56)"
      ]
     },
     "execution_count": 48,
     "metadata": {},
     "output_type": "execute_result"
    }
   ],
   "source": [
    "train_loader = DataLoader(train_data, batch_size=batch_size, shuffle=True)\n",
    "valid_loader = DataLoader(valid_data, batch_size=batch_size, shuffle=True)\n",
    "test_loader = DataLoader(test_data, batch_size=batch_size, shuffle=True)\n",
    "\n",
    "len(train_loader), len(valid_loader), len(test_loader)"
   ]
  },
  {
   "cell_type": "code",
   "execution_count": 49,
   "id": "b0ee0cb9",
   "metadata": {},
   "outputs": [
    {
     "data": {
      "text/plain": [
       "LogisticReg(\n",
       "  (fc): Linear(in_features=30, out_features=3, bias=True)\n",
       "  (relu): ReLU()\n",
       "  (softmax): Softmax(dim=1)\n",
       ")"
      ]
     },
     "execution_count": 49,
     "metadata": {},
     "output_type": "execute_result"
    }
   ],
   "source": [
    "input_size = list(train_data[0]['word_emb'].size())[0]\n",
    "output_size = 3\n",
    "\n",
    "torch.manual_seed(2025)\n",
    "model = LogisticReg(input_size, output_size)\n",
    "optimizer = optim.Adam(model.parameters(), lr=learning_rate)\n",
    "criteria = nn.CrossEntropyLoss()\n",
    "model.to(device)"
   ]
  },
  {
   "cell_type": "code",
   "execution_count": 50,
   "id": "a5fcef21",
   "metadata": {},
   "outputs": [],
   "source": [
    "def train_fn(model, loader, epoch, show_progress=False):\n",
    "    model.train()\n",
    "    epoch_loss = 0\n",
    "    progress = tqdm(loader, desc=f\"Epoch {epoch} training\") if show_progress else loader\n",
    "    for batch in progress:\n",
    "        input = batch['word_emb'].to(device)\n",
    "        label = batch['label'].to(device)\n",
    "        output = model(input)\n",
    "\n",
    "        loss = criteria(output, label)\n",
    "        loss.backward()\n",
    "        optimizer.step()\n",
    "        optimizer.zero_grad()\n",
    "\n",
    "        epoch_loss += loss\n",
    "    \n",
    "    print(f\"Train loss at epoch {epoch}: {(epoch_loss / len(loader)):.3f}\\n---\")\n",
    "    return epoch_loss / len(loader)\n",
    "\n",
    "\n",
    "def accuracy_eval(outputs, labels):\n",
    "    predictions = np.argmax(outputs, axis=1)\n",
    "    return accuracy_score(labels, predictions)\n",
    "\n",
    "\n",
    "def f1_score_eval(outputs, labels):\n",
    "    predictions = np.argmax(outputs, axis=1)\n",
    "    return f1_score(labels, predictions, average='weighted')\n",
    "\n",
    "\n",
    "def evaluate_fn(model, loader, name, returned_predictions=False, show_progress=False):\n",
    "    \"\"\"\n",
    "    if returned_predictions is True, return the predictions and labels\n",
    "    else return the accuracy and f1 score\n",
    "    \"\"\"\n",
    "    model.eval()\n",
    "    valid_loss = 0\n",
    "    all_outputs = []\n",
    "    all_labels = []\n",
    "\n",
    "    with torch.no_grad():\n",
    "        progress = tqdm(loader, desc=f\"Evaluating on {name.lower()} data\") if show_progress else loader\n",
    "        for batch in progress:\n",
    "            input = batch['word_emb'].to(device)\n",
    "            label = batch['label'].to(device)\n",
    "            output = model(input)\n",
    "\n",
    "            loss = criteria(output, label)\n",
    "            valid_loss += loss\n",
    "\n",
    "            all_outputs.extend(output.detach().cpu().numpy())\n",
    "            all_labels.extend(label.detach().cpu().numpy())\n",
    "    \n",
    "    if returned_predictions:\n",
    "        return np.array(all_outputs), np.array(all_labels)\n",
    "        \n",
    "    acc_score = accuracy_eval(all_outputs, all_labels)\n",
    "    f1_score = f1_score_eval(all_outputs, all_labels)\n",
    "    print(f\"{name} loss: {(valid_loss / len(loader)):.3f} | {name} accuracy: {acc_score:.3f} | {name} F1-score: {f1_score:.3f}\\n---\\n\")\n",
    "    return acc_score, f1_score"
   ]
  },
  {
   "cell_type": "code",
   "execution_count": 51,
   "id": "b71f89d6",
   "metadata": {},
   "outputs": [
    {
     "name": "stderr",
     "output_type": "stream",
     "text": [
      "Epoch 1 training: 100%|██████████| 344/344 [00:02<00:00, 151.94it/s]\n"
     ]
    },
    {
     "name": "stdout",
     "output_type": "stream",
     "text": [
      "Train loss at epoch 1: 1.075\n",
      "---\n",
      "Valid loss: 1.048 | Valid accuracy: 0.500 | Valid F1-score: 0.405\n",
      "---\n",
      "\n",
      "Save model successfully\n"
     ]
    },
    {
     "name": "stderr",
     "output_type": "stream",
     "text": [
      "Epoch 2 training: 100%|██████████| 344/344 [00:01<00:00, 194.93it/s]\n"
     ]
    },
    {
     "name": "stdout",
     "output_type": "stream",
     "text": [
      "Train loss at epoch 2: 1.038\n",
      "---\n",
      "Valid loss: 1.023 | Valid accuracy: 0.532 | Valid F1-score: 0.448\n",
      "---\n",
      "\n",
      "Save model successfully\n"
     ]
    },
    {
     "name": "stderr",
     "output_type": "stream",
     "text": [
      "Epoch 3 training: 100%|██████████| 344/344 [00:02<00:00, 165.61it/s]\n"
     ]
    },
    {
     "name": "stdout",
     "output_type": "stream",
     "text": [
      "Train loss at epoch 3: 1.020\n",
      "---\n",
      "Valid loss: 1.009 | Valid accuracy: 0.539 | Valid F1-score: 0.460\n",
      "---\n",
      "\n",
      "Save model successfully\n"
     ]
    },
    {
     "name": "stderr",
     "output_type": "stream",
     "text": [
      "Epoch 4 training: 100%|██████████| 344/344 [00:02<00:00, 160.64it/s]\n"
     ]
    },
    {
     "name": "stdout",
     "output_type": "stream",
     "text": [
      "Train loss at epoch 4: 1.009\n",
      "---\n",
      "Valid loss: 0.999 | Valid accuracy: 0.544 | Valid F1-score: 0.469\n",
      "---\n",
      "\n",
      "Save model successfully\n"
     ]
    },
    {
     "name": "stderr",
     "output_type": "stream",
     "text": [
      "Epoch 5 training: 100%|██████████| 344/344 [00:01<00:00, 197.70it/s]\n"
     ]
    },
    {
     "name": "stdout",
     "output_type": "stream",
     "text": [
      "Train loss at epoch 5: 1.001\n",
      "---\n",
      "Valid loss: 0.992 | Valid accuracy: 0.551 | Valid F1-score: 0.481\n",
      "---\n",
      "\n",
      "Save model successfully\n"
     ]
    },
    {
     "name": "stderr",
     "output_type": "stream",
     "text": [
      "Epoch 6 training: 100%|██████████| 344/344 [00:01<00:00, 188.83it/s]\n"
     ]
    },
    {
     "name": "stdout",
     "output_type": "stream",
     "text": [
      "Train loss at epoch 6: 0.995\n",
      "---\n",
      "Valid loss: 0.987 | Valid accuracy: 0.558 | Valid F1-score: 0.494\n",
      "---\n",
      "\n",
      "Save model successfully\n"
     ]
    },
    {
     "name": "stderr",
     "output_type": "stream",
     "text": [
      "Epoch 7 training: 100%|██████████| 344/344 [00:01<00:00, 179.15it/s]\n"
     ]
    },
    {
     "name": "stdout",
     "output_type": "stream",
     "text": [
      "Train loss at epoch 7: 0.990\n",
      "---\n",
      "Valid loss: 0.984 | Valid accuracy: 0.563 | Valid F1-score: 0.506\n",
      "---\n",
      "\n",
      "Save model successfully\n"
     ]
    },
    {
     "name": "stderr",
     "output_type": "stream",
     "text": [
      "Epoch 8 training: 100%|██████████| 344/344 [00:01<00:00, 173.45it/s]\n"
     ]
    },
    {
     "name": "stdout",
     "output_type": "stream",
     "text": [
      "Train loss at epoch 8: 0.987\n",
      "---\n",
      "Valid loss: 0.980 | Valid accuracy: 0.567 | Valid F1-score: 0.514\n",
      "---\n",
      "\n",
      "Save model successfully\n"
     ]
    },
    {
     "name": "stderr",
     "output_type": "stream",
     "text": [
      "Epoch 9 training: 100%|██████████| 344/344 [00:01<00:00, 173.48it/s]\n"
     ]
    },
    {
     "name": "stdout",
     "output_type": "stream",
     "text": [
      "Train loss at epoch 9: 0.984\n",
      "---\n",
      "Valid loss: 0.977 | Valid accuracy: 0.573 | Valid F1-score: 0.524\n",
      "---\n",
      "\n",
      "Save model successfully\n"
     ]
    },
    {
     "name": "stderr",
     "output_type": "stream",
     "text": [
      "Epoch 10 training: 100%|██████████| 344/344 [00:01<00:00, 186.48it/s]\n"
     ]
    },
    {
     "name": "stdout",
     "output_type": "stream",
     "text": [
      "Train loss at epoch 10: 0.981\n",
      "---\n",
      "Valid loss: 0.975 | Valid accuracy: 0.575 | Valid F1-score: 0.529\n",
      "---\n",
      "\n",
      "Save model successfully\n"
     ]
    },
    {
     "name": "stderr",
     "output_type": "stream",
     "text": [
      "Epoch 11 training: 100%|██████████| 344/344 [00:01<00:00, 189.01it/s]\n"
     ]
    },
    {
     "name": "stdout",
     "output_type": "stream",
     "text": [
      "Train loss at epoch 11: 0.979\n",
      "---\n",
      "Valid loss: 0.973 | Valid accuracy: 0.579 | Valid F1-score: 0.537\n",
      "---\n",
      "\n",
      "Save model successfully\n"
     ]
    },
    {
     "name": "stderr",
     "output_type": "stream",
     "text": [
      "Epoch 12 training: 100%|██████████| 344/344 [00:01<00:00, 177.32it/s]\n"
     ]
    },
    {
     "name": "stdout",
     "output_type": "stream",
     "text": [
      "Train loss at epoch 12: 0.977\n",
      "---\n",
      "Valid loss: 0.971 | Valid accuracy: 0.584 | Valid F1-score: 0.545\n",
      "---\n",
      "\n",
      "Save model successfully\n"
     ]
    },
    {
     "name": "stderr",
     "output_type": "stream",
     "text": [
      "Epoch 13 training: 100%|██████████| 344/344 [00:01<00:00, 176.25it/s]\n"
     ]
    },
    {
     "name": "stdout",
     "output_type": "stream",
     "text": [
      "Train loss at epoch 13: 0.975\n",
      "---\n",
      "Valid loss: 0.970 | Valid accuracy: 0.585 | Valid F1-score: 0.548\n",
      "---\n",
      "\n",
      "Save model successfully\n"
     ]
    },
    {
     "name": "stderr",
     "output_type": "stream",
     "text": [
      "Epoch 14 training: 100%|██████████| 344/344 [00:02<00:00, 162.72it/s]\n"
     ]
    },
    {
     "name": "stdout",
     "output_type": "stream",
     "text": [
      "Train loss at epoch 14: 0.974\n",
      "---\n",
      "Valid loss: 0.969 | Valid accuracy: 0.587 | Valid F1-score: 0.553\n",
      "---\n",
      "\n",
      "Save model successfully\n"
     ]
    },
    {
     "name": "stderr",
     "output_type": "stream",
     "text": [
      "Epoch 15 training: 100%|██████████| 344/344 [00:01<00:00, 176.04it/s]\n"
     ]
    },
    {
     "name": "stdout",
     "output_type": "stream",
     "text": [
      "Train loss at epoch 15: 0.972\n",
      "---\n",
      "Valid loss: 0.968 | Valid accuracy: 0.589 | Valid F1-score: 0.557\n",
      "---\n",
      "\n",
      "Save model successfully\n"
     ]
    },
    {
     "name": "stderr",
     "output_type": "stream",
     "text": [
      "Epoch 16 training: 100%|██████████| 344/344 [00:01<00:00, 194.50it/s]\n"
     ]
    },
    {
     "name": "stdout",
     "output_type": "stream",
     "text": [
      "Train loss at epoch 16: 0.971\n",
      "---\n",
      "Valid loss: 0.967 | Valid accuracy: 0.593 | Valid F1-score: 0.563\n",
      "---\n",
      "\n",
      "Save model successfully\n"
     ]
    },
    {
     "name": "stderr",
     "output_type": "stream",
     "text": [
      "Epoch 17 training: 100%|██████████| 344/344 [00:01<00:00, 217.54it/s]\n"
     ]
    },
    {
     "name": "stdout",
     "output_type": "stream",
     "text": [
      "Train loss at epoch 17: 0.970\n",
      "---\n",
      "Valid loss: 0.966 | Valid accuracy: 0.595 | Valid F1-score: 0.567\n",
      "---\n",
      "\n",
      "Save model successfully\n"
     ]
    },
    {
     "name": "stderr",
     "output_type": "stream",
     "text": [
      "Epoch 18 training: 100%|██████████| 344/344 [00:01<00:00, 198.74it/s]\n"
     ]
    },
    {
     "name": "stdout",
     "output_type": "stream",
     "text": [
      "Train loss at epoch 18: 0.969\n",
      "---\n",
      "Valid loss: 0.965 | Valid accuracy: 0.598 | Valid F1-score: 0.572\n",
      "---\n",
      "\n",
      "Save model successfully\n"
     ]
    },
    {
     "name": "stderr",
     "output_type": "stream",
     "text": [
      "Epoch 19 training: 100%|██████████| 344/344 [00:01<00:00, 203.09it/s]\n"
     ]
    },
    {
     "name": "stdout",
     "output_type": "stream",
     "text": [
      "Train loss at epoch 19: 0.968\n",
      "---\n",
      "Valid loss: 0.964 | Valid accuracy: 0.598 | Valid F1-score: 0.572\n",
      "---\n",
      "\n"
     ]
    },
    {
     "name": "stderr",
     "output_type": "stream",
     "text": [
      "Epoch 20 training: 100%|██████████| 344/344 [00:01<00:00, 191.87it/s]\n"
     ]
    },
    {
     "name": "stdout",
     "output_type": "stream",
     "text": [
      "Train loss at epoch 20: 0.967\n",
      "---\n",
      "Valid loss: 0.964 | Valid accuracy: 0.600 | Valid F1-score: 0.576\n",
      "---\n",
      "\n",
      "Save model successfully\n"
     ]
    },
    {
     "name": "stderr",
     "output_type": "stream",
     "text": [
      "Epoch 21 training: 100%|██████████| 344/344 [00:01<00:00, 212.95it/s]\n"
     ]
    },
    {
     "name": "stdout",
     "output_type": "stream",
     "text": [
      "Train loss at epoch 21: 0.967\n",
      "---\n",
      "Valid loss: 0.963 | Valid accuracy: 0.600 | Valid F1-score: 0.578\n",
      "---\n",
      "\n",
      "Save model successfully\n"
     ]
    },
    {
     "name": "stderr",
     "output_type": "stream",
     "text": [
      "Epoch 22 training: 100%|██████████| 344/344 [00:01<00:00, 201.20it/s]\n"
     ]
    },
    {
     "name": "stdout",
     "output_type": "stream",
     "text": [
      "Train loss at epoch 22: 0.966\n",
      "---\n",
      "Valid loss: 0.963 | Valid accuracy: 0.601 | Valid F1-score: 0.579\n",
      "---\n",
      "\n",
      "Save model successfully\n"
     ]
    },
    {
     "name": "stderr",
     "output_type": "stream",
     "text": [
      "Epoch 23 training: 100%|██████████| 344/344 [00:01<00:00, 180.91it/s]\n"
     ]
    },
    {
     "name": "stdout",
     "output_type": "stream",
     "text": [
      "Train loss at epoch 23: 0.966\n",
      "---\n",
      "Valid loss: 0.962 | Valid accuracy: 0.602 | Valid F1-score: 0.581\n",
      "---\n",
      "\n",
      "Save model successfully\n"
     ]
    },
    {
     "name": "stderr",
     "output_type": "stream",
     "text": [
      "Epoch 24 training: 100%|██████████| 344/344 [00:01<00:00, 173.58it/s]\n"
     ]
    },
    {
     "name": "stdout",
     "output_type": "stream",
     "text": [
      "Train loss at epoch 24: 0.965\n",
      "---\n",
      "Valid loss: 0.962 | Valid accuracy: 0.602 | Valid F1-score: 0.582\n",
      "---\n",
      "\n"
     ]
    },
    {
     "name": "stderr",
     "output_type": "stream",
     "text": [
      "Epoch 25 training: 100%|██████████| 344/344 [00:02<00:00, 153.06it/s]\n"
     ]
    },
    {
     "name": "stdout",
     "output_type": "stream",
     "text": [
      "Train loss at epoch 25: 0.964\n",
      "---\n",
      "Valid loss: 0.961 | Valid accuracy: 0.603 | Valid F1-score: 0.583\n",
      "---\n",
      "\n",
      "Save model successfully\n"
     ]
    },
    {
     "name": "stderr",
     "output_type": "stream",
     "text": [
      "Epoch 26 training: 100%|██████████| 344/344 [00:01<00:00, 195.96it/s]\n"
     ]
    },
    {
     "name": "stdout",
     "output_type": "stream",
     "text": [
      "Train loss at epoch 26: 0.964\n",
      "---\n",
      "Valid loss: 0.961 | Valid accuracy: 0.604 | Valid F1-score: 0.585\n",
      "---\n",
      "\n",
      "Save model successfully\n"
     ]
    },
    {
     "name": "stderr",
     "output_type": "stream",
     "text": [
      "Epoch 27 training: 100%|██████████| 344/344 [00:02<00:00, 167.14it/s]\n"
     ]
    },
    {
     "name": "stdout",
     "output_type": "stream",
     "text": [
      "Train loss at epoch 27: 0.963\n",
      "---\n",
      "Valid loss: 0.961 | Valid accuracy: 0.605 | Valid F1-score: 0.586\n",
      "---\n",
      "\n",
      "Save model successfully\n"
     ]
    },
    {
     "name": "stderr",
     "output_type": "stream",
     "text": [
      "Epoch 28 training: 100%|██████████| 344/344 [00:01<00:00, 202.41it/s]\n"
     ]
    },
    {
     "name": "stdout",
     "output_type": "stream",
     "text": [
      "Train loss at epoch 28: 0.963\n",
      "---\n",
      "Valid loss: 0.960 | Valid accuracy: 0.606 | Valid F1-score: 0.589\n",
      "---\n",
      "\n",
      "Save model successfully\n"
     ]
    },
    {
     "name": "stderr",
     "output_type": "stream",
     "text": [
      "Epoch 29 training: 100%|██████████| 344/344 [00:01<00:00, 212.31it/s]\n"
     ]
    },
    {
     "name": "stdout",
     "output_type": "stream",
     "text": [
      "Train loss at epoch 29: 0.963\n",
      "---\n",
      "Valid loss: 0.960 | Valid accuracy: 0.607 | Valid F1-score: 0.590\n",
      "---\n",
      "\n",
      "Save model successfully\n"
     ]
    },
    {
     "name": "stderr",
     "output_type": "stream",
     "text": [
      "Epoch 30 training: 100%|██████████| 344/344 [00:02<00:00, 159.87it/s]\n"
     ]
    },
    {
     "name": "stdout",
     "output_type": "stream",
     "text": [
      "Train loss at epoch 30: 0.962\n",
      "---\n",
      "Valid loss: 0.960 | Valid accuracy: 0.605 | Valid F1-score: 0.589\n",
      "---\n",
      "\n"
     ]
    },
    {
     "name": "stderr",
     "output_type": "stream",
     "text": [
      "Epoch 31 training: 100%|██████████| 344/344 [00:01<00:00, 210.72it/s]\n"
     ]
    },
    {
     "name": "stdout",
     "output_type": "stream",
     "text": [
      "Train loss at epoch 31: 0.962\n",
      "---\n",
      "Valid loss: 0.959 | Valid accuracy: 0.608 | Valid F1-score: 0.592\n",
      "---\n",
      "\n",
      "Save model successfully\n"
     ]
    },
    {
     "name": "stderr",
     "output_type": "stream",
     "text": [
      "Epoch 32 training: 100%|██████████| 344/344 [00:01<00:00, 183.40it/s]\n"
     ]
    },
    {
     "name": "stdout",
     "output_type": "stream",
     "text": [
      "Train loss at epoch 32: 0.962\n",
      "---\n",
      "Valid loss: 0.959 | Valid accuracy: 0.608 | Valid F1-score: 0.593\n",
      "---\n",
      "\n",
      "Save model successfully\n"
     ]
    },
    {
     "name": "stderr",
     "output_type": "stream",
     "text": [
      "Epoch 33 training: 100%|██████████| 344/344 [00:02<00:00, 130.22it/s]\n"
     ]
    },
    {
     "name": "stdout",
     "output_type": "stream",
     "text": [
      "Train loss at epoch 33: 0.961\n",
      "---\n",
      "Valid loss: 0.959 | Valid accuracy: 0.609 | Valid F1-score: 0.594\n",
      "---\n",
      "\n",
      "Save model successfully\n"
     ]
    },
    {
     "name": "stderr",
     "output_type": "stream",
     "text": [
      "Epoch 34 training: 100%|██████████| 344/344 [00:02<00:00, 150.67it/s]\n"
     ]
    },
    {
     "name": "stdout",
     "output_type": "stream",
     "text": [
      "Train loss at epoch 34: 0.961\n",
      "---\n",
      "Valid loss: 0.959 | Valid accuracy: 0.608 | Valid F1-score: 0.593\n",
      "---\n",
      "\n"
     ]
    },
    {
     "name": "stderr",
     "output_type": "stream",
     "text": [
      "Epoch 35 training: 100%|██████████| 344/344 [00:01<00:00, 211.79it/s]\n"
     ]
    },
    {
     "name": "stdout",
     "output_type": "stream",
     "text": [
      "Train loss at epoch 35: 0.961\n",
      "---\n",
      "Valid loss: 0.959 | Valid accuracy: 0.609 | Valid F1-score: 0.595\n",
      "---\n",
      "\n"
     ]
    },
    {
     "name": "stderr",
     "output_type": "stream",
     "text": [
      "Epoch 36 training: 100%|██████████| 344/344 [00:01<00:00, 216.10it/s]\n"
     ]
    },
    {
     "name": "stdout",
     "output_type": "stream",
     "text": [
      "Train loss at epoch 36: 0.961\n",
      "---\n",
      "Valid loss: 0.958 | Valid accuracy: 0.609 | Valid F1-score: 0.596\n",
      "---\n",
      "\n",
      "Early stopping at epoch: 35\n"
     ]
    }
   ],
   "source": [
    "best_score = float(\"-inf\")\n",
    "patient = 3\n",
    "\n",
    "train_losses = []\n",
    "valid_acc_scores = []\n",
    "\n",
    "for epoch in range(num_epochs):\n",
    "    train_loss = train_fn(model, train_loader, epoch+1, show_progress=True)\n",
    "    acc_score, _ = evaluate_fn(model, valid_loader, \"Valid\")\n",
    "\n",
    "    train_losses.append(train_loss)\n",
    "    valid_acc_scores.append(acc_score)\n",
    "\n",
    "    if acc_score > best_score:\n",
    "        best_score = acc_score\n",
    "        torch.save(model.state_dict(), \"ME-model.pt\")\n",
    "        patient = 3\n",
    "        print(f\"Save model successfully\")\n",
    "    else:\n",
    "        patient -= 1\n",
    "        if patient <= 0:\n",
    "            print(f\"Early stopping at epoch: {epoch}\")\n",
    "            break"
   ]
  },
  {
   "cell_type": "markdown",
   "id": "816d31ae",
   "metadata": {},
   "source": [
    "## Step 4: Model evaluation"
   ]
  },
  {
   "cell_type": "markdown",
   "id": "5b20a749",
   "metadata": {},
   "source": [
    "### Load best model"
   ]
  },
  {
   "cell_type": "code",
   "execution_count": 58,
   "id": "a00cd11a",
   "metadata": {},
   "outputs": [
    {
     "data": {
      "text/plain": [
       "<All keys matched successfully>"
      ]
     },
     "execution_count": 58,
     "metadata": {},
     "output_type": "execute_result"
    }
   ],
   "source": [
    "model.load_state_dict(torch.load(\"ME-model.pt\", weights_only=True))"
   ]
  },
  {
   "cell_type": "markdown",
   "id": "1190bd2b",
   "metadata": {},
   "source": [
    "### Compute accuracy & F1-Score"
   ]
  },
  {
   "cell_type": "code",
   "execution_count": 59,
   "id": "1f0d0222",
   "metadata": {},
   "outputs": [
    {
     "name": "stdout",
     "output_type": "stream",
     "text": [
      "Test loss: 0.956 | Test accuracy: 0.603 | Test F1-score: 0.590\n",
      "---\n",
      "\n"
     ]
    },
    {
     "data": {
      "text/plain": [
       "(0.6032823995472553, 0.5895883059204081)"
      ]
     },
     "execution_count": 59,
     "metadata": {},
     "output_type": "execute_result"
    }
   ],
   "source": [
    "evaluate_fn(model, test_loader, \"Test\")"
   ]
  },
  {
   "cell_type": "code",
   "execution_count": 61,
   "id": "61061ed2",
   "metadata": {},
   "outputs": [
    {
     "data": {
      "image/png": "[encoded data removed]",
      "text/plain": [
       "<Figure size 1200x500 with 2 Axes>"
      ]
     },
     "metadata": {},
     "output_type": "display_data"
    }
   ],
   "source": [
    "epochs = list(range(1, len(train_losses)+1))\n",
    "\n",
    "fig, axes = plt.subplots(1, 2, figsize=(12, 5))\n",
    "\n",
    "axes[0].plot(epochs, train_losses, marker='o', linestyle='-', color='b', label='Train Loss')\n",
    "axes[0].set_xlabel(\"Epoch\")\n",
    "axes[0].set_ylabel(\"Loss\")\n",
    "axes[0].set_title(\"Training Loss over Epochs\")\n",
    "axes[0].grid(True)\n",
    "axes[0].legend()\n",
    "axes[0].set_xticks([epoch for epoch in epochs if epoch % 4 == 0])\n",
    "\n",
    "axes[1].plot(epochs, valid_acc_scores, marker='o', linestyle='-', color='b', label='Evaluation Accuracy')\n",
    "axes[1].set_xlabel(\"Epoch\")\n",
    "axes[1].set_ylabel(\"Loss\")\n",
    "axes[1].set_title(\"Evaluation Accuracy over Epochs\")\n",
    "axes[1].grid(True)\n",
    "axes[1].legend()\n",
    "axes[1].set_xticks([epoch for epoch in epochs if epoch % 4 == 0])\n",
    "\n",
    "plt.tight_layout()\n",
    "plt.show()"
   ]
  },
  {
   "cell_type": "markdown",
   "id": "407f5e62",
   "metadata": {},
   "source": [
    "### Draw AUC - ROC curves"
   ]
  },
  {
   "cell_type": "code",
   "execution_count": 62,
   "id": "1741cf95",
   "metadata": {},
   "outputs": [
    {
     "data": {
      "image/png": "[encoded data removed]",
      "text/plain": [
       "<Figure size 800x600 with 1 Axes>"
      ]
     },
     "metadata": {},
     "output_type": "display_data"
    }
   ],
   "source": [
    "from visualization import plot_roc_auc, plot_confusion_matrix\n",
    "\n",
    "y_prob, y_true = evaluate_fn(model, test_loader, \"Test\", returned_predictions=True)\n",
    "y_pred = np.argmax(y_prob, axis=1)\n",
    "y_prob.shape, y_true.shape, y_pred.shape\n",
    "\n",
    "plot_roc_auc(y_true, y_prob, classes=['negative', 'neutral', 'positive'])"
   ]
  },
  {
   "cell_type": "markdown",
   "id": "571e8c5a",
   "metadata": {},
   "source": [
    "### Plot confusion matrix"
   ]
  },
  {
   "cell_type": "code",
   "execution_count": 63,
   "id": "f8ba5dc6",
   "metadata": {},
   "outputs": [
    {
     "data": {
      "image/png": "[encoded data removed]",
      "text/plain": [
       "<Figure size 600x600 with 2 Axes>"
      ]
     },
     "metadata": {},
     "output_type": "display_data"
    }
   ],
   "source": [
    "plot_confusion_matrix(y_true, y_pred, class_labels=['negative', 'neutral', 'positive'])"
   ]
  }
 ],
 "metadata": {
  "kernelspec": {
   "display_name": "Env_for_pytorch",
   "language": "python",
   "name": "python3"
  },
  "language_info": {
   "codemirror_mode": {
    "name": "ipython",
    "version": 3
   },
   "file_extension": ".py",
   "mimetype": "text/x-python",
   "name": "python",
   "nbconvert_exporter": "python",
   "pygments_lexer": "ipython3",
   "version": "3.9.21"
  }
 },
 "nbformat": 4,
 "nbformat_minor": 5
}
