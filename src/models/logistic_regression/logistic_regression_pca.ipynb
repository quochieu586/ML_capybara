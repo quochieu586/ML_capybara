{
 "cells": [
  {
   "cell_type": "markdown",
   "id": "20c47095",
   "metadata": {},
   "source": [
    "## Stage 1: import dataset + libraries"
   ]
  },
  {
   "cell_type": "code",
   "execution_count": 34,
   "id": "d084ffda",
   "metadata": {},
   "outputs": [],
   "source": [
    "import sys\n",
    "import os\n",
    "import torch\n",
    "import torch.nn as nn\n",
    "import torch.optim as optim\n",
    "from datasets import Dataset\n",
    "from torch.utils.data import DataLoader\n",
    "import numpy as np\n",
    "from tqdm import tqdm\n",
    "from sklearn.metrics import accuracy_score, f1_score\n",
    "import matplotlib.pyplot as plt\n",
    "\n",
    "sys.path.append(os.path.abspath(os.path.join(os.getcwd(), \"..\", \"..\")))\n",
    "from data import Preprocessing, FeatureExtraction\n",
    "from models.dimension_reduction import PCA, WordEmbeddingVectors"
   ]
  },
  {
   "cell_type": "code",
   "execution_count": 2,
   "id": "1e0a9f01",
   "metadata": {},
   "outputs": [
    {
     "name": "stdout",
     "output_type": "stream",
     "text": [
      "✓ 'punkt' is already available.\n",
      "✓ 'stopwords' is already available.\n",
      "✗ 'wordnet' not found. Downloading...\n",
      "✓ 'averaged_perceptron_tagger' is already available.\n"
     ]
    },
    {
     "name": "stderr",
     "output_type": "stream",
     "text": [
      "[nltk_data] Downloading package wordnet to\n",
      "[nltk_data]     /Users/tranquochieu/nltk_data...\n",
      "[nltk_data]   Package wordnet is already up-to-date!\n"
     ]
    },
    {
     "data": {
      "text/plain": [
       "((27480, 10), (3534, 9))"
      ]
     },
     "execution_count": 2,
     "metadata": {},
     "output_type": "execute_result"
    }
   ],
   "source": [
    "prepro_tool = Preprocessing()\n",
    "train_df = prepro_tool.read_CSV(file_name='train.csv')\n",
    "test_df = prepro_tool.read_CSV(file_name='test.csv')\n",
    "\n",
    "train_df.shape, test_df.shape"
   ]
  },
  {
   "cell_type": "markdown",
   "id": "4c1e690d",
   "metadata": {},
   "source": [
    "## Stage 2: Preprocessing"
   ]
  },
  {
   "cell_type": "code",
   "execution_count": 3,
   "id": "72e7a582",
   "metadata": {},
   "outputs": [],
   "source": [
    "train_df['token'] = train_df['text'].apply(prepro_tool.tokenize_preprocessing)\n",
    "test_df['token'] = test_df['text'].apply(prepro_tool.tokenize_preprocessing)"
   ]
  },
  {
   "cell_type": "code",
   "execution_count": 4,
   "id": "f07b3c4d",
   "metadata": {},
   "outputs": [
    {
     "name": "stdout",
     "output_type": "stream",
     "text": [
      "/Users/tranquochieu/Documents/Pycharm project/ML_Cabapyra_new/data/.DS_Store\n",
      "/Users/tranquochieu/Documents/Pycharm project/ML_Cabapyra_new/data/test.csv\n",
      "/Users/tranquochieu/Documents/Pycharm project/ML_Cabapyra_new/data/fasttext_subwords_300.kv\n",
      "/Users/tranquochieu/Documents/Pycharm project/ML_Cabapyra_new/data/train.csv\n",
      "/Users/tranquochieu/Documents/Pycharm project/ML_Cabapyra_new/data/fasttext_subwords_300.kv.vectors.npy\n",
      "Loader model successfully ! Vector size: 300\n"
     ]
    },
    {
     "data": {
      "text/plain": [
       "(27480, 300)"
      ]
     },
     "execution_count": 4,
     "metadata": {},
     "output_type": "execute_result"
    }
   ],
   "source": [
    "word_emb_model = WordEmbeddingVectors()\n",
    "\n",
    "X_train_feature = word_emb_model.vectorize(train_df['token'])\n",
    "X_test_feature = word_emb_model.vectorize(test_df['token'])\n",
    "\n",
    "X_train_feature.shape"
   ]
  },
  {
   "cell_type": "code",
   "execution_count": 5,
   "id": "91af1c60",
   "metadata": {},
   "outputs": [
    {
     "data": {
      "text/plain": [
       "{'textID': 'cb774db0d1',\n",
       " 'text': ' I`d have responded, if I were going',\n",
       " 'selected_text': 'I`d have responded, if I were going',\n",
       " 'sentiment': 'neutral',\n",
       " 'Time of Tweet': 'morning',\n",
       " 'Age of User': '0-20',\n",
       " 'Country': 'Afghanistan',\n",
       " 'Population -2020': 38928346,\n",
       " 'Land Area (Kmï¿½)': 652860.0,\n",
       " 'Density (P/Kmï¿½)': 60,\n",
       " 'token': ['id', 'responded', 'going'],\n",
       " '__index_level_0__': 0}"
      ]
     },
     "execution_count": 5,
     "metadata": {},
     "output_type": "execute_result"
    }
   ],
   "source": [
    "train_data = Dataset.from_pandas(train_df)\n",
    "test_data = Dataset.from_pandas(test_df)\n",
    "\n",
    "train_data[0]"
   ]
  },
  {
   "cell_type": "code",
   "execution_count": 6,
   "id": "f86cda3e",
   "metadata": {},
   "outputs": [
    {
     "data": {
      "application/vnd.jupyter.widget-view+json": {
       "model_id": "e707890d50a347d5bb9944ed94fcc418",
       "version_major": 2,
       "version_minor": 0
      },
      "text/plain": [
       "Map:   0%|          | 0/27480 [00:00<?, ? examples/s]"
      ]
     },
     "metadata": {},
     "output_type": "display_data"
    },
    {
     "data": {
      "application/vnd.jupyter.widget-view+json": {
       "model_id": "056e978b58404eabab03899747e4d98b",
       "version_major": 2,
       "version_minor": 0
      },
      "text/plain": [
       "Map:   0%|          | 0/3534 [00:00<?, ? examples/s]"
      ]
     },
     "metadata": {},
     "output_type": "display_data"
    },
    {
     "data": {
      "text/plain": [
       "{'textID': 'cb774db0d1',\n",
       " 'text': ' I`d have responded, if I were going',\n",
       " 'selected_text': 'I`d have responded, if I were going',\n",
       " 'sentiment': 'neutral',\n",
       " 'Time of Tweet': 'morning',\n",
       " 'Age of User': '0-20',\n",
       " 'Country': 'Afghanistan',\n",
       " 'Population -2020': 38928346,\n",
       " 'Land Area (Kmï¿½)': 652860.0,\n",
       " 'Density (P/Kmï¿½)': 60,\n",
       " 'token': ['id', 'responded', 'going'],\n",
       " '__index_level_0__': 0,\n",
       " 'label': 1}"
      ]
     },
     "execution_count": 6,
     "metadata": {},
     "output_type": "execute_result"
    }
   ],
   "source": [
    "train_data = train_data.map(lambda ex: {'label': 2 if ex['sentiment'] == 'positive' else \\\n",
    "                                        1 if ex['sentiment'] == 'neutral' else 0 })\n",
    "test_data = test_data.map(lambda ex: {'label': 2 if ex['sentiment'] == 'positive' else \\\n",
    "                                        1 if ex['sentiment'] == 'neutral' else 0 })\n",
    "\n",
    "train_data[0]"
   ]
  },
  {
   "cell_type": "markdown",
   "id": "9eac0862",
   "metadata": {},
   "source": [
    "### Load number of samples for each class"
   ]
  },
  {
   "cell_type": "code",
   "execution_count": 7,
   "id": "28250251",
   "metadata": {},
   "outputs": [
    {
     "name": "stderr",
     "output_type": "stream",
     "text": [
      "/var/folders/cy/hxjg9r351_99ytx8k04pq_4c0000gn/T/ipykernel_12023/3149057442.py:18: UserWarning: This figure includes Axes that are not compatible with tight_layout, so results might be incorrect.\n",
      "  plt.tight_layout()\n"
     ]
    },
    {
     "data": {
      "image/png": "[encoded data removed]",
      "text/plain": [
       "<Figure size 1200x500 with 2 Axes>"
      ]
     },
     "metadata": {},
     "output_type": "display_data"
    }
   ],
   "source": [
    "from typing import Counter\n",
    "import matplotlib.pyplot as plt\n",
    "\n",
    "fig, axs = plt.subplots(1, 2, figsize=(12, 5), gridspec_kw={'wspace': 0.3})\n",
    "\n",
    "counter = Counter(train_data['sentiment'])\n",
    "axs[0].bar(counter.keys(), counter.values())\n",
    "axs[0].set_title(\"Classes distribution in Train Data\")\n",
    "axs[0].set_xlabel(\"Labels\")\n",
    "axs[0].set_ylabel(\"Counts\")\n",
    "\n",
    "counter = Counter(test_data['sentiment'])\n",
    "axs[1].bar(counter.keys(), counter.values())\n",
    "axs[1].set_title(\"Classes distribution in Test Data\")\n",
    "axs[1].set_xlabel(\"Labels\")\n",
    "axs[1].set_ylabel(\"Counts\")\n",
    "\n",
    "plt.tight_layout()\n",
    "plt.show()"
   ]
  },
  {
   "cell_type": "code",
   "execution_count": 8,
   "id": "2ba2a3bf",
   "metadata": {},
   "outputs": [
    {
     "name": "stdout",
     "output_type": "stream",
     "text": [
      "PCA keep 30 components correponding to keep 0.6041049003758305 of total variance\n"
     ]
    },
    {
     "data": {
      "text/plain": [
       "((27480, 30), (3534, 30))"
      ]
     },
     "execution_count": 8,
     "metadata": {},
     "output_type": "execute_result"
    }
   ],
   "source": [
    "pca = PCA()\n",
    "pca.fit_by_amount_of_variance(X_train_feature, threshold=0.60)\n",
    "X_train_pca = pca.transform(X_train_feature)\n",
    "X_test_pca = pca.transform(X_test_feature)\n",
    "X_train_pca.shape, X_test_pca.shape"
   ]
  },
  {
   "cell_type": "code",
   "execution_count": 9,
   "id": "968efd86",
   "metadata": {},
   "outputs": [
    {
     "data": {
      "application/vnd.jupyter.widget-view+json": {
       "model_id": "f21d9bc728e84e44aea92922b1f84a6a",
       "version_major": 2,
       "version_minor": 0
      },
      "text/plain": [
       "Map:   0%|          | 0/27480 [00:00<?, ? examples/s]"
      ]
     },
     "metadata": {},
     "output_type": "display_data"
    },
    {
     "data": {
      "application/vnd.jupyter.widget-view+json": {
       "model_id": "50cd38931c614574b494a4844ab63038",
       "version_major": 2,
       "version_minor": 0
      },
      "text/plain": [
       "Map:   0%|          | 0/3534 [00:00<?, ? examples/s]"
      ]
     },
     "metadata": {},
     "output_type": "display_data"
    },
    {
     "data": {
      "text/plain": [
       "dict_keys(['textID', 'text', 'selected_text', 'sentiment', 'Time of Tweet', 'Age of User', 'Country', 'Population -2020', 'Land Area (Kmï¿½)', 'Density (P/Kmï¿½)', 'token', '__index_level_0__', 'label', 'word_emb'])"
      ]
     },
     "execution_count": 9,
     "metadata": {},
     "output_type": "execute_result"
    }
   ],
   "source": [
    "def add_word_emb(example, idx, word_emb_feature):\n",
    "    return {'word_emb': word_emb_feature[idx]}\n",
    "\n",
    "train_data = train_data.map(add_word_emb, with_indices=True, fn_kwargs={'word_emb_feature': X_train_pca})\n",
    "test_data = test_data.map(add_word_emb, with_indices=True, fn_kwargs={'word_emb_feature': X_test_pca})\n",
    "train_data[0].keys()"
   ]
  },
  {
   "cell_type": "code",
   "execution_count": 10,
   "id": "4bfab4d0",
   "metadata": {},
   "outputs": [
    {
     "name": "stdout",
     "output_type": "stream",
     "text": [
      "device: cpu\n"
     ]
    },
    {
     "data": {
      "text/plain": [
       "{'label': tensor(1),\n",
       " 'word_emb': tensor([ 1.2310e-01,  2.4837e-02,  1.1891e-01,  1.5579e-03,  1.3482e-02,\n",
       "          1.5395e-01, -8.3569e-02,  1.2180e-02, -1.8979e-02,  2.6572e-02,\n",
       "          4.1992e-02,  3.8605e-03,  3.1661e-02, -2.1165e-02,  6.1739e-03,\n",
       "         -5.5911e-02,  3.6463e-02, -2.4762e-02,  1.4160e-01, -3.5847e-02,\n",
       "          6.3852e-02,  3.4121e-02,  2.3564e-02,  1.1071e-02,  6.8148e-02,\n",
       "         -2.3234e-03, -2.6106e-02, -1.3778e-04,  5.7717e-03,  5.1433e-02])}"
      ]
     },
     "execution_count": 10,
     "metadata": {},
     "output_type": "execute_result"
    }
   ],
   "source": [
    "device = \"cuda\" if torch.cuda.is_available() else \"cpu\"\n",
    "print(f\"device: {device}\")\n",
    "train_data.set_format(type=\"torch\", columns=['word_emb', 'label'])\n",
    "test_data.set_format(type=\"torch\", columns=['word_emb', 'label'])\n",
    "train_data[0]"
   ]
  },
  {
   "cell_type": "markdown",
   "id": "ab9640f0",
   "metadata": {},
   "source": [
    "### Split data into train and valid set"
   ]
  },
  {
   "cell_type": "code",
   "execution_count": 11,
   "id": "d8c72fa6",
   "metadata": {},
   "outputs": [
    {
     "data": {
      "text/plain": [
       "((21984, 14), (5496, 14), (3534, 13))"
      ]
     },
     "execution_count": 11,
     "metadata": {},
     "output_type": "execute_result"
    }
   ],
   "source": [
    "train_dict = Dataset.train_test_split(train_data, test_size=0.2, shuffle=True, seed=2025)\n",
    "train_data = train_dict['train']\n",
    "valid_data = train_dict['test']\n",
    "\n",
    "train_data.shape, valid_data.shape, test_data.shape"
   ]
  },
  {
   "cell_type": "markdown",
   "id": "0d7d92d6",
   "metadata": {},
   "source": [
    "## Step 3: Build Model\n",
    "\n",
    "- We build a simple Logistic Regression model using neural network block from **torch**."
   ]
  },
  {
   "cell_type": "code",
   "execution_count": 12,
   "id": "a6b7997b",
   "metadata": {},
   "outputs": [],
   "source": [
    "class LogisticReg(nn.Module):\n",
    "    def __init__(self, input_size, output_size):\n",
    "        super().__init__()\n",
    "        self.fc = nn.Linear(input_size, output_size)\n",
    "        self.relu = nn.ReLU()\n",
    "        self.softmax = nn.Softmax(dim=1)\n",
    "\n",
    "    def forward(self, X):       # X shape: (N, input_size) => (N, output_size)\n",
    "        X = self.fc(X)\n",
    "        X = self.relu(X)\n",
    "        return self.softmax(X)"
   ]
  },
  {
   "cell_type": "markdown",
   "id": "95b27d55",
   "metadata": {},
   "source": [
    "## Step 4: Training model"
   ]
  },
  {
   "cell_type": "markdown",
   "id": "bd6ddd9e",
   "metadata": {},
   "source": [
    "### Load data into batch"
   ]
  },
  {
   "cell_type": "code",
   "execution_count": 41,
   "id": "96d5caf2",
   "metadata": {},
   "outputs": [
    {
     "data": {
      "text/plain": [
       "(344, 86, 56)"
      ]
     },
     "execution_count": 41,
     "metadata": {},
     "output_type": "execute_result"
    }
   ],
   "source": [
    "input_size = list(train_data[0]['word_emb'].size())[0]\n",
    "output_size = 3\n",
    "batch_size = 64\n",
    "\n",
    "train_loader = DataLoader(train_data, batch_size=batch_size, shuffle=True)\n",
    "valid_loader = DataLoader(valid_data, batch_size=batch_size, shuffle=True)\n",
    "test_loader = DataLoader(test_data, batch_size=batch_size, shuffle=True)\n",
    "\n",
    "len(train_loader), len(valid_loader), len(test_loader)"
   ]
  },
  {
   "cell_type": "markdown",
   "id": "078d0f8f",
   "metadata": {},
   "source": [
    "### Define train and loss functions"
   ]
  },
  {
   "cell_type": "code",
   "execution_count": 20,
   "id": "283392cc",
   "metadata": {},
   "outputs": [],
   "source": [
    "def train_fn(model, loader, epoch, optimizer, criteria, show_progress=False):\n",
    "    model.train()\n",
    "    epoch_loss = 0\n",
    "    progress = tqdm(loader, desc=f\"Epoch {epoch} training\") if show_progress else loader\n",
    "    for batch in progress:\n",
    "        input = batch['word_emb'].to(device)\n",
    "        label = batch['label'].to(device)\n",
    "        output = model(input)\n",
    "\n",
    "        loss = criteria(output, label)\n",
    "        loss.backward()\n",
    "        optimizer.step()\n",
    "        optimizer.zero_grad()\n",
    "\n",
    "        epoch_loss += loss\n",
    "    \n",
    "    if show_progress:\n",
    "        print(f\"Train loss at epoch {epoch}: {(epoch_loss / len(loader)):.3f}\\n---\")\n",
    "    return epoch_loss / len(loader)\n",
    "\n",
    "\n",
    "def accuracy_eval(outputs, labels):\n",
    "    predictions = np.argmax(outputs, axis=1)\n",
    "    return accuracy_score(labels, predictions)\n",
    "\n",
    "\n",
    "def f1_score_eval(outputs, labels):\n",
    "    predictions = np.argmax(outputs, axis=1)\n",
    "    return f1_score(labels, predictions, average='weighted')\n",
    "\n",
    "\n",
    "def evaluate_fn(model, loader, name, criteria, returned_predictions=False, show_progress=False):\n",
    "    \"\"\"\n",
    "    if returned_predictions is True, return the predictions and labels\n",
    "    else return the accuracy and f1 score\n",
    "    \"\"\"\n",
    "    model.eval()\n",
    "    valid_loss = 0\n",
    "    all_outputs = []\n",
    "    all_labels = []\n",
    "\n",
    "    with torch.no_grad():\n",
    "        progress = tqdm(loader, desc=f\"Evaluating on {name.lower()} data\") if show_progress else loader\n",
    "        for batch in progress:\n",
    "            input = batch['word_emb'].to(device)\n",
    "            label = batch['label'].to(device)\n",
    "            output = model(input)\n",
    "\n",
    "            loss = criteria(output, label)\n",
    "            valid_loss += loss\n",
    "\n",
    "            all_outputs.extend(output.detach().cpu().numpy())\n",
    "            all_labels.extend(label.detach().cpu().numpy())\n",
    "    \n",
    "    if returned_predictions:\n",
    "        return np.array(all_outputs), np.array(all_labels)\n",
    "        \n",
    "    acc_score = accuracy_eval(all_outputs, all_labels)\n",
    "    f1_score = f1_score_eval(all_outputs, all_labels)\n",
    "    if show_progress:\n",
    "        print(f\"{name} loss: {(valid_loss / len(loader)):.3f} | {name} \\\n",
    "              accuracy: {acc_score:.3f} | {name} F1-score: {f1_score:.3f}\\n---\\n\")\n",
    "    return acc_score, f1_score"
   ]
  },
  {
   "cell_type": "markdown",
   "id": "cbdea808",
   "metadata": {},
   "source": [
    "### Model tuning"
   ]
  },
  {
   "cell_type": "code",
   "execution_count": 42,
   "id": "c7b8a4d5",
   "metadata": {},
   "outputs": [
    {
     "name": "stderr",
     "output_type": "stream",
     "text": [
      "[I 2025-05-18 17:03:38,497] A new study created in memory with name: no-name-85b54ee7-0735-40d5-92ce-c938cfee36d6\n",
      "100%|██████████| 20/20 [00:52<00:00,  2.61s/it]\n",
      "[I 2025-05-18 17:04:30,766] Trial 0 finished with value: 0.6257278020378457 and parameters: {'learning_rate': 33, 'stop_iter': 5}. Best is trial 0 with value: 0.6257278020378457.\n",
      "100%|██████████| 20/20 [00:40<00:00,  2.05s/it]\n",
      "[I 2025-05-18 17:05:11,706] Trial 1 finished with value: 0.5846069868995634 and parameters: {'learning_rate': 6, 'stop_iter': 9}. Best is trial 0 with value: 0.6257278020378457.\n",
      "100%|██████████| 20/20 [00:43<00:00,  2.19s/it]\n",
      "[I 2025-05-18 17:05:55,584] Trial 2 finished with value: 0.6069868995633187 and parameters: {'learning_rate': 13, 'stop_iter': 4}. Best is trial 0 with value: 0.6257278020378457.\n",
      "100%|██████████| 20/20 [00:40<00:00,  2.02s/it]\n",
      "[I 2025-05-18 17:06:36,047] Trial 3 finished with value: 0.5940684133915575 and parameters: {'learning_rate': 8, 'stop_iter': 6}. Best is trial 0 with value: 0.6257278020378457.\n",
      "100%|██████████| 20/20 [00:45<00:00,  2.27s/it]\n",
      "[I 2025-05-18 17:07:21,553] Trial 4 finished with value: 0.6022561863173217 and parameters: {'learning_rate': 10, 'stop_iter': 3}. Best is trial 0 with value: 0.6257278020378457.\n",
      "100%|██████████| 20/20 [00:51<00:00,  2.58s/it]\n",
      "[I 2025-05-18 17:08:13,183] Trial 5 finished with value: 0.6077147016011645 and parameters: {'learning_rate': 14, 'stop_iter': 10}. Best is trial 0 with value: 0.6257278020378457.\n",
      " 55%|█████▌    | 11/20 [00:25<00:20,  2.31s/it]\n",
      "[I 2025-05-18 17:08:38,621] Trial 6 finished with value: 0.4814410480349345 and parameters: {'learning_rate': 50, 'stop_iter': 3}. Best is trial 0 with value: 0.6257278020378457.\n"
     ]
    },
    {
     "name": "stdout",
     "output_type": "stream",
     "text": [
      "Early stopping at epoch: 11\n"
     ]
    },
    {
     "name": "stderr",
     "output_type": "stream",
     "text": [
      "100%|██████████| 20/20 [00:40<00:00,  2.04s/it]\n",
      "[I 2025-05-18 17:09:19,357] Trial 7 finished with value: 0.6246360989810772 and parameters: {'learning_rate': 30, 'stop_iter': 8}. Best is trial 0 with value: 0.6257278020378457.\n",
      "100%|██████████| 20/20 [00:41<00:00,  2.07s/it]\n",
      "[I 2025-05-18 17:10:00,856] Trial 8 finished with value: 0.6280931586608443 and parameters: {'learning_rate': 41, 'stop_iter': 7}. Best is trial 8 with value: 0.6280931586608443.\n",
      "100%|██████████| 20/20 [00:44<00:00,  2.23s/it]\n",
      "[I 2025-05-18 17:10:45,441] Trial 9 finished with value: 0.6022561863173217 and parameters: {'learning_rate': 10, 'stop_iter': 7}. Best is trial 8 with value: 0.6280931586608443.\n"
     ]
    }
   ],
   "source": [
    "from hyperparameter_tunning import *\n",
    "import optuna\n",
    "\n",
    "tuning_epochs = 20\n",
    "n_trials = 10\n",
    "\n",
    "lr_suggest = IntVariableSuggestion(\"learning_rate\", 1, 50)\n",
    "stopIter_sugest = IntVariableSuggestion(\"stop_iter\", 3, 10)\n",
    "\n",
    "def objective(trial):\n",
    "    lr = lr_suggest.get_suggest(trial)\n",
    "    lr *= 5e-4\n",
    "    stop_iter = stopIter_sugest.get_suggest(trial)\n",
    "\n",
    "    torch.manual_seed(2025)\n",
    "    model = LogisticReg(input_size, output_size)\n",
    "    optimizer = optim.Adam(model.parameters(), lr=lr)\n",
    "    criteria = nn.CrossEntropyLoss()\n",
    "\n",
    "    best_score = float(\"-inf\")\n",
    "    patient = stop_iter\n",
    "\n",
    "    for epoch in tqdm(range(tuning_epochs)):\n",
    "        train_fn(model, train_loader, epoch, optimizer, criteria)\n",
    "        acc_score, _ = evaluate_fn(model, valid_loader, f\"Valid epoch {epoch}\", criteria)\n",
    "\n",
    "        if acc_score > best_score:\n",
    "            best_score = acc_score\n",
    "            patient = stop_iter\n",
    "        else:\n",
    "            patient -= 1\n",
    "            if patient <= 0:\n",
    "                print(f\"Early stopping at epoch: {epoch}\")\n",
    "                break\n",
    "\n",
    "    return best_score\n",
    "\n",
    "study = optuna.create_study(direction='maximize')\n",
    "study.optimize(objective, n_trials=n_trials, timeout=600)"
   ]
  },
  {
   "cell_type": "code",
   "execution_count": 55,
   "id": "f19d0ffd",
   "metadata": {},
   "outputs": [
    {
     "name": "stdout",
     "output_type": "stream",
     "text": [
      "Best params:\n",
      "lr = 0.041 | stop iter:7\n"
     ]
    },
    {
     "data": {
      "text/plain": [
       "LogisticReg(\n",
       "  (fc): Linear(in_features=30, out_features=3, bias=True)\n",
       "  (relu): ReLU()\n",
       "  (softmax): Softmax(dim=1)\n",
       ")"
      ]
     },
     "execution_count": 55,
     "metadata": {},
     "output_type": "execute_result"
    }
   ],
   "source": [
    "learning_rate = study.best_params['learning_rate'] * 1e-3\n",
    "stop_iter = study.best_params['stop_iter']\n",
    "# learning_rate = 2e-3\n",
    "# stop_iter = 3\n",
    "print(f\"Best params:\\nlr = {learning_rate} | stop iter:{stop_iter}\")\n",
    "\n",
    "train_epoch = 100\n",
    "\n",
    "torch.manual_seed(2025)\n",
    "model = LogisticReg(input_size, output_size)\n",
    "optimizer = optim.Adam(model.parameters(), lr=learning_rate)\n",
    "criteria = nn.CrossEntropyLoss()\n",
    "model.to(device)"
   ]
  },
  {
   "cell_type": "code",
   "execution_count": 56,
   "id": "b71f89d6",
   "metadata": {},
   "outputs": [
    {
     "name": "stderr",
     "output_type": "stream",
     "text": [
      "Epoch 1 training: 100%|██████████| 344/344 [00:02<00:00, 162.84it/s]\n"
     ]
    },
    {
     "name": "stdout",
     "output_type": "stream",
     "text": [
      "Train loss at epoch 1: 1.026\n",
      "---\n"
     ]
    },
    {
     "name": "stderr",
     "output_type": "stream",
     "text": [
      "Evaluating on valid data: 100%|██████████| 86/86 [00:00<00:00, 212.83it/s]\n"
     ]
    },
    {
     "name": "stdout",
     "output_type": "stream",
     "text": [
      "Valid loss: 0.980 | Valid               accuracy: 0.563 | Valid F1-score: 0.508\n",
      "---\n",
      "\n",
      "Save model successfully\n"
     ]
    },
    {
     "name": "stderr",
     "output_type": "stream",
     "text": [
      "Epoch 2 training: 100%|██████████| 344/344 [00:01<00:00, 183.43it/s]\n"
     ]
    },
    {
     "name": "stdout",
     "output_type": "stream",
     "text": [
      "Train loss at epoch 2: 0.976\n",
      "---\n"
     ]
    },
    {
     "name": "stderr",
     "output_type": "stream",
     "text": [
      "Evaluating on valid data: 100%|██████████| 86/86 [00:00<00:00, 218.33it/s]\n"
     ]
    },
    {
     "name": "stdout",
     "output_type": "stream",
     "text": [
      "Valid loss: 0.966 | Valid               accuracy: 0.598 | Valid F1-score: 0.570\n",
      "---\n",
      "\n",
      "Save model successfully\n"
     ]
    },
    {
     "name": "stderr",
     "output_type": "stream",
     "text": [
      "Epoch 3 training: 100%|██████████| 344/344 [00:01<00:00, 172.98it/s]\n"
     ]
    },
    {
     "name": "stdout",
     "output_type": "stream",
     "text": [
      "Train loss at epoch 3: 0.967\n",
      "---\n"
     ]
    },
    {
     "name": "stderr",
     "output_type": "stream",
     "text": [
      "Evaluating on valid data: 100%|██████████| 86/86 [00:00<00:00, 211.11it/s]\n"
     ]
    },
    {
     "name": "stdout",
     "output_type": "stream",
     "text": [
      "Valid loss: 0.961 | Valid               accuracy: 0.598 | Valid F1-score: 0.576\n",
      "---\n",
      "\n",
      "Save model successfully\n"
     ]
    },
    {
     "name": "stderr",
     "output_type": "stream",
     "text": [
      "Epoch 4 training: 100%|██████████| 344/344 [00:01<00:00, 180.05it/s]\n"
     ]
    },
    {
     "name": "stdout",
     "output_type": "stream",
     "text": [
      "Train loss at epoch 4: 0.963\n",
      "---\n"
     ]
    },
    {
     "name": "stderr",
     "output_type": "stream",
     "text": [
      "Evaluating on valid data: 100%|██████████| 86/86 [00:00<00:00, 183.85it/s]\n"
     ]
    },
    {
     "name": "stdout",
     "output_type": "stream",
     "text": [
      "Valid loss: 0.958 | Valid               accuracy: 0.609 | Valid F1-score: 0.595\n",
      "---\n",
      "\n",
      "Save model successfully\n"
     ]
    },
    {
     "name": "stderr",
     "output_type": "stream",
     "text": [
      "Epoch 5 training: 100%|██████████| 344/344 [00:01<00:00, 181.67it/s]\n"
     ]
    },
    {
     "name": "stdout",
     "output_type": "stream",
     "text": [
      "Train loss at epoch 5: 0.960\n",
      "---\n"
     ]
    },
    {
     "name": "stderr",
     "output_type": "stream",
     "text": [
      "Evaluating on valid data: 100%|██████████| 86/86 [00:00<00:00, 233.02it/s]\n"
     ]
    },
    {
     "name": "stdout",
     "output_type": "stream",
     "text": [
      "Valid loss: 0.956 | Valid               accuracy: 0.612 | Valid F1-score: 0.599\n",
      "---\n",
      "\n",
      "Save model successfully\n"
     ]
    },
    {
     "name": "stderr",
     "output_type": "stream",
     "text": [
      "Epoch 6 training: 100%|██████████| 344/344 [00:01<00:00, 177.24it/s]\n"
     ]
    },
    {
     "name": "stdout",
     "output_type": "stream",
     "text": [
      "Train loss at epoch 6: 0.958\n",
      "---\n"
     ]
    },
    {
     "name": "stderr",
     "output_type": "stream",
     "text": [
      "Evaluating on valid data: 100%|██████████| 86/86 [00:00<00:00, 220.50it/s]\n"
     ]
    },
    {
     "name": "stdout",
     "output_type": "stream",
     "text": [
      "Valid loss: 0.955 | Valid               accuracy: 0.613 | Valid F1-score: 0.602\n",
      "---\n",
      "\n",
      "Save model successfully\n"
     ]
    },
    {
     "name": "stderr",
     "output_type": "stream",
     "text": [
      "Epoch 7 training: 100%|██████████| 344/344 [00:01<00:00, 203.99it/s]\n"
     ]
    },
    {
     "name": "stdout",
     "output_type": "stream",
     "text": [
      "Train loss at epoch 7: 0.957\n",
      "---\n"
     ]
    },
    {
     "name": "stderr",
     "output_type": "stream",
     "text": [
      "Evaluating on valid data: 100%|██████████| 86/86 [00:00<00:00, 234.18it/s]\n"
     ]
    },
    {
     "name": "stdout",
     "output_type": "stream",
     "text": [
      "Valid loss: 0.955 | Valid               accuracy: 0.625 | Valid F1-score: 0.618\n",
      "---\n",
      "\n",
      "Save model successfully\n"
     ]
    },
    {
     "name": "stderr",
     "output_type": "stream",
     "text": [
      "Epoch 8 training: 100%|██████████| 344/344 [00:01<00:00, 196.72it/s]\n"
     ]
    },
    {
     "name": "stdout",
     "output_type": "stream",
     "text": [
      "Train loss at epoch 8: 0.956\n",
      "---\n"
     ]
    },
    {
     "name": "stderr",
     "output_type": "stream",
     "text": [
      "Evaluating on valid data: 100%|██████████| 86/86 [00:00<00:00, 170.65it/s]\n"
     ]
    },
    {
     "name": "stdout",
     "output_type": "stream",
     "text": [
      "Valid loss: 0.953 | Valid               accuracy: 0.622 | Valid F1-score: 0.615\n",
      "---\n",
      "\n"
     ]
    },
    {
     "name": "stderr",
     "output_type": "stream",
     "text": [
      "Epoch 9 training: 100%|██████████| 344/344 [00:01<00:00, 184.58it/s]\n"
     ]
    },
    {
     "name": "stdout",
     "output_type": "stream",
     "text": [
      "Train loss at epoch 9: 0.955\n",
      "---\n"
     ]
    },
    {
     "name": "stderr",
     "output_type": "stream",
     "text": [
      "Evaluating on valid data: 100%|██████████| 86/86 [00:00<00:00, 236.42it/s]\n"
     ]
    },
    {
     "name": "stdout",
     "output_type": "stream",
     "text": [
      "Valid loss: 0.953 | Valid               accuracy: 0.626 | Valid F1-score: 0.620\n",
      "---\n",
      "\n",
      "Save model successfully\n"
     ]
    },
    {
     "name": "stderr",
     "output_type": "stream",
     "text": [
      "Epoch 10 training: 100%|██████████| 344/344 [00:01<00:00, 184.66it/s]\n"
     ]
    },
    {
     "name": "stdout",
     "output_type": "stream",
     "text": [
      "Train loss at epoch 10: 0.954\n",
      "---\n"
     ]
    },
    {
     "name": "stderr",
     "output_type": "stream",
     "text": [
      "Evaluating on valid data: 100%|██████████| 86/86 [00:00<00:00, 218.14it/s]\n"
     ]
    },
    {
     "name": "stdout",
     "output_type": "stream",
     "text": [
      "Valid loss: 0.952 | Valid               accuracy: 0.628 | Valid F1-score: 0.623\n",
      "---\n",
      "\n",
      "Save model successfully\n"
     ]
    },
    {
     "name": "stderr",
     "output_type": "stream",
     "text": [
      "Epoch 11 training: 100%|██████████| 344/344 [00:01<00:00, 179.92it/s]\n"
     ]
    },
    {
     "name": "stdout",
     "output_type": "stream",
     "text": [
      "Train loss at epoch 11: 0.953\n",
      "---\n"
     ]
    },
    {
     "name": "stderr",
     "output_type": "stream",
     "text": [
      "Evaluating on valid data: 100%|██████████| 86/86 [00:00<00:00, 234.92it/s]\n"
     ]
    },
    {
     "name": "stdout",
     "output_type": "stream",
     "text": [
      "Valid loss: 0.952 | Valid               accuracy: 0.626 | Valid F1-score: 0.620\n",
      "---\n",
      "\n"
     ]
    },
    {
     "name": "stderr",
     "output_type": "stream",
     "text": [
      "Epoch 12 training: 100%|██████████| 344/344 [00:01<00:00, 173.97it/s]\n"
     ]
    },
    {
     "name": "stdout",
     "output_type": "stream",
     "text": [
      "Train loss at epoch 12: 0.953\n",
      "---\n"
     ]
    },
    {
     "name": "stderr",
     "output_type": "stream",
     "text": [
      "Evaluating on valid data: 100%|██████████| 86/86 [00:00<00:00, 234.15it/s]\n"
     ]
    },
    {
     "name": "stdout",
     "output_type": "stream",
     "text": [
      "Valid loss: 0.951 | Valid               accuracy: 0.627 | Valid F1-score: 0.623\n",
      "---\n",
      "\n"
     ]
    },
    {
     "name": "stderr",
     "output_type": "stream",
     "text": [
      "Epoch 13 training: 100%|██████████| 344/344 [00:01<00:00, 172.48it/s]\n"
     ]
    },
    {
     "name": "stdout",
     "output_type": "stream",
     "text": [
      "Train loss at epoch 13: 0.952\n",
      "---\n"
     ]
    },
    {
     "name": "stderr",
     "output_type": "stream",
     "text": [
      "Evaluating on valid data: 100%|██████████| 86/86 [00:00<00:00, 203.87it/s]\n"
     ]
    },
    {
     "name": "stdout",
     "output_type": "stream",
     "text": [
      "Valid loss: 0.951 | Valid               accuracy: 0.627 | Valid F1-score: 0.623\n",
      "---\n",
      "\n"
     ]
    },
    {
     "name": "stderr",
     "output_type": "stream",
     "text": [
      "Epoch 14 training: 100%|██████████| 344/344 [00:02<00:00, 167.91it/s]\n"
     ]
    },
    {
     "name": "stdout",
     "output_type": "stream",
     "text": [
      "Train loss at epoch 14: 0.952\n",
      "---\n"
     ]
    },
    {
     "name": "stderr",
     "output_type": "stream",
     "text": [
      "Evaluating on valid data: 100%|██████████| 86/86 [00:00<00:00, 167.21it/s]\n"
     ]
    },
    {
     "name": "stdout",
     "output_type": "stream",
     "text": [
      "Valid loss: 0.952 | Valid               accuracy: 0.630 | Valid F1-score: 0.626\n",
      "---\n",
      "\n",
      "Save model successfully\n"
     ]
    },
    {
     "name": "stderr",
     "output_type": "stream",
     "text": [
      "Epoch 15 training: 100%|██████████| 344/344 [00:02<00:00, 170.85it/s]\n"
     ]
    },
    {
     "name": "stdout",
     "output_type": "stream",
     "text": [
      "Train loss at epoch 15: 0.952\n",
      "---\n"
     ]
    },
    {
     "name": "stderr",
     "output_type": "stream",
     "text": [
      "Evaluating on valid data: 100%|██████████| 86/86 [00:00<00:00, 235.77it/s]\n"
     ]
    },
    {
     "name": "stdout",
     "output_type": "stream",
     "text": [
      "Valid loss: 0.951 | Valid               accuracy: 0.628 | Valid F1-score: 0.624\n",
      "---\n",
      "\n"
     ]
    },
    {
     "name": "stderr",
     "output_type": "stream",
     "text": [
      "Epoch 16 training: 100%|██████████| 344/344 [00:01<00:00, 191.97it/s]\n"
     ]
    },
    {
     "name": "stdout",
     "output_type": "stream",
     "text": [
      "Train loss at epoch 16: 0.951\n",
      "---\n"
     ]
    },
    {
     "name": "stderr",
     "output_type": "stream",
     "text": [
      "Evaluating on valid data: 100%|██████████| 86/86 [00:00<00:00, 216.40it/s]\n"
     ]
    },
    {
     "name": "stdout",
     "output_type": "stream",
     "text": [
      "Valid loss: 0.951 | Valid               accuracy: 0.629 | Valid F1-score: 0.626\n",
      "---\n",
      "\n"
     ]
    },
    {
     "name": "stderr",
     "output_type": "stream",
     "text": [
      "Epoch 17 training: 100%|██████████| 344/344 [00:01<00:00, 184.00it/s]\n"
     ]
    },
    {
     "name": "stdout",
     "output_type": "stream",
     "text": [
      "Train loss at epoch 17: 0.951\n",
      "---\n"
     ]
    },
    {
     "name": "stderr",
     "output_type": "stream",
     "text": [
      "Evaluating on valid data: 100%|██████████| 86/86 [00:00<00:00, 220.03it/s]\n"
     ]
    },
    {
     "name": "stdout",
     "output_type": "stream",
     "text": [
      "Valid loss: 0.950 | Valid               accuracy: 0.628 | Valid F1-score: 0.624\n",
      "---\n",
      "\n"
     ]
    },
    {
     "name": "stderr",
     "output_type": "stream",
     "text": [
      "Epoch 18 training: 100%|██████████| 344/344 [00:02<00:00, 166.37it/s]\n"
     ]
    },
    {
     "name": "stdout",
     "output_type": "stream",
     "text": [
      "Train loss at epoch 18: 0.951\n",
      "---\n"
     ]
    },
    {
     "name": "stderr",
     "output_type": "stream",
     "text": [
      "Evaluating on valid data: 100%|██████████| 86/86 [00:00<00:00, 226.00it/s]\n"
     ]
    },
    {
     "name": "stdout",
     "output_type": "stream",
     "text": [
      "Valid loss: 0.951 | Valid               accuracy: 0.626 | Valid F1-score: 0.622\n",
      "---\n",
      "\n"
     ]
    },
    {
     "name": "stderr",
     "output_type": "stream",
     "text": [
      "Epoch 19 training: 100%|██████████| 344/344 [00:01<00:00, 198.81it/s]\n"
     ]
    },
    {
     "name": "stdout",
     "output_type": "stream",
     "text": [
      "Train loss at epoch 19: 0.950\n",
      "---\n"
     ]
    },
    {
     "name": "stderr",
     "output_type": "stream",
     "text": [
      "Evaluating on valid data: 100%|██████████| 86/86 [00:00<00:00, 230.83it/s]\n"
     ]
    },
    {
     "name": "stdout",
     "output_type": "stream",
     "text": [
      "Valid loss: 0.951 | Valid               accuracy: 0.629 | Valid F1-score: 0.627\n",
      "---\n",
      "\n"
     ]
    },
    {
     "name": "stderr",
     "output_type": "stream",
     "text": [
      "Epoch 20 training: 100%|██████████| 344/344 [00:01<00:00, 177.64it/s]\n"
     ]
    },
    {
     "name": "stdout",
     "output_type": "stream",
     "text": [
      "Train loss at epoch 20: 0.950\n",
      "---\n"
     ]
    },
    {
     "name": "stderr",
     "output_type": "stream",
     "text": [
      "Evaluating on valid data: 100%|██████████| 86/86 [00:00<00:00, 229.23it/s]\n"
     ]
    },
    {
     "name": "stdout",
     "output_type": "stream",
     "text": [
      "Valid loss: 0.950 | Valid               accuracy: 0.627 | Valid F1-score: 0.624\n",
      "---\n",
      "\n"
     ]
    },
    {
     "name": "stderr",
     "output_type": "stream",
     "text": [
      "Epoch 21 training: 100%|██████████| 344/344 [00:01<00:00, 188.89it/s]\n"
     ]
    },
    {
     "name": "stdout",
     "output_type": "stream",
     "text": [
      "Train loss at epoch 21: 0.950\n",
      "---\n"
     ]
    },
    {
     "name": "stderr",
     "output_type": "stream",
     "text": [
      "Evaluating on valid data: 100%|██████████| 86/86 [00:00<00:00, 181.58it/s]"
     ]
    },
    {
     "name": "stdout",
     "output_type": "stream",
     "text": [
      "Valid loss: 0.950 | Valid               accuracy: 0.630 | Valid F1-score: 0.627\n",
      "---\n",
      "\n",
      "Early stopping at epoch: 20\n"
     ]
    },
    {
     "name": "stderr",
     "output_type": "stream",
     "text": [
      "\n"
     ]
    }
   ],
   "source": [
    "best_score = float(\"-inf\")\n",
    "patient = stop_iter\n",
    "\n",
    "train_losses = []\n",
    "valid_acc_scores = []\n",
    "\n",
    "for epoch in range(train_epoch):\n",
    "    train_loss = train_fn(model, train_loader, epoch+1, optimizer, criteria, show_progress=True)\n",
    "    acc_score, _ = evaluate_fn(model, valid_loader, \"Valid\", criteria, show_progress=True)\n",
    "\n",
    "    train_losses.append(train_loss)\n",
    "    valid_acc_scores.append(acc_score)\n",
    "\n",
    "    if acc_score > best_score:\n",
    "        best_score = acc_score\n",
    "        torch.save(model.state_dict(), \"ME-model.pt\")\n",
    "        patient = stop_iter\n",
    "        print(f\"Save model successfully\")\n",
    "    else:\n",
    "        patient -= 1\n",
    "        if patient <= 0:\n",
    "            print(f\"Early stopping at epoch: {epoch}\")\n",
    "            break"
   ]
  },
  {
   "cell_type": "markdown",
   "id": "816d31ae",
   "metadata": {},
   "source": [
    "## Step 4: Model evaluation"
   ]
  },
  {
   "cell_type": "markdown",
   "id": "5b20a749",
   "metadata": {},
   "source": [
    "### Load best model"
   ]
  },
  {
   "cell_type": "code",
   "execution_count": 57,
   "id": "a00cd11a",
   "metadata": {},
   "outputs": [
    {
     "data": {
      "text/plain": [
       "<All keys matched successfully>"
      ]
     },
     "execution_count": 57,
     "metadata": {},
     "output_type": "execute_result"
    }
   ],
   "source": [
    "model.load_state_dict(torch.load(\"ME-model.pt\", weights_only=True))"
   ]
  },
  {
   "cell_type": "markdown",
   "id": "1190bd2b",
   "metadata": {},
   "source": [
    "### Compute accuracy & F1-Score"
   ]
  },
  {
   "cell_type": "code",
   "execution_count": 58,
   "id": "1f0d0222",
   "metadata": {},
   "outputs": [
    {
     "name": "stdout",
     "output_type": "stream",
     "text": [
      "accuracy score: 0.6347 | f1 score: 0.6315\n"
     ]
    }
   ],
   "source": [
    "test_acc, test_f1 = evaluate_fn(model, test_loader, \"Test\", criteria)\n",
    "print(f\"accuracy score: {test_acc:.4f} | f1 score: {test_f1:.4f}\")"
   ]
  },
  {
   "cell_type": "code",
   "execution_count": 59,
   "id": "5a623f55",
   "metadata": {},
   "outputs": [],
   "source": [
    "train_losses = [loss.detach().cpu().numpy() for loss in train_losses]"
   ]
  },
  {
   "cell_type": "code",
   "execution_count": 60,
   "id": "61061ed2",
   "metadata": {},
   "outputs": [
    {
     "data": {
      "image/png": "[encoded data removed]",
      "text/plain": [
       "<Figure size 1200x500 with 2 Axes>"
      ]
     },
     "metadata": {},
     "output_type": "display_data"
    }
   ],
   "source": [
    "epochs = list(range(1, len(train_losses)+1))\n",
    "\n",
    "fig, axes = plt.subplots(1, 2, figsize=(12, 5))\n",
    "\n",
    "axes[0].plot(epochs, train_losses, marker='o', linestyle='-', color='b', label='Train Loss')\n",
    "axes[0].set_xlabel(\"Epoch\")\n",
    "axes[0].set_ylabel(\"Loss\")\n",
    "axes[0].set_title(\"Training Loss over Epochs\")\n",
    "axes[0].grid(True)\n",
    "axes[0].legend()\n",
    "axes[0].set_xticks([epoch for epoch in epochs if epoch % 4 == 0])\n",
    "\n",
    "axes[1].plot(epochs, valid_acc_scores, marker='o', linestyle='-', color='b', label='Evaluation Accuracy')\n",
    "axes[1].set_xlabel(\"Epoch\")\n",
    "axes[1].set_ylabel(\"Loss\")\n",
    "axes[1].set_title(\"Evaluation Accuracy over Epochs\")\n",
    "axes[1].grid(True)\n",
    "axes[1].legend()\n",
    "axes[1].set_xticks([epoch for epoch in epochs if epoch % 4 == 0])\n",
    "\n",
    "plt.tight_layout()\n",
    "plt.show()"
   ]
  },
  {
   "cell_type": "markdown",
   "id": "407f5e62",
   "metadata": {},
   "source": [
    "### Draw AUC - ROC curves"
   ]
  },
  {
   "cell_type": "code",
   "execution_count": 61,
   "id": "1741cf95",
   "metadata": {},
   "outputs": [
    {
     "data": {
      "image/png": "[encoded data removed]",
      "text/plain": [
       "<Figure size 800x600 with 1 Axes>"
      ]
     },
     "metadata": {},
     "output_type": "display_data"
    }
   ],
   "source": [
    "from visualization import plot_roc_auc, plot_confusion_matrix\n",
    "\n",
    "y_prob, y_true = evaluate_fn(model, test_loader, \"Test\", criteria, returned_predictions=True)\n",
    "y_pred = np.argmax(y_prob, axis=1)\n",
    "y_prob.shape, y_true.shape, y_pred.shape\n",
    "\n",
    "plot_roc_auc(y_true, y_prob, classes=['negative', 'neutral', 'positive'])"
   ]
  },
  {
   "cell_type": "markdown",
   "id": "571e8c5a",
   "metadata": {},
   "source": [
    "### Plot confusion matrix"
   ]
  },
  {
   "cell_type": "code",
   "execution_count": 62,
   "id": "f8ba5dc6",
   "metadata": {},
   "outputs": [
    {
     "data": {
      "image/png": "[encoded data removed]",
      "text/plain": [
       "<Figure size 600x600 with 2 Axes>"
      ]
     },
     "metadata": {},
     "output_type": "display_data"
    }
   ],
   "source": [
    "plot_confusion_matrix(y_true, y_pred, class_labels=['negative', 'neutral', 'positive'])"
   ]
  }
 ],
 "metadata": {
  "kernelspec": {
   "display_name": "Env_for_pytorch",
   "language": "python",
   "name": "python3"
  },
  "language_info": {
   "codemirror_mode": {
    "name": "ipython",
    "version": 3
   },
   "file_extension": ".py",
   "mimetype": "text/x-python",
   "name": "python",
   "nbconvert_exporter": "python",
   "pygments_lexer": "ipython3",
   "version": "3.9.21"
  }
 },
 "nbformat": 4,
 "nbformat_minor": 5
}
