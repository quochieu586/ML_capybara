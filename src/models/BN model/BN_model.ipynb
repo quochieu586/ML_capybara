{
 "cells": [
  {
   "cell_type": "markdown",
   "id": "6f77df9e",
   "metadata": {},
   "source": [
    "### **Preprocessing Setup**  \n",
    "\n",
    "Imports necessary libraries and downloads  **NLTK resources** for text preprocessing.  "
   ]
  },
  {
   "cell_type": "code",
   "execution_count": 12,
   "id": "initial_id",
   "metadata": {
    "collapsed": true
   },
   "outputs": [
    {
     "name": "stderr",
     "output_type": "stream",
     "text": [
      "[nltk_data] Downloading package punkt to C:\\Users\\ANH\n",
      "[nltk_data]     KHOA\\AppData\\Roaming\\nltk_data...\n",
      "[nltk_data]   Package punkt is already up-to-date!\n",
      "[nltk_data] Downloading package stopwords to C:\\Users\\ANH\n",
      "[nltk_data]     KHOA\\AppData\\Roaming\\nltk_data...\n",
      "[nltk_data]   Package stopwords is already up-to-date!\n",
      "[nltk_data] Downloading package punkt_tab to C:\\Users\\ANH\n",
      "[nltk_data]     KHOA\\AppData\\Roaming\\nltk_data...\n",
      "[nltk_data]   Package punkt_tab is already up-to-date!\n",
      "[nltk_data] Downloading package wordnet to C:\\Users\\ANH\n",
      "[nltk_data]     KHOA\\AppData\\Roaming\\nltk_data...\n",
      "[nltk_data]   Package wordnet is already up-to-date!\n"
     ]
    },
    {
     "data": {
      "text/plain": [
       "True"
      ]
     },
     "execution_count": 12,
     "metadata": {},
     "output_type": "execute_result"
    }
   ],
   "source": [
    "import nltk\n",
    "import re\n",
    "import string\n",
    "from collections import Counter\n",
    "from nltk.corpus import stopwords\n",
    "from nltk.stem import WordNetLemmatizer\n",
    "import pandas as pd\n",
    "nltk.download('punkt') \n",
    "nltk.download('stopwords')\n",
    "nltk.download('punkt_tab')\n",
    "nltk.download('wordnet')\n",
    "\n"
   ]
  },
  {
   "cell_type": "markdown",
   "id": "f30aec16",
   "metadata": {},
   "source": [
    "### **Setting Up the Project Path for Imports**"
   ]
  },
  {
   "cell_type": "code",
   "execution_count": 13,
   "id": "f3e4db34",
   "metadata": {},
   "outputs": [
    {
     "name": "stdout",
     "output_type": "stream",
     "text": [
      "d:\\HCMUT\\Courses\\HK242\\ML\\ML_capybara\\src\\models\\BN model\n"
     ]
    }
   ],
   "source": [
    "import os\n",
    "import sys\n",
    "print(os.getcwd())\n",
    "project_root = os.path.abspath(os.path.join(os.getcwd(), \"../../../\")) \n",
    "sys.path.append(project_root)  # Ensure src/ is found"
   ]
  },
  {
   "cell_type": "markdown",
   "id": "46025aa2",
   "metadata": {},
   "source": [
    "### **Loading Dataset and Train the Bayesian Network**\n"
   ]
  },
  {
   "cell_type": "code",
   "execution_count": 14,
   "id": "1135dcea",
   "metadata": {},
   "outputs": [],
   "source": [
    "from src.models.BN_model import SentimentBayesianNetwork  \n",
    "from src.data.preprocess import Preprocessing  \n",
    "from sklearn.model_selection import train_test_split\n",
    "\n",
    "# Load dataset\n",
    "pre_proc = Preprocessing()\n",
    "file_path = 'test.csv'\n",
    "df = pre_proc.read_CSV(file_path)\n",
    "\n",
    "\n",
    "train_df, test_df = train_test_split(df, test_size=0.9, random_state=42, stratify=df['sentiment'])\n",
    "# Train the model\n",
    "model = SentimentBayesianNetwork(train_df, pre_proc)\n"
   ]
  },
  {
   "cell_type": "markdown",
   "id": "7f9474ef",
   "metadata": {},
   "source": [
    "### **Evaluating the Sentiment Bayesian Network Model**\n",
    "\n",
    "Computes metrics: **F1-score, and a confusion matrix** to evaluate the model.\n"
   ]
  },
  {
   "cell_type": "code",
   "execution_count": 15,
   "id": "d2c9cdb9",
   "metadata": {},
   "outputs": [
    {
     "name": "stdout",
     "output_type": "stream",
     "text": [
      "\n",
      "Model F1-score (Weighted): 0.3840\n",
      "Model Accuracy: 0.3878\n",
      "\n",
      "Classification Report:\n",
      "               precision    recall  f1-score   support\n",
      "\n",
      "    negative       0.31      0.52      0.39       246\n",
      "     neutral       0.35      0.23      0.28       360\n",
      "    positive       0.56      0.47      0.51       294\n",
      "\n",
      "    accuracy                           0.39       900\n",
      "   macro avg       0.41      0.41      0.39       900\n",
      "weighted avg       0.41      0.39      0.38       900\n",
      "\n"
     ]
    },
    {
     "data": {
      "image/png": "[encoded data removed]",
      "text/plain": [
       "<Figure size 600x500 with 2 Axes>"
      ]
     },
     "metadata": {},
     "output_type": "display_data"
    }
   ],
   "source": [
    "import matplotlib.pyplot as plt\n",
    "import seaborn as sns\n",
    "from sklearn.metrics import confusion_matrix, accuracy_score, classification_report,f1_score\n",
    "true_labels = test_df['sentiment'].tolist()\n",
    "\n",
    "predicted_labels = []\n",
    "for text in test_df['text']:\n",
    "    probs, labels = model.infer(text)  \n",
    "    predicted_sentiment = labels[probs.argmax()]  \n",
    "    predicted_labels.append(predicted_sentiment)\n",
    "\n",
    "# Compute statistic\n",
    "cm = confusion_matrix(true_labels, predicted_labels, labels=labels)\n",
    "f1 = f1_score(true_labels, predicted_labels, average='weighted')\n",
    "report = classification_report(true_labels, predicted_labels, target_names=labels)\n",
    "\n",
    "print(f\"\\nModel F1-score (Weighted): {f1:.4f}\")\n",
    "print(\"\\nClassification Report:\\n\", report)\n",
    "\n",
    "plt.figure(figsize=(6, 5))\n",
    "sns.heatmap(cm, annot=True, fmt='d', cmap='Blues', xticklabels=labels, yticklabels=labels)\n",
    "plt.xlabel(\"Predicted Label\")\n",
    "plt.ylabel(\"True Label\")\n",
    "plt.title(\"Confusion Matrix\")\n",
    "plt.show()"
   ]
  }
 ],
 "metadata": {
  "kernelspec": {
   "display_name": "venv",
   "language": "python",
   "name": "python3"
  },
  "language_info": {
   "codemirror_mode": {
    "name": "ipython",
    "version": 3
   },
   "file_extension": ".py",
   "mimetype": "text/x-python",
   "name": "python",
   "nbconvert_exporter": "python",
   "pygments_lexer": "ipython3",
   "version": "3.11.3"
  }
 },
 "nbformat": 4,
 "nbformat_minor": 5
}
